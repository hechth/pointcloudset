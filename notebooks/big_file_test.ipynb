{
 "metadata": {
  "language_info": {
   "codemirror_mode": {
    "name": "ipython",
    "version": 3
   },
   "file_extension": ".py",
   "mimetype": "text/x-python",
   "name": "python",
   "nbconvert_exporter": "python",
   "pygments_lexer": "ipython3",
   "version": "3.7.4-final"
  },
  "orig_nbformat": 2,
  "kernelspec": {
   "name": "python3",
   "display_name": "Python 3.7.4 64-bit ('base': conda)",
   "metadata": {
    "interpreter": {
     "hash": "98b0a9b7b4eaaa670588a142fd0a9b87eaafe866f1db4228be72b4211d12040f"
    }
   }
  }
 },
 "nbformat": 4,
 "nbformat_minor": 2,
 "cells": [
  {
   "cell_type": "code",
   "execution_count": 5,
   "metadata": {},
   "outputs": [
    {
     "output_type": "stream",
     "name": "stderr",
     "text": [
      "/opt/conda/lib/python3.7/site-packages/distributed/node.py:155: UserWarning: Port 8787 is already in use.\n",
      "Perhaps you already have a cluster running?\n",
      "Hosting the HTTP server on port 43205 instead\n",
      "  http_address[\"port\"], self.http_server.port\n",
      "The autoreload extension is already loaded. To reload it, use:\n",
      "  %reload_ext autoreload\n"
     ]
    }
   ],
   "source": [
    "import lidar\n",
    "import rosbag\n",
    "from pathlib import Path\n",
    "from dask.distributed import Client\n",
    "from dask import delayed\n",
    "import dask.dataframe as dd\n",
    "import dask\n",
    "\n",
    "client = Client()  # start distributed scheduler locally.  Launch dashboard\n",
    "%load_ext autoreload\n",
    "%autoreload 2\n",
    "%config IPCompleter.greedy=True"
   ]
  },
  {
   "cell_type": "code",
   "execution_count": 6,
   "metadata": {},
   "outputs": [],
   "source": [
    "bagfile = \"/workspaces/lidar/tests/testdata/big.bag\""
   ]
  },
  {
   "cell_type": "code",
   "execution_count": 7,
   "metadata": {},
   "outputs": [
    {
     "output_type": "stream",
     "name": "stdout",
     "text": [
      "CPU times: user 12.3 s, sys: 3.77 s, total: 16.1 s\nWall time: 13.3 s\n"
     ]
    },
    {
     "output_type": "execute_result",
     "data": {
      "text/plain": [
       "<rosbag.bag.Bag at 0x7f584414d950>"
      ]
     },
     "metadata": {},
     "execution_count": 7
    }
   ],
   "source": [
    "%%time\n",
    "rosbag.Bag(bagfile)"
   ]
  },
  {
   "cell_type": "code",
   "execution_count": 8,
   "metadata": {},
   "outputs": [
    {
     "output_type": "stream",
     "name": "stdout",
     "text": [
      "[0 1 2 3 4 5 6 7 8]\n",
      "  0%|          | 0/9 [00:00<?, ?it/s]0\n",
      " 11%|█         | 1/9 [00:00<00:03,  2.61it/s]1\n",
      " 22%|██▏       | 2/9 [00:00<00:02,  2.68it/s]2\n",
      " 33%|███▎      | 3/9 [00:01<00:02,  2.75it/s]3\n",
      " 44%|████▍     | 4/9 [00:01<00:01,  2.78it/s]4\n",
      " 56%|█████▌    | 5/9 [00:01<00:01,  2.80it/s]5\n",
      " 67%|██████▋   | 6/9 [00:02<00:01,  2.83it/s]6\n",
      " 78%|███████▊  | 7/9 [00:02<00:00,  2.73it/s]7\n",
      " 89%|████████▉ | 8/9 [00:02<00:00,  2.77it/s]8\n",
      "100%|██████████| 9/9 [00:03<00:00,  2.81it/s]\n",
      "[ 9 10 11 12 13 14 15 16]\n",
      "  0%|          | 0/8 [00:00<?, ?it/s]9\n",
      " 12%|█▎        | 1/8 [00:00<00:02,  2.58it/s]10\n",
      " 25%|██▌       | 2/8 [00:00<00:02,  2.67it/s]11\n",
      " 38%|███▊      | 3/8 [00:01<00:01,  2.73it/s]12\n",
      " 50%|█████     | 4/8 [00:01<00:01,  2.77it/s]13\n",
      " 62%|██████▎   | 5/8 [00:01<00:01,  2.78it/s]14\n",
      " 75%|███████▌  | 6/8 [00:02<00:00,  2.73it/s]15\n",
      " 88%|████████▊ | 7/8 [00:02<00:00,  2.62it/s]16\n",
      "100%|██████████| 8/8 [00:02<00:00,  2.72it/s]\n",
      "[17 18 19 20 21 22 23 24]\n",
      "  0%|          | 0/8 [00:00<?, ?it/s]17\n",
      " 12%|█▎        | 1/8 [00:00<00:02,  2.43it/s]18\n",
      " 25%|██▌       | 2/8 [00:00<00:02,  2.61it/s]19\n",
      " 38%|███▊      | 3/8 [00:01<00:01,  2.71it/s]20\n",
      " 50%|█████     | 4/8 [00:01<00:01,  2.85it/s]21\n",
      " 62%|██████▎   | 5/8 [00:01<00:01,  2.97it/s]22\n",
      " 75%|███████▌  | 6/8 [00:02<00:00,  2.95it/s]23\n",
      " 88%|████████▊ | 7/8 [00:02<00:00,  2.99it/s]24\n",
      "100%|██████████| 8/8 [00:02<00:00,  2.98it/s]CPU times: user 20.6 s, sys: 3.01 s, total: 23.6 s\n",
      "Wall time: 20.5 s\n",
      "\n"
     ]
    }
   ],
   "source": [
    "%%time\n",
    "test0= lidar.Dataset.from_file(Path(bagfile), start_frame_number = 0, end_frame_number = 25)"
   ]
  },
  {
   "cell_type": "code",
   "execution_count": 9,
   "metadata": {},
   "outputs": [
    {
     "output_type": "execute_result",
     "data": {
      "text/plain": [
       "25"
      ]
     },
     "metadata": {},
     "execution_count": 9
    }
   ],
   "source": [
    "len(test0)"
   ]
  },
  {
   "cell_type": "code",
   "execution_count": 14,
   "metadata": {},
   "outputs": [
    {
     "output_type": "stream",
     "name": "stderr",
     "text": [
      "  0%|          | 0/9 [00:00<?, ?it/s]11\n",
      " 11%|█         | 1/9 [00:00<00:05,  1.45it/s]12\n",
      " 22%|██▏       | 2/9 [00:01<00:04,  1.51it/s]13\n",
      " 33%|███▎      | 3/9 [00:01<00:03,  1.54it/s]14\n",
      " 44%|████▍     | 4/9 [00:02<00:03,  1.55it/s]15\n",
      " 56%|█████▌    | 5/9 [00:03<00:02,  1.52it/s]16\n",
      " 67%|██████▋   | 6/9 [00:03<00:01,  1.53it/s]17\n",
      " 78%|███████▊  | 7/9 [00:04<00:01,  1.57it/s]18\n",
      " 89%|████████▉ | 8/9 [00:05<00:00,  1.59it/s]19\n",
      "100%|██████████| 9/9 [00:05<00:00,  1.58it/s]\n"
     ]
    }
   ],
   "source": [
    "test1 = lidar.Dataset.from_file(Path(bagfile), start_frame_number = 11, end_frame_number = 20)"
   ]
  },
  {
   "cell_type": "code",
   "execution_count": 15,
   "metadata": {},
   "outputs": [
    {
     "output_type": "execute_result",
     "data": {
      "text/plain": [
       "10"
      ]
     },
     "metadata": {},
     "execution_count": 15
    }
   ],
   "source": [
    "len(test0)"
   ]
  },
  {
   "cell_type": "code",
   "execution_count": 16,
   "metadata": {},
   "outputs": [
    {
     "output_type": "execute_result",
     "data": {
      "text/plain": [
       "9"
      ]
     },
     "metadata": {},
     "execution_count": 16
    }
   ],
   "source": [
    "len(test1)"
   ]
  },
  {
   "cell_type": "code",
   "execution_count": 8,
   "metadata": {},
   "outputs": [],
   "source": [
    "import numpy as np\n",
    "max_size = 10\n",
    "length = 25\n",
    "test = np.arange(length)\n",
    "\n",
    "result = np.array_split(test, (len(test) // max_size)+1)"
   ]
  },
  {
   "cell_type": "code",
   "execution_count": 9,
   "metadata": {},
   "outputs": [
    {
     "output_type": "execute_result",
     "data": {
      "text/plain": [
       "[array([0, 1, 2, 3, 4, 5, 6, 7, 8]),\n",
       " array([ 9, 10, 11, 12, 13, 14, 15, 16]),\n",
       " array([17, 18, 19, 20, 21, 22, 23, 24])]"
      ]
     },
     "metadata": {},
     "execution_count": 9
    }
   ],
   "source": [
    "result"
   ]
  },
  {
   "cell_type": "code",
   "execution_count": 10,
   "metadata": {},
   "outputs": [
    {
     "output_type": "execute_result",
     "data": {
      "text/plain": [
       "3"
      ]
     },
     "metadata": {},
     "execution_count": 10
    }
   ],
   "source": [
    "len(result)"
   ]
  },
  {
   "cell_type": "code",
   "execution_count": 6,
   "metadata": {},
   "outputs": [
    {
     "output_type": "error",
     "ename": "NameError",
     "evalue": "name 'result' is not defined",
     "traceback": [
      "\u001b[0;31m---------------------------------------------------------------------------\u001b[0m",
      "\u001b[0;31mNameError\u001b[0m                                 Traceback (most recent call last)",
      "\u001b[0;32m<ipython-input-6-3dc03a40215b>\u001b[0m in \u001b[0;36m<module>\u001b[0;34m\u001b[0m\n\u001b[1;32m      1\u001b[0m \u001b[0mchunk_num\u001b[0m \u001b[0;34m=\u001b[0m \u001b[0;36m0\u001b[0m\u001b[0;34m\u001b[0m\u001b[0;34m\u001b[0m\u001b[0m\n\u001b[1;32m      2\u001b[0m \u001b[0mresults\u001b[0m \u001b[0;34m=\u001b[0m \u001b[0;34m[\u001b[0m\u001b[0;34m]\u001b[0m\u001b[0;34m\u001b[0m\u001b[0;34m\u001b[0m\u001b[0m\n\u001b[0;32m----> 3\u001b[0;31m \u001b[0;32mfor\u001b[0m \u001b[0mchunk\u001b[0m \u001b[0;32min\u001b[0m \u001b[0mresult\u001b[0m\u001b[0;34m:\u001b[0m\u001b[0;34m\u001b[0m\u001b[0;34m\u001b[0m\u001b[0m\n\u001b[0m\u001b[1;32m      4\u001b[0m     \u001b[0mprint\u001b[0m\u001b[0;34m(\u001b[0m\u001b[0;34m\"new\"\u001b[0m\u001b[0;34m)\u001b[0m\u001b[0;34m\u001b[0m\u001b[0;34m\u001b[0m\u001b[0m\n\u001b[1;32m      5\u001b[0m     \u001b[0mprint\u001b[0m\u001b[0;34m(\u001b[0m\u001b[0mchunk\u001b[0m\u001b[0;34m[\u001b[0m\u001b[0;36m0\u001b[0m\u001b[0;34m]\u001b[0m\u001b[0;34m)\u001b[0m\u001b[0;34m\u001b[0m\u001b[0;34m\u001b[0m\u001b[0m\n",
      "\u001b[0;31mNameError\u001b[0m: name 'result' is not defined"
     ]
    }
   ],
   "source": [
    "chunk_num = 0\n",
    "results = []\n",
    "for chunk in result:\n",
    "    print(\"new\")\n",
    "    print(chunk[0])\n",
    "    print(chunk[-1])\n",
    "    dataset = lidar.Dataset.from_file(Path(bagfile), start_frame_number = chunk[0], end_frame_number = chunk[-1]+1)\n",
    "    print(len(chunk))\n",
    "    print(dataset)\n",
    "    results.append(dataset)\n"
   ]
  },
  {
   "cell_type": "code",
   "execution_count": 7,
   "metadata": {},
   "outputs": [
    {
     "output_type": "error",
     "ename": "NameError",
     "evalue": "name 'dataset' is not defined",
     "traceback": [
      "\u001b[0;31m---------------------------------------------------------------------------\u001b[0m",
      "\u001b[0;31mNameError\u001b[0m                                 Traceback (most recent call last)",
      "\u001b[0;32m<ipython-input-7-1dc4bdf5737c>\u001b[0m in \u001b[0;36m<module>\u001b[0;34m\u001b[0m\n\u001b[1;32m      3\u001b[0m \u001b[0mtimestamps\u001b[0m \u001b[0;34m=\u001b[0m \u001b[0;34m[\u001b[0m\u001b[0;34m]\u001b[0m\u001b[0;34m\u001b[0m\u001b[0;34m\u001b[0m\u001b[0m\n\u001b[1;32m      4\u001b[0m \u001b[0;34m[\u001b[0m\u001b[0mtimestamps\u001b[0m\u001b[0;34m.\u001b[0m\u001b[0mextend\u001b[0m\u001b[0;34m(\u001b[0m\u001b[0mdataset\u001b[0m\u001b[0;34m.\u001b[0m\u001b[0mtimestamps\u001b[0m\u001b[0;34m)\u001b[0m \u001b[0;32mfor\u001b[0m \u001b[0mdataset\u001b[0m \u001b[0;32min\u001b[0m \u001b[0mresults\u001b[0m\u001b[0;34m]\u001b[0m\u001b[0;34m\u001b[0m\u001b[0;34m\u001b[0m\u001b[0m\n\u001b[0;32m----> 5\u001b[0;31m \u001b[0mmeta\u001b[0m \u001b[0;34m=\u001b[0m \u001b[0mdataset\u001b[0m\u001b[0;34m.\u001b[0m\u001b[0mmeta\u001b[0m\u001b[0;34m\u001b[0m\u001b[0;34m\u001b[0m\u001b[0m\n\u001b[0m",
      "\u001b[0;31mNameError\u001b[0m: name 'dataset' is not defined"
     ]
    }
   ],
   "source": [
    "data = []\n",
    "[data.extend(dataset.data) for dataset in results]\n",
    "timestamps = []\n",
    "[timestamps.extend(dataset.timestamps) for dataset in results]\n",
    "meta = dataset.meta"
   ]
  },
  {
   "cell_type": "code",
   "execution_count": 34,
   "metadata": {},
   "outputs": [],
   "source": [
    "joined = lidar.Dataset(data,timestamps,meta)"
   ]
  },
  {
   "cell_type": "code",
   "execution_count": 35,
   "metadata": {},
   "outputs": [
    {
     "output_type": "execute_result",
     "data": {
      "text/plain": [
       "25"
      ]
     },
     "metadata": {},
     "execution_count": 35
    }
   ],
   "source": [
    "len(joined)"
   ]
  },
  {
   "cell_type": "code",
   "execution_count": 36,
   "metadata": {},
   "outputs": [
    {
     "output_type": "stream",
     "name": "stderr",
     "text": [
      "  0%|          | 0/25 [00:00<?, ?it/s]\n",
      "0\n",
      "  4%|▍         | 1/25 [00:00<00:13,  1.78it/s]1\n",
      "  8%|▊         | 2/25 [00:01<00:13,  1.76it/s]2\n",
      " 12%|█▏        | 3/25 [00:01<00:12,  1.76it/s]3\n",
      " 16%|█▌        | 4/25 [00:02<00:11,  1.76it/s]4\n",
      " 20%|██        | 5/25 [00:02<00:11,  1.78it/s]5\n",
      " 24%|██▍       | 6/25 [00:03<00:10,  1.80it/s]6\n",
      " 28%|██▊       | 7/25 [00:03<00:10,  1.77it/s]7\n",
      " 32%|███▏      | 8/25 [00:04<00:09,  1.73it/s]8\n",
      " 36%|███▌      | 9/25 [00:05<00:09,  1.75it/s]9\n",
      " 40%|████      | 10/25 [00:05<00:08,  1.69it/s]10\n",
      " 44%|████▍     | 11/25 [00:06<00:08,  1.70it/s]11\n",
      " 48%|████▊     | 12/25 [00:06<00:07,  1.70it/s]12\n",
      " 52%|█████▏    | 13/25 [00:07<00:07,  1.70it/s]13\n",
      " 56%|█████▌    | 14/25 [00:08<00:06,  1.70it/s]14\n",
      " 60%|██████    | 15/25 [00:08<00:05,  1.74it/s]15\n",
      " 64%|██████▍   | 16/25 [00:09<00:05,  1.74it/s]16\n",
      " 68%|██████▊   | 17/25 [00:09<00:04,  1.69it/s]17\n",
      " 72%|███████▏  | 18/25 [00:10<00:04,  1.72it/s]18\n",
      " 76%|███████▌  | 19/25 [00:11<00:03,  1.71it/s]19\n",
      " 80%|████████  | 20/25 [00:11<00:02,  1.68it/s]20\n",
      " 84%|████████▍ | 21/25 [00:12<00:02,  1.71it/s]21\n",
      " 88%|████████▊ | 22/25 [00:12<00:01,  1.75it/s]22\n",
      " 92%|█████████▏| 23/25 [00:13<00:01,  1.74it/s]23\n",
      " 96%|█████████▌| 24/25 [00:13<00:00,  1.77it/s]24\n",
      "100%|██████████| 25/25 [00:14<00:00,  1.73it/s]CPU times: user 34 s, sys: 7.38 s, total: 41.4 s\n",
      "Wall time: 33.5 s\n",
      "\n"
     ]
    }
   ],
   "source": [
    "%%time\n",
    "test25 = lidar.Dataset.from_file(Path(bagfile), start_frame_number = 0, end_frame_number = 25)"
   ]
  },
  {
   "cell_type": "code",
   "execution_count": 37,
   "metadata": {},
   "outputs": [
    {
     "output_type": "execute_result",
     "data": {
      "text/plain": [
       "25"
      ]
     },
     "metadata": {},
     "execution_count": 37
    }
   ],
   "source": [
    "len(test25)"
   ]
  },
  {
   "cell_type": "code",
   "execution_count": 38,
   "metadata": {},
   "outputs": [
    {
     "output_type": "execute_result",
     "data": {
      "text/plain": [
       "True"
      ]
     },
     "metadata": {},
     "execution_count": 38
    }
   ],
   "source": [
    "joined.timestamps == test25.timestamps"
   ]
  },
  {
   "cell_type": "code",
   "execution_count": 39,
   "metadata": {},
   "outputs": [],
   "source": [
    "res = joined.data[20].compute() == test25.data[20].compute()"
   ]
  },
  {
   "cell_type": "code",
   "execution_count": 40,
   "metadata": {},
   "outputs": [
    {
     "output_type": "execute_result",
     "data": {
      "text/plain": [
       "             x       y       z intensity       t reflectivity    ring   noise  \\\n",
       "count   112257  112257  112257    112257  112257       112257  112257  112257   \n",
       "unique       1       1       1         1       1            1       1       1   \n",
       "top       True    True    True      True    True         True    True    True   \n",
       "freq    112257  112257  112257    112257  112257       112257  112257  112257   \n",
       "\n",
       "         range original_id  \n",
       "count   112257      112257  \n",
       "unique       1           1  \n",
       "top       True        True  \n",
       "freq    112257      112257  "
      ],
      "text/html": "<div>\n<style scoped>\n    .dataframe tbody tr th:only-of-type {\n        vertical-align: middle;\n    }\n\n    .dataframe tbody tr th {\n        vertical-align: top;\n    }\n\n    .dataframe thead th {\n        text-align: right;\n    }\n</style>\n<table border=\"1\" class=\"dataframe\">\n  <thead>\n    <tr style=\"text-align: right;\">\n      <th></th>\n      <th>x</th>\n      <th>y</th>\n      <th>z</th>\n      <th>intensity</th>\n      <th>t</th>\n      <th>reflectivity</th>\n      <th>ring</th>\n      <th>noise</th>\n      <th>range</th>\n      <th>original_id</th>\n    </tr>\n  </thead>\n  <tbody>\n    <tr>\n      <th>count</th>\n      <td>112257</td>\n      <td>112257</td>\n      <td>112257</td>\n      <td>112257</td>\n      <td>112257</td>\n      <td>112257</td>\n      <td>112257</td>\n      <td>112257</td>\n      <td>112257</td>\n      <td>112257</td>\n    </tr>\n    <tr>\n      <th>unique</th>\n      <td>1</td>\n      <td>1</td>\n      <td>1</td>\n      <td>1</td>\n      <td>1</td>\n      <td>1</td>\n      <td>1</td>\n      <td>1</td>\n      <td>1</td>\n      <td>1</td>\n    </tr>\n    <tr>\n      <th>top</th>\n      <td>True</td>\n      <td>True</td>\n      <td>True</td>\n      <td>True</td>\n      <td>True</td>\n      <td>True</td>\n      <td>True</td>\n      <td>True</td>\n      <td>True</td>\n      <td>True</td>\n    </tr>\n    <tr>\n      <th>freq</th>\n      <td>112257</td>\n      <td>112257</td>\n      <td>112257</td>\n      <td>112257</td>\n      <td>112257</td>\n      <td>112257</td>\n      <td>112257</td>\n      <td>112257</td>\n      <td>112257</td>\n      <td>112257</td>\n    </tr>\n  </tbody>\n</table>\n</div>"
     },
     "metadata": {},
     "execution_count": 40
    }
   ],
   "source": [
    "res.describe()"
   ]
  },
  {
   "source": [
    "Ok, so this works, now what about parallel"
   ],
   "cell_type": "markdown",
   "metadata": {}
  },
  {
   "cell_type": "code",
   "execution_count": null,
   "metadata": {},
   "outputs": [],
   "source": []
  },
  {
   "cell_type": "code",
   "execution_count": 78,
   "metadata": {},
   "outputs": [
    {
     "output_type": "stream",
     "name": "stdout",
     "text": [
      "CPU times: user 7.67 ms, sys: 4.31 ms, total: 12 ms\nWall time: 9.25 ms\n"
     ]
    }
   ],
   "source": [
    "%%time\n",
    "chunk_num = 0\n",
    "results = []\n",
    "for chunk in result:\n",
    "    dataset = delayed(lidar.Dataset.from_file)(Path(bagfile), start_frame_number = chunk[0], end_frame_number = chunk[-1])\n",
    "    results.append(dataset)\n"
   ]
  },
  {
   "cell_type": "code",
   "execution_count": 72,
   "metadata": {},
   "outputs": [
    {
     "output_type": "stream",
     "name": "stdout",
     "text": [
      "CPU times: user 1.41 s, sys: 411 ms, total: 1.82 s\nWall time: 15.2 s\n"
     ]
    }
   ],
   "source": [
    "%%time\n",
    "res = dd.compute(*results)"
   ]
  },
  {
   "source": [],
   "cell_type": "markdown",
   "metadata": {}
  },
  {
   "cell_type": "code",
   "execution_count": 2,
   "metadata": {},
   "outputs": [],
   "source": [
    "t=\"Dataset([Delayed('DataFrame-a1a9aa96-0827-4cfc-ab3c-0cc2a5bd2f5f'), Delayed('DataFrame-4e4ac984-4651-45f6-876f-2dcb48501c35')],[datetime.datetime(2020, 6, 22, 13, 40, 42, 657267), datetime.datetime(2020, 6, 22, 13, 40, 42, 755912)],{'orig_file': '/workspaces/lidar/tests/testdata/test.bag', 'topic': '/os1_cloud_node/points'})\""
   ]
  },
  {
   "cell_type": "code",
   "execution_count": 3,
   "metadata": {},
   "outputs": [
    {
     "output_type": "execute_result",
     "data": {
      "text/plain": [
       "326"
      ]
     },
     "metadata": {},
     "execution_count": 3
    }
   ],
   "source": [
    "len(t)"
   ]
  },
  {
   "cell_type": "code",
   "execution_count": null,
   "metadata": {},
   "outputs": [],
   "source": []
  }
 ]
}