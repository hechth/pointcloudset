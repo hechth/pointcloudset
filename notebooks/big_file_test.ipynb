{
 "metadata": {
  "language_info": {
   "codemirror_mode": {
    "name": "ipython",
    "version": 3
   },
   "file_extension": ".py",
   "mimetype": "text/x-python",
   "name": "python",
   "nbconvert_exporter": "python",
   "pygments_lexer": "ipython3",
   "version": "3.7.4-final"
  },
  "orig_nbformat": 2,
  "kernelspec": {
   "name": "python3",
   "display_name": "Python 3.7.4 64-bit ('base': conda)",
   "metadata": {
    "interpreter": {
     "hash": "98b0a9b7b4eaaa670588a142fd0a9b87eaafe866f1db4228be72b4211d12040f"
    }
   }
  }
 },
 "nbformat": 4,
 "nbformat_minor": 2,
 "cells": [
  {
   "cell_type": "code",
   "execution_count": 1,
   "metadata": {},
   "outputs": [
    {
     "output_type": "stream",
     "name": "stderr",
     "text": [
      "Failed to load Python extension for LZ4 support. LZ4 compression will not be available.\n"
     ]
    }
   ],
   "source": [
    "import lidar\n",
    "import rosbag\n",
    "from pathlib import Path\n",
    "from dask.distributed import Client\n",
    "from dask import delayed\n",
    "import dask.dataframe as dd\n",
    "import dask\n",
    "\n",
    "client = Client()  # start distributed scheduler locally.  Launch dashboard\n",
    "%load_ext autoreload\n",
    "%autoreload 2\n",
    "%config IPCompleter.greedy=True"
   ]
  },
  {
   "cell_type": "code",
   "execution_count": 2,
   "metadata": {},
   "outputs": [],
   "source": [
    "bagfile = \"/workspaces/lidar/tests/testdata/big.bag\""
   ]
  },
  {
   "cell_type": "code",
   "execution_count": 3,
   "metadata": {},
   "outputs": [
    {
     "output_type": "stream",
     "name": "stderr",
     "text": [
      "100%|██████████| 10/10 [00:04<00:00,  2.28it/s]\n"
     ]
    }
   ],
   "source": [
    "test0= lidar.Dataset.from_file(Path(bagfile), start_frame_number = 0, end_frame_number = 10)"
   ]
  },
  {
   "cell_type": "code",
   "execution_count": 4,
   "metadata": {},
   "outputs": [
    {
     "output_type": "stream",
     "name": "stderr",
     "text": [
      "100%|██████████| 9/9 [00:03<00:00,  2.87it/s]\n"
     ]
    }
   ],
   "source": [
    "test1 = lidar.Dataset.from_file(Path(bagfile), start_frame_number = 11, end_frame_number = 20)"
   ]
  },
  {
   "cell_type": "code",
   "execution_count": 5,
   "metadata": {},
   "outputs": [
    {
     "output_type": "execute_result",
     "data": {
      "text/plain": [
       "10"
      ]
     },
     "metadata": {},
     "execution_count": 5
    }
   ],
   "source": [
    "len(test0)"
   ]
  },
  {
   "cell_type": "code",
   "execution_count": 6,
   "metadata": {},
   "outputs": [
    {
     "output_type": "execute_result",
     "data": {
      "text/plain": [
       "9"
      ]
     },
     "metadata": {},
     "execution_count": 6
    }
   ],
   "source": [
    "len(test1)"
   ]
  },
  {
   "cell_type": "code",
   "execution_count": 7,
   "metadata": {},
   "outputs": [
    {
     "output_type": "execute_result",
     "data": {
      "text/plain": [
       "Dataset([Delayed('DataFrame-5a63dda7-74f8-44ae-83ee-c4e45b34648e'), Delayed('DataFrame-fee2f269-587a-42a9-8679-e7c76c987a86'), Delayed('DataFrame-c9c9fab9-6d4e-482c-8d18-56310fcb1e0c'), Delayed('DataFrame-0d9c893d-21e3-4031-b621-44adb176ed5f'), Delayed('DataFrame-1a99c884-63fa-4323-af6b-bda09e2160b5'), Delayed('DataFrame-7ce1e3e4-e9a4-443d-8afe-93edea5dd7d1'), Delayed('DataFrame-7aba969b-8067-4273-99d2-720c60ad6697'), Delayed('DataFrame-f1332f1c-476c-422c-ae8f-4c1a8dd0eb48'), Delayed('DataFrame-9db188b2-f416-4bc7-85a6-f4f67bdb6f1d'), Delayed('DataFrame-19652e93-5f27-4714-979c-fc3d9bd755fc'), Delayed('DataFrame-75e98844-09bd-44f6-a7b8-8d8d2efa89e5'), Delayed('DataFrame-a316b0b3-305c-4947-aef3-6c9f47a7c801'), Delayed('DataFrame-28975417-9f96-495d-b721-46a58bceaac6'), Delayed('DataFrame-e6f12e68-b348-4948-a341-18c4b85ba09c'), Delayed('DataFrame-51c4d377-5592-446b-ba21-2537814f7e3e'), Delayed('DataFrame-f61b7777-280e-4eed-90b3-a67e760adc89'), Delayed('DataFrame-a48cef53-1555-4f2d-b0b8-a1ff738c12d9'), Delayed('DataFrame-d0760027-f175-4434-ae15-e06b33d17580'), Delayed('DataFrame-827033d1-c614-43fc-bc47-acba1822924d')],\n",
       "        [datetime.datetime(2020, 12, 3, 10, 37, 34, 313459), datetime.datetime(2020, 12, 3, 10, 37, 34, 412553), datetime.datetime(2020, 12, 3, 10, 37, 34, 536845), datetime.datetime(2020, 12, 3, 10, 37, 34, 630067), datetime.datetime(2020, 12, 3, 10, 37, 34, 712737), datetime.datetime(2020, 12, 3, 10, 37, 34, 836352), datetime.datetime(2020, 12, 3, 10, 37, 34, 905691), datetime.datetime(2020, 12, 3, 10, 37, 35, 28042), datetime.datetime(2020, 12, 3, 10, 37, 35, 104652), datetime.datetime(2020, 12, 3, 10, 37, 35, 222942), datetime.datetime(2020, 12, 3, 10, 37, 35, 420649), datetime.datetime(2020, 12, 3, 10, 37, 35, 513883), datetime.datetime(2020, 12, 3, 10, 37, 35, 602300), datetime.datetime(2020, 12, 3, 10, 37, 35, 709296), datetime.datetime(2020, 12, 3, 10, 37, 35, 817900), datetime.datetime(2020, 12, 3, 10, 37, 35, 916231), datetime.datetime(2020, 12, 3, 10, 37, 36, 14869), datetime.datetime(2020, 12, 3, 10, 37, 36, 125972), datetime.datetime(2020, 12, 3, 10, 37, 36, 210672)],\n",
       "        {'orig_file': '/workspaces/lidar/tests/testdata/big.bag', 'topic': '/os1_cloud_node/points', 'extended': [{'orig_file': '/workspaces/lidar/tests/testdata/big.bag', 'topic': '/os1_cloud_node/points'}]})"
      ]
     },
     "metadata": {},
     "execution_count": 7
    }
   ],
   "source": [
    "test0.extend(test1)"
   ]
  },
  {
   "cell_type": "code",
   "execution_count": 8,
   "metadata": {},
   "outputs": [
    {
     "output_type": "error",
     "ename": "NameError",
     "evalue": "name 'np' is not defined",
     "traceback": [
      "\u001b[0;31m---------------------------------------------------------------------------\u001b[0m",
      "\u001b[0;31mNameError\u001b[0m                                 Traceback (most recent call last)",
      "\u001b[0;32m<ipython-input-8-2056565549f9>\u001b[0m in \u001b[0;36m<module>\u001b[0;34m\u001b[0m\n\u001b[0;32m----> 1\u001b[0;31m \u001b[0mlists\u001b[0m \u001b[0;34m=\u001b[0m \u001b[0mnp\u001b[0m\u001b[0;34m.\u001b[0m\u001b[0marray_split\u001b[0m\u001b[0;34m(\u001b[0m\u001b[0mrange\u001b[0m\u001b[0;34m(\u001b[0m\u001b[0;36m10\u001b[0m\u001b[0;34m)\u001b[0m\u001b[0;34m,\u001b[0m \u001b[0;36m3\u001b[0m\u001b[0;34m)\u001b[0m\u001b[0;34m\u001b[0m\u001b[0;34m\u001b[0m\u001b[0m\n\u001b[0m",
      "\u001b[0;31mNameError\u001b[0m: name 'np' is not defined"
     ]
    }
   ],
   "source": [
    "\n",
    "lists = np.array_split(range(10), 3)"
   ]
  },
  {
   "cell_type": "code",
   "execution_count": 74,
   "metadata": {},
   "outputs": [],
   "source": [
    "import numpy as np\n",
    "max_size = 10\n",
    "length = 200\n",
    "test = np.arange(length +1)\n",
    "\n",
    "result = np.array_split(test, (len(test) // max_size)+1)"
   ]
  },
  {
   "cell_type": "code",
   "execution_count": 75,
   "metadata": {},
   "outputs": [
    {
     "output_type": "execute_result",
     "data": {
      "text/plain": [
       "[array([0, 1, 2, 3, 4, 5, 6, 7, 8, 9]),\n",
       " array([10, 11, 12, 13, 14, 15, 16, 17, 18, 19]),\n",
       " array([20, 21, 22, 23, 24, 25, 26, 27, 28, 29]),\n",
       " array([30, 31, 32, 33, 34, 35, 36, 37, 38, 39]),\n",
       " array([40, 41, 42, 43, 44, 45, 46, 47, 48, 49]),\n",
       " array([50, 51, 52, 53, 54, 55, 56, 57, 58, 59]),\n",
       " array([60, 61, 62, 63, 64, 65, 66, 67, 68, 69]),\n",
       " array([70, 71, 72, 73, 74, 75, 76, 77, 78, 79]),\n",
       " array([80, 81, 82, 83, 84, 85, 86, 87, 88, 89]),\n",
       " array([90, 91, 92, 93, 94, 95, 96, 97, 98, 99]),\n",
       " array([100, 101, 102, 103, 104, 105, 106, 107, 108, 109]),\n",
       " array([110, 111, 112, 113, 114, 115, 116, 117, 118, 119]),\n",
       " array([120, 121, 122, 123, 124, 125, 126, 127, 128]),\n",
       " array([129, 130, 131, 132, 133, 134, 135, 136, 137]),\n",
       " array([138, 139, 140, 141, 142, 143, 144, 145, 146]),\n",
       " array([147, 148, 149, 150, 151, 152, 153, 154, 155]),\n",
       " array([156, 157, 158, 159, 160, 161, 162, 163, 164]),\n",
       " array([165, 166, 167, 168, 169, 170, 171, 172, 173]),\n",
       " array([174, 175, 176, 177, 178, 179, 180, 181, 182]),\n",
       " array([183, 184, 185, 186, 187, 188, 189, 190, 191]),\n",
       " array([192, 193, 194, 195, 196, 197, 198, 199, 200])]"
      ]
     },
     "metadata": {},
     "execution_count": 75
    }
   ],
   "source": [
    "result"
   ]
  },
  {
   "cell_type": "code",
   "execution_count": 52,
   "metadata": {},
   "outputs": [
    {
     "output_type": "stream",
     "name": "stdout",
     "text": [
      "new\n",
      "0\n",
      "8\n",
      "distributed.utils_perf - WARNING - full garbage collections took 13% CPU time recently (threshold: 10%)\n",
      "distributed.utils_perf - WARNING - full garbage collections took 13% CPU time recently (threshold: 10%)\n",
      "distributed.utils_perf - WARNING - full garbage collections took 13% CPU time recently (threshold: 10%)\n",
      "distributed.utils_perf - WARNING - full garbage collections took 13% CPU time recently (threshold: 10%)\n",
      "distributed.utils_perf - WARNING - full garbage collections took 14% CPU time recently (threshold: 10%)\n",
      "inside bag 0\n",
      "inside bag 1\n",
      "inside bag 2\n",
      "inside bag 3\n",
      "inside bag 4\n",
      "inside bag 5\n",
      "inside bag 6\n",
      "inside bag 7\n",
      "inside bag 8\n",
      "9\n",
      "Lidar Dataset with 9 frame(s)\n",
      "new\n",
      "9\n",
      "17\n",
      "distributed.utils_perf - WARNING - full garbage collections took 14% CPU time recently (threshold: 10%)\n",
      "distributed.utils_perf - WARNING - full garbage collections took 14% CPU time recently (threshold: 10%)\n",
      "distributed.utils_perf - WARNING - full garbage collections took 14% CPU time recently (threshold: 10%)\n",
      "inside bag 9\n",
      "inside bag 10\n",
      "inside bag 11\n",
      "inside bag 12\n",
      "inside bag 13\n",
      "inside bag 14\n",
      "inside bag 15\n",
      "inside bag 16\n",
      "inside bag 17\n",
      "9\n",
      "Lidar Dataset with 9 frame(s)\n",
      "new\n",
      "18\n",
      "25\n",
      "distributed.utils_perf - WARNING - full garbage collections took 14% CPU time recently (threshold: 10%)\n",
      "distributed.utils_perf - WARNING - full garbage collections took 14% CPU time recently (threshold: 10%)\n",
      "distributed.utils_perf - WARNING - full garbage collections took 14% CPU time recently (threshold: 10%)\n",
      "distributed.utils_perf - WARNING - full garbage collections took 14% CPU time recently (threshold: 10%)\n",
      "distributed.utils_perf - WARNING - full garbage collections took 14% CPU time recently (threshold: 10%)\n",
      "inside bag 18\n",
      "inside bag 19\n",
      "inside bag 20\n",
      "inside bag 21\n",
      "inside bag 22\n",
      "inside bag 23\n",
      "inside bag 24\n",
      "inside bag 25\n",
      "8\n",
      "Lidar Dataset with 8 frame(s)\n"
     ]
    }
   ],
   "source": [
    "chunk_num = 0\n",
    "results = []\n",
    "for chunk in result:\n",
    "    print(\"new\")\n",
    "    print(chunk[0])\n",
    "    print(chunk[-1])\n",
    "    dataset = lidar.Dataset.from_file(Path(bagfile), start_frame_number = chunk[0], end_frame_number = chunk[-1])\n",
    "    print(len(chunk))\n",
    "    print(dataset)\n",
    "    results.append(dataset)\n"
   ]
  },
  {
   "cell_type": "code",
   "execution_count": 53,
   "metadata": {},
   "outputs": [],
   "source": [
    "data = []\n",
    "[data.extend(dataset.data) for dataset in results]\n",
    "timestamps = []\n",
    "[timestamps.extend(dataset.timestamps) for dataset in results]\n",
    "meta = dataset.meta"
   ]
  },
  {
   "cell_type": "code",
   "execution_count": 54,
   "metadata": {},
   "outputs": [],
   "source": [
    "joined = lidar.Dataset(data,timestamps,meta)"
   ]
  },
  {
   "cell_type": "code",
   "execution_count": 55,
   "metadata": {},
   "outputs": [
    {
     "output_type": "execute_result",
     "data": {
      "text/plain": [
       "26"
      ]
     },
     "metadata": {},
     "execution_count": 55
    }
   ],
   "source": [
    "len(joined)"
   ]
  },
  {
   "cell_type": "code",
   "execution_count": 76,
   "metadata": {},
   "outputs": [
    {
     "output_type": "stream",
     "name": "stderr",
     "text": [
      "distributed.utils_perf - WARNING - full garbage collections took 13% CPU time recently (threshold: 10%)\n",
      "distributed.utils_perf - WARNING - full garbage collections took 13% CPU time recently (threshold: 10%)\n",
      "distributed.utils_perf - WARNING - full garbage collections took 14% CPU time recently (threshold: 10%)\n",
      "distributed.utils_perf - WARNING - full garbage collections took 14% CPU time recently (threshold: 10%)\n",
      "inside bag 0\n",
      "inside bag 1\n",
      "inside bag 2\n",
      "inside bag 3\n",
      "inside bag 4\n",
      "inside bag 5\n",
      "inside bag 6\n",
      "inside bag 7\n",
      "inside bag 8\n",
      "inside bag 9\n",
      "inside bag 10\n",
      "inside bag 11\n",
      "inside bag 12\n",
      "inside bag 13\n",
      "inside bag 14\n",
      "inside bag 15\n",
      "inside bag 16\n",
      "inside bag 17\n",
      "inside bag 18\n",
      "inside bag 19\n",
      "inside bag 20\n",
      "inside bag 21\n",
      "inside bag 22\n",
      "inside bag 23\n",
      "inside bag 24\n",
      "inside bag 25\n",
      "inside bag 26\n",
      "inside bag 27\n",
      "inside bag 28\n",
      "inside bag 29\n",
      "inside bag 30\n",
      "inside bag 31\n",
      "inside bag 32\n",
      "inside bag 33\n",
      "inside bag 34\n",
      "inside bag 35\n",
      "inside bag 36\n",
      "inside bag 37\n",
      "inside bag 38\n",
      "inside bag 39\n",
      "inside bag 40\n",
      "inside bag 41\n",
      "inside bag 42\n",
      "inside bag 43\n",
      "inside bag 44\n",
      "inside bag 45\n",
      "inside bag 46\n",
      "inside bag 47\n",
      "inside bag 48\n",
      "inside bag 49\n",
      "inside bag 50\n",
      "inside bag 51\n",
      "inside bag 52\n",
      "inside bag 53\n",
      "inside bag 54\n",
      "inside bag 55\n",
      "inside bag 56\n",
      "inside bag 57\n",
      "inside bag 58\n",
      "inside bag 59\n",
      "inside bag 60\n",
      "inside bag 61\n",
      "inside bag 62\n",
      "inside bag 63\n",
      "inside bag 64\n",
      "inside bag 65\n",
      "inside bag 66\n",
      "inside bag 67\n",
      "inside bag 68\n",
      "inside bag 69\n",
      "inside bag 70\n",
      "inside bag 71\n",
      "inside bag 72\n",
      "inside bag 73\n",
      "inside bag 74\n",
      "inside bag 75\n",
      "inside bag 76\n",
      "inside bag 77\n",
      "inside bag 78\n",
      "inside bag 79\n",
      "inside bag 80\n",
      "inside bag 81\n",
      "inside bag 82\n",
      "inside bag 83\n",
      "inside bag 84\n",
      "inside bag 85\n",
      "inside bag 86\n",
      "inside bag 87\n",
      "inside bag 88\n",
      "inside bag 89\n",
      "inside bag 90\n",
      "inside bag 91\n",
      "inside bag 92\n",
      "inside bag 93\n",
      "inside bag 94\n",
      "inside bag 95\n",
      "inside bag 96\n",
      "inside bag 97\n",
      "inside bag 98\n",
      "inside bag 99\n",
      "inside bag 100\n",
      "inside bag 101\n",
      "inside bag 102\n",
      "inside bag 103\n",
      "inside bag 104\n",
      "inside bag 105\n",
      "inside bag 106\n",
      "inside bag 107\n",
      "inside bag 108\n",
      "inside bag 109\n",
      "inside bag 110\n",
      "inside bag 111\n",
      "inside bag 112\n",
      "inside bag 113\n",
      "inside bag 114\n",
      "inside bag 115\n",
      "inside bag 116\n",
      "inside bag 117\n",
      "inside bag 118\n",
      "inside bag 119\n",
      "inside bag 120\n",
      "inside bag 121\n",
      "inside bag 122\n",
      "inside bag 123\n",
      "inside bag 124\n",
      "inside bag 125\n",
      "inside bag 126\n",
      "inside bag 127\n",
      "inside bag 128\n",
      "inside bag 129\n",
      "inside bag 130\n",
      "inside bag 131\n",
      "inside bag 132\n",
      "inside bag 133\n",
      "inside bag 134\n",
      "inside bag 135\n",
      "inside bag 136\n",
      "inside bag 137\n",
      "inside bag 138\n",
      "inside bag 139\n",
      "inside bag 140\n",
      "inside bag 141\n",
      "inside bag 142\n",
      "inside bag 143\n",
      "inside bag 144\n",
      "inside bag 145\n",
      "inside bag 146\n",
      "inside bag 147\n",
      "inside bag 148\n",
      "inside bag 149\n",
      "inside bag 150\n",
      "inside bag 151\n",
      "inside bag 152\n",
      "inside bag 153\n",
      "inside bag 154\n",
      "inside bag 155\n",
      "inside bag 156\n",
      "inside bag 157\n",
      "inside bag 158\n",
      "inside bag 159\n",
      "inside bag 160\n",
      "inside bag 161\n",
      "inside bag 162\n",
      "inside bag 163\n",
      "inside bag 164\n",
      "inside bag 165\n",
      "inside bag 166\n",
      "inside bag 167\n",
      "inside bag 168\n",
      "inside bag 169\n",
      "inside bag 170\n",
      "inside bag 171\n",
      "inside bag 172\n",
      "inside bag 173\n",
      "inside bag 174\n",
      "inside bag 175\n",
      "inside bag 176\n",
      "inside bag 177\n",
      "inside bag 178\n",
      "inside bag 179\n",
      "inside bag 180\n",
      "inside bag 181\n",
      "inside bag 182\n",
      "inside bag 183\n",
      "inside bag 184\n",
      "inside bag 185\n",
      "inside bag 186\n",
      "inside bag 187\n",
      "inside bag 188\n",
      "inside bag 189\n",
      "inside bag 190\n",
      "inside bag 191\n",
      "inside bag 192\n",
      "inside bag 193\n",
      "inside bag 194\n",
      "inside bag 195\n",
      "inside bag 196\n",
      "inside bag 197\n",
      "inside bag 198\n",
      "inside bag 199\n",
      "inside bag 200\n",
      "CPU times: user 1min 26s, sys: 4.24 s, total: 1min 30s\n",
      "Wall time: 1min 37s\n"
     ]
    }
   ],
   "source": [
    "%%time\n",
    "test25 = lidar.Dataset.from_file(Path(bagfile), start_frame_number = 0, end_frame_number = 200)"
   ]
  },
  {
   "cell_type": "code",
   "execution_count": 77,
   "metadata": {},
   "outputs": [
    {
     "output_type": "execute_result",
     "data": {
      "text/plain": [
       "201"
      ]
     },
     "metadata": {},
     "execution_count": 77
    }
   ],
   "source": [
    "len(test25)"
   ]
  },
  {
   "cell_type": "code",
   "execution_count": 59,
   "metadata": {},
   "outputs": [
    {
     "output_type": "execute_result",
     "data": {
      "text/plain": [
       "True"
      ]
     },
     "metadata": {},
     "execution_count": 59
    }
   ],
   "source": [
    "joined.timestamps == test25.timestamps"
   ]
  },
  {
   "cell_type": "code",
   "execution_count": 66,
   "metadata": {},
   "outputs": [],
   "source": [
    "res = joined.data[20].compute() == test25.data[20].compute()"
   ]
  },
  {
   "cell_type": "code",
   "execution_count": 67,
   "metadata": {},
   "outputs": [
    {
     "output_type": "execute_result",
     "data": {
      "text/plain": [
       "             x       y       z intensity       t reflectivity    ring   noise  \\\n",
       "count   112257  112257  112257    112257  112257       112257  112257  112257   \n",
       "unique       1       1       1         1       1            1       1       1   \n",
       "top       True    True    True      True    True         True    True    True   \n",
       "freq    112257  112257  112257    112257  112257       112257  112257  112257   \n",
       "\n",
       "         range original_id  \n",
       "count   112257      112257  \n",
       "unique       1           1  \n",
       "top       True        True  \n",
       "freq    112257      112257  "
      ],
      "text/html": "<div>\n<style scoped>\n    .dataframe tbody tr th:only-of-type {\n        vertical-align: middle;\n    }\n\n    .dataframe tbody tr th {\n        vertical-align: top;\n    }\n\n    .dataframe thead th {\n        text-align: right;\n    }\n</style>\n<table border=\"1\" class=\"dataframe\">\n  <thead>\n    <tr style=\"text-align: right;\">\n      <th></th>\n      <th>x</th>\n      <th>y</th>\n      <th>z</th>\n      <th>intensity</th>\n      <th>t</th>\n      <th>reflectivity</th>\n      <th>ring</th>\n      <th>noise</th>\n      <th>range</th>\n      <th>original_id</th>\n    </tr>\n  </thead>\n  <tbody>\n    <tr>\n      <th>count</th>\n      <td>112257</td>\n      <td>112257</td>\n      <td>112257</td>\n      <td>112257</td>\n      <td>112257</td>\n      <td>112257</td>\n      <td>112257</td>\n      <td>112257</td>\n      <td>112257</td>\n      <td>112257</td>\n    </tr>\n    <tr>\n      <th>unique</th>\n      <td>1</td>\n      <td>1</td>\n      <td>1</td>\n      <td>1</td>\n      <td>1</td>\n      <td>1</td>\n      <td>1</td>\n      <td>1</td>\n      <td>1</td>\n      <td>1</td>\n    </tr>\n    <tr>\n      <th>top</th>\n      <td>True</td>\n      <td>True</td>\n      <td>True</td>\n      <td>True</td>\n      <td>True</td>\n      <td>True</td>\n      <td>True</td>\n      <td>True</td>\n      <td>True</td>\n      <td>True</td>\n    </tr>\n    <tr>\n      <th>freq</th>\n      <td>112257</td>\n      <td>112257</td>\n      <td>112257</td>\n      <td>112257</td>\n      <td>112257</td>\n      <td>112257</td>\n      <td>112257</td>\n      <td>112257</td>\n      <td>112257</td>\n      <td>112257</td>\n    </tr>\n  </tbody>\n</table>\n</div>"
     },
     "metadata": {},
     "execution_count": 67
    }
   ],
   "source": [
    "res.describe()"
   ]
  },
  {
   "source": [
    "Ok, so this works, now what about parallel"
   ],
   "cell_type": "markdown",
   "metadata": {}
  },
  {
   "cell_type": "code",
   "execution_count": null,
   "metadata": {},
   "outputs": [],
   "source": []
  },
  {
   "cell_type": "code",
   "execution_count": 78,
   "metadata": {},
   "outputs": [
    {
     "output_type": "stream",
     "name": "stdout",
     "text": [
      "CPU times: user 7.67 ms, sys: 4.31 ms, total: 12 ms\nWall time: 9.25 ms\n"
     ]
    }
   ],
   "source": [
    "%%time\n",
    "chunk_num = 0\n",
    "results = []\n",
    "for chunk in result:\n",
    "    dataset = delayed(lidar.Dataset.from_file)(Path(bagfile), start_frame_number = chunk[0], end_frame_number = chunk[-1])\n",
    "    results.append(dataset)\n"
   ]
  },
  {
   "cell_type": "code",
   "execution_count": 72,
   "metadata": {},
   "outputs": [
    {
     "output_type": "stream",
     "name": "stdout",
     "text": [
      "CPU times: user 1.41 s, sys: 411 ms, total: 1.82 s\nWall time: 15.2 s\n"
     ]
    }
   ],
   "source": [
    "%%time\n",
    "res = dd.compute(*results)"
   ]
  },
  {
   "source": [],
   "cell_type": "markdown",
   "metadata": {}
  },
  {
   "cell_type": "code",
   "execution_count": 2,
   "metadata": {},
   "outputs": [],
   "source": [
    "t=\"Dataset([Delayed('DataFrame-a1a9aa96-0827-4cfc-ab3c-0cc2a5bd2f5f'), Delayed('DataFrame-4e4ac984-4651-45f6-876f-2dcb48501c35')],[datetime.datetime(2020, 6, 22, 13, 40, 42, 657267), datetime.datetime(2020, 6, 22, 13, 40, 42, 755912)],{'orig_file': '/workspaces/lidar/tests/testdata/test.bag', 'topic': '/os1_cloud_node/points'})\""
   ]
  },
  {
   "cell_type": "code",
   "execution_count": 3,
   "metadata": {},
   "outputs": [
    {
     "output_type": "execute_result",
     "data": {
      "text/plain": [
       "326"
      ]
     },
     "metadata": {},
     "execution_count": 3
    }
   ],
   "source": [
    "len(t)"
   ]
  },
  {
   "cell_type": "code",
   "execution_count": null,
   "metadata": {},
   "outputs": [],
   "source": []
  }
 ]
}