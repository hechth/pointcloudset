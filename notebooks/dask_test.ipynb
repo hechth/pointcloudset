{
 "metadata": {
  "language_info": {
   "codemirror_mode": {
    "name": "ipython",
    "version": 3
   },
   "file_extension": ".py",
   "mimetype": "text/x-python",
   "name": "python",
   "nbconvert_exporter": "python",
   "pygments_lexer": "ipython3",
   "version": "3.7.4-final"
  },
  "orig_nbformat": 2,
  "kernelspec": {
   "name": "python3",
   "display_name": "Python 3.7.4 64-bit ('conda': virtualenv)",
   "metadata": {
    "interpreter": {
     "hash": "98b0a9b7b4eaaa670588a142fd0a9b87eaafe866f1db4228be72b4211d12040f"
    }
   }
  }
 },
 "nbformat": 4,
 "nbformat_minor": 2,
 "cells": [
  {
   "cell_type": "code",
   "execution_count": 1,
   "metadata": {},
   "outputs": [
    {
     "output_type": "stream",
     "name": "stderr",
     "text": [
      "Failed to load Python extension for LZ4 support. LZ4 compression will not be available.\n"
     ]
    }
   ],
   "source": [
    "import lidar\n",
    "import rosbag\n",
    "from dask.distributed import Client\n",
    "client = Client()  # start distributed scheduler locally.  Launch dashboard"
   ]
  },
  {
   "source": [
    "first converting the bagfile to a parquet file"
   ],
   "cell_type": "markdown",
   "metadata": {}
  },
  {
   "cell_type": "code",
   "execution_count": 2,
   "metadata": {},
   "outputs": [],
   "source": [
    "bagfile = \"/workspaces/lidar/tests/testdata/big.bag\"\n",
    "bagfile_bag = rosbag.Bag(bagfile)"
   ]
  },
  {
   "cell_type": "code",
   "execution_count": 3,
   "metadata": {},
   "outputs": [],
   "source": [
    "#!/usr/bin/env python\n",
    "import pandas as pd\n",
    "import numpy as np\n",
    "import itertools\n",
    "from typing import Optional, List\n",
    "import rosbag\n",
    "from tqdm import tqdm\n",
    "import sensor_msgs.point_cloud2 as pc2\n",
    "from dask import delayed\n",
    "import dask.dataframe as dd\n",
    "\n",
    "\n",
    "PANDAS_TYPEMAPPING = {\n",
    "    1: np.dtype(\"int8\"),\n",
    "    2: np.dtype(\"uint8\"),\n",
    "    3: np.dtype(\"int16\"),\n",
    "    4: np.dtype(\"uint16\"),\n",
    "    5: np.dtype(\"int32\"),\n",
    "    6: np.dtype(\"uint32\"),\n",
    "    7: np.dtype(\"float32\"),\n",
    "    8: np.dtype(\"float64\"),\n",
    "}\n",
    "\n",
    "\n",
    "\n",
    "def read_bag(\n",
    "    bag: rosbag.Bag,\n",
    "    start_frame_number: Optional[int] = 0,\n",
    "    end_frame_number: Optional[int] = None,\n",
    "    keep_zeros: bool = False,\n",
    "    topic: str = \"/os1_cloud_node/points\",\n",
    ") -> List:\n",
    "    messages = bag.read_messages(topics=[topic])\n",
    "    sliced_messages = itertools.islice(messages, start_frame_number, None)\n",
    "    result_list = []\n",
    "    if end_frame_number is None:\n",
    "        end_frame_number = 2  # TODO fix to lenght of messages\n",
    "    for frame_number in tqdm(range(start_frame_number, end_frame_number, 1)):\n",
    "        message = next(sliced_messages)\n",
    "        frame = delayed(dataframe_from_message(message, keep_zeros))\n",
    "        result_list.append(frame)\n",
    "    return result_list\n",
    "\n",
    "\n",
    "def dataframe_from_message(\n",
    "    message: rosbag.bag.BagMessage, keep_zeros: bool = False\n",
    ") -> pd.DataFrame:\n",
    "    columnnames = [item.name for item in message.message.fields]\n",
    "    type_dict = {\n",
    "        item.name: PANDAS_TYPEMAPPING[item.datatype] for item in message.message.fields\n",
    "    }\n",
    "    frame_raw = pc2.read_points(message.message)\n",
    "    frame_df = pd.DataFrame(np.array(list(frame_raw)), columns=columnnames)\n",
    "    frame_df = frame_df.astype(type_dict)\n",
    "    if not keep_zeros:\n",
    "        frame_df = frame_df[\n",
    "            (frame_df[\"x\"] != 0.0) & (frame_df[\"y\"] != 0.0) & (frame_df[\"z\"] != 0.0)\n",
    "        ]\n",
    "        frame_df[\"original_id\"] = frame_df.index\n",
    "        frame_df = frame_df.astype({\"original_id\": \"uint32\"})\n",
    "        frame_df = frame_df.reset_index(drop=True)\n",
    "    return frame_df\n",
    "\n",
    "\n",
    "  "
   ]
  },
  {
   "cell_type": "code",
   "execution_count": 104,
   "metadata": {},
   "outputs": [
    {
     "output_type": "stream",
     "name": "stderr",
     "text": [
      "100%|██████████| 10/10 [00:05<00:00,  1.99it/s]\n"
     ]
    }
   ],
   "source": [
    "lazy_dataframes = read_bag(bagfile_bag, 0, 10, False, \"/os1_cloud_node/points\")"
   ]
  },
  {
   "cell_type": "code",
   "execution_count": 63,
   "metadata": {},
   "outputs": [],
   "source": [
    "test = dd.from_delayed(lazy_dataframes)"
   ]
  },
  {
   "cell_type": "code",
   "execution_count": 18,
   "metadata": {},
   "outputs": [
    {
     "output_type": "execute_result",
     "data": {
      "text/plain": [
       "0.9937447905540466"
      ]
     },
     "metadata": {},
     "execution_count": 18
    }
   ],
   "source": [
    "test.x.max().compute()"
   ]
  },
  {
   "cell_type": "code",
   "execution_count": 11,
   "metadata": {},
   "outputs": [
    {
     "output_type": "execute_result",
     "data": {
      "text/plain": [
       "               x         y         z  intensity         t  reflectivity  ring  \\\n",
       "111817  0.805429  0.045549 -0.115905       79.0  99926580             5    47   \n",
       "111818  0.794220 -0.013478 -0.158536      108.0  99926580             7    53   \n",
       "111819  0.803390  0.015773 -0.168396      101.0  99926580             7    54   \n",
       "111820  0.762607  0.014853 -0.189751       69.0  99926580             4    58   \n",
       "111821  0.776013  0.043899 -0.201706       64.0  99926580             4    59   \n",
       "\n",
       "        noise  range  original_id  \n",
       "111817     24    815       131055  \n",
       "111818     39    810       131061  \n",
       "111819     58    821       131062  \n",
       "111820     37    786       131066  \n",
       "111821     32    803       131067  "
      ],
      "text/html": "<div>\n<style scoped>\n    .dataframe tbody tr th:only-of-type {\n        vertical-align: middle;\n    }\n\n    .dataframe tbody tr th {\n        vertical-align: top;\n    }\n\n    .dataframe thead th {\n        text-align: right;\n    }\n</style>\n<table border=\"1\" class=\"dataframe\">\n  <thead>\n    <tr style=\"text-align: right;\">\n      <th></th>\n      <th>x</th>\n      <th>y</th>\n      <th>z</th>\n      <th>intensity</th>\n      <th>t</th>\n      <th>reflectivity</th>\n      <th>ring</th>\n      <th>noise</th>\n      <th>range</th>\n      <th>original_id</th>\n    </tr>\n  </thead>\n  <tbody>\n    <tr>\n      <th>111817</th>\n      <td>0.805429</td>\n      <td>0.045549</td>\n      <td>-0.115905</td>\n      <td>79.0</td>\n      <td>99926580</td>\n      <td>5</td>\n      <td>47</td>\n      <td>24</td>\n      <td>815</td>\n      <td>131055</td>\n    </tr>\n    <tr>\n      <th>111818</th>\n      <td>0.794220</td>\n      <td>-0.013478</td>\n      <td>-0.158536</td>\n      <td>108.0</td>\n      <td>99926580</td>\n      <td>7</td>\n      <td>53</td>\n      <td>39</td>\n      <td>810</td>\n      <td>131061</td>\n    </tr>\n    <tr>\n      <th>111819</th>\n      <td>0.803390</td>\n      <td>0.015773</td>\n      <td>-0.168396</td>\n      <td>101.0</td>\n      <td>99926580</td>\n      <td>7</td>\n      <td>54</td>\n      <td>58</td>\n      <td>821</td>\n      <td>131062</td>\n    </tr>\n    <tr>\n      <th>111820</th>\n      <td>0.762607</td>\n      <td>0.014853</td>\n      <td>-0.189751</td>\n      <td>69.0</td>\n      <td>99926580</td>\n      <td>4</td>\n      <td>58</td>\n      <td>37</td>\n      <td>786</td>\n      <td>131066</td>\n    </tr>\n    <tr>\n      <th>111821</th>\n      <td>0.776013</td>\n      <td>0.043899</td>\n      <td>-0.201706</td>\n      <td>64.0</td>\n      <td>99926580</td>\n      <td>4</td>\n      <td>59</td>\n      <td>32</td>\n      <td>803</td>\n      <td>131067</td>\n    </tr>\n  </tbody>\n</table>\n</div>"
     },
     "metadata": {},
     "execution_count": 11
    }
   ],
   "source": [
    "test.tail()"
   ]
  },
  {
   "cell_type": "code",
   "execution_count": 12,
   "metadata": {},
   "outputs": [
    {
     "output_type": "execute_result",
     "data": {
      "text/plain": [
       "          x         y         z  intensity  t  reflectivity  ring  noise  \\\n",
       "0  0.796484 -0.043220  0.236579       50.0  0             3     0     44   \n",
       "1  0.807739  0.046913  0.214302      134.0  0             9     3     42   \n",
       "2  0.808805  0.016405  0.190070      153.0  0            10     6     37   \n",
       "3  0.818806 -0.043872  0.177631       65.0  0             4     8     42   \n",
       "4  0.821585 -0.013810  0.169493      136.0  0             9     9     25   \n",
       "\n",
       "   range  original_id  \n",
       "0    832            0  \n",
       "1    837            3  \n",
       "2    831            6  \n",
       "3    839            8  \n",
       "4    839            9  "
      ],
      "text/html": "<div>\n<style scoped>\n    .dataframe tbody tr th:only-of-type {\n        vertical-align: middle;\n    }\n\n    .dataframe tbody tr th {\n        vertical-align: top;\n    }\n\n    .dataframe thead th {\n        text-align: right;\n    }\n</style>\n<table border=\"1\" class=\"dataframe\">\n  <thead>\n    <tr style=\"text-align: right;\">\n      <th></th>\n      <th>x</th>\n      <th>y</th>\n      <th>z</th>\n      <th>intensity</th>\n      <th>t</th>\n      <th>reflectivity</th>\n      <th>ring</th>\n      <th>noise</th>\n      <th>range</th>\n      <th>original_id</th>\n    </tr>\n  </thead>\n  <tbody>\n    <tr>\n      <th>0</th>\n      <td>0.796484</td>\n      <td>-0.043220</td>\n      <td>0.236579</td>\n      <td>50.0</td>\n      <td>0</td>\n      <td>3</td>\n      <td>0</td>\n      <td>44</td>\n      <td>832</td>\n      <td>0</td>\n    </tr>\n    <tr>\n      <th>1</th>\n      <td>0.807739</td>\n      <td>0.046913</td>\n      <td>0.214302</td>\n      <td>134.0</td>\n      <td>0</td>\n      <td>9</td>\n      <td>3</td>\n      <td>42</td>\n      <td>837</td>\n      <td>3</td>\n    </tr>\n    <tr>\n      <th>2</th>\n      <td>0.808805</td>\n      <td>0.016405</td>\n      <td>0.190070</td>\n      <td>153.0</td>\n      <td>0</td>\n      <td>10</td>\n      <td>6</td>\n      <td>37</td>\n      <td>831</td>\n      <td>6</td>\n    </tr>\n    <tr>\n      <th>3</th>\n      <td>0.818806</td>\n      <td>-0.043872</td>\n      <td>0.177631</td>\n      <td>65.0</td>\n      <td>0</td>\n      <td>4</td>\n      <td>8</td>\n      <td>42</td>\n      <td>839</td>\n      <td>8</td>\n    </tr>\n    <tr>\n      <th>4</th>\n      <td>0.821585</td>\n      <td>-0.013810</td>\n      <td>0.169493</td>\n      <td>136.0</td>\n      <td>0</td>\n      <td>9</td>\n      <td>9</td>\n      <td>25</td>\n      <td>839</td>\n      <td>9</td>\n    </tr>\n  </tbody>\n</table>\n</div>"
     },
     "metadata": {},
     "execution_count": 12
    }
   ],
   "source": [
    "test.head()"
   ]
  },
  {
   "cell_type": "code",
   "execution_count": 13,
   "metadata": {},
   "outputs": [
    {
     "output_type": "execute_result",
     "data": {
      "text/plain": [
       "Dask DataFrame Structure:\n",
       "                       x        y        z intensity       t reflectivity   ring   noise   range original_id\n",
       "npartitions=200                                                                                             \n",
       "                 float32  float32  float32   float32  uint32       uint16  uint8  uint16  uint32      uint32\n",
       "                     ...      ...      ...       ...     ...          ...    ...     ...     ...         ...\n",
       "...                  ...      ...      ...       ...     ...          ...    ...     ...     ...         ...\n",
       "                     ...      ...      ...       ...     ...          ...    ...     ...     ...         ...\n",
       "                     ...      ...      ...       ...     ...          ...    ...     ...     ...         ...\n",
       "Dask Name: from-delayed, 400 tasks"
      ],
      "text/html": "<div><strong>Dask DataFrame Structure:</strong></div>\n<div>\n<style scoped>\n    .dataframe tbody tr th:only-of-type {\n        vertical-align: middle;\n    }\n\n    .dataframe tbody tr th {\n        vertical-align: top;\n    }\n\n    .dataframe thead th {\n        text-align: right;\n    }\n</style>\n<table border=\"1\" class=\"dataframe\">\n  <thead>\n    <tr style=\"text-align: right;\">\n      <th></th>\n      <th>x</th>\n      <th>y</th>\n      <th>z</th>\n      <th>intensity</th>\n      <th>t</th>\n      <th>reflectivity</th>\n      <th>ring</th>\n      <th>noise</th>\n      <th>range</th>\n      <th>original_id</th>\n    </tr>\n    <tr>\n      <th>npartitions=200</th>\n      <th></th>\n      <th></th>\n      <th></th>\n      <th></th>\n      <th></th>\n      <th></th>\n      <th></th>\n      <th></th>\n      <th></th>\n      <th></th>\n    </tr>\n  </thead>\n  <tbody>\n    <tr>\n      <th></th>\n      <td>float32</td>\n      <td>float32</td>\n      <td>float32</td>\n      <td>float32</td>\n      <td>uint32</td>\n      <td>uint16</td>\n      <td>uint8</td>\n      <td>uint16</td>\n      <td>uint32</td>\n      <td>uint32</td>\n    </tr>\n    <tr>\n      <th></th>\n      <td>...</td>\n      <td>...</td>\n      <td>...</td>\n      <td>...</td>\n      <td>...</td>\n      <td>...</td>\n      <td>...</td>\n      <td>...</td>\n      <td>...</td>\n      <td>...</td>\n    </tr>\n    <tr>\n      <th>...</th>\n      <td>...</td>\n      <td>...</td>\n      <td>...</td>\n      <td>...</td>\n      <td>...</td>\n      <td>...</td>\n      <td>...</td>\n      <td>...</td>\n      <td>...</td>\n      <td>...</td>\n    </tr>\n    <tr>\n      <th></th>\n      <td>...</td>\n      <td>...</td>\n      <td>...</td>\n      <td>...</td>\n      <td>...</td>\n      <td>...</td>\n      <td>...</td>\n      <td>...</td>\n      <td>...</td>\n      <td>...</td>\n    </tr>\n    <tr>\n      <th></th>\n      <td>...</td>\n      <td>...</td>\n      <td>...</td>\n      <td>...</td>\n      <td>...</td>\n      <td>...</td>\n      <td>...</td>\n      <td>...</td>\n      <td>...</td>\n      <td>...</td>\n    </tr>\n  </tbody>\n</table>\n</div>\n<div>Dask Name: from-delayed, 400 tasks</div>"
     },
     "metadata": {},
     "execution_count": 13
    }
   ],
   "source": [
    "test"
   ]
  },
  {
   "cell_type": "code",
   "execution_count": 14,
   "metadata": {},
   "outputs": [
    {
     "output_type": "execute_result",
     "data": {
      "text/plain": [
       "               x         y         z  intensity         t  reflectivity  ring  \\\n",
       "0       0.796484 -0.043220  0.236579       50.0         0             3     0   \n",
       "1       0.807739  0.046913  0.214302      134.0         0             9     3   \n",
       "2       0.808805  0.016405  0.190070      153.0         0            10     6   \n",
       "3       0.818806 -0.043872  0.177631       65.0         0             4     8   \n",
       "4       0.821585 -0.013810  0.169493      136.0         0             9     9   \n",
       "...          ...       ...       ...        ...       ...           ...   ...   \n",
       "112182  0.801167  0.016010 -0.137276      107.0  99939680             7    50   \n",
       "112183  0.814400  0.046128 -0.147871       86.0  99939680             6    51   \n",
       "112184  0.809908 -0.013744 -0.161668      107.0  99939680             7    53   \n",
       "112185  0.795561  0.015620 -0.166755       86.0  99939680             6    54   \n",
       "112186  0.770369  0.015004 -0.191683       76.0  99939680             5    58   \n",
       "\n",
       "        noise  range  original_id  \n",
       "0          44    832            0  \n",
       "1          42    837            3  \n",
       "2          37    831            6  \n",
       "3          42    839            8  \n",
       "4          25    839            9  \n",
       "...       ...    ...          ...  \n",
       "112182     43    813       131058  \n",
       "112183     56    829       131059  \n",
       "112184     39    826       131061  \n",
       "112185     57    813       131062  \n",
       "112186     39    794       131066  \n",
       "\n",
       "[112187 rows x 10 columns]"
      ],
      "text/html": "<div>\n<style scoped>\n    .dataframe tbody tr th:only-of-type {\n        vertical-align: middle;\n    }\n\n    .dataframe tbody tr th {\n        vertical-align: top;\n    }\n\n    .dataframe thead th {\n        text-align: right;\n    }\n</style>\n<table border=\"1\" class=\"dataframe\">\n  <thead>\n    <tr style=\"text-align: right;\">\n      <th></th>\n      <th>x</th>\n      <th>y</th>\n      <th>z</th>\n      <th>intensity</th>\n      <th>t</th>\n      <th>reflectivity</th>\n      <th>ring</th>\n      <th>noise</th>\n      <th>range</th>\n      <th>original_id</th>\n    </tr>\n  </thead>\n  <tbody>\n    <tr>\n      <th>0</th>\n      <td>0.796484</td>\n      <td>-0.043220</td>\n      <td>0.236579</td>\n      <td>50.0</td>\n      <td>0</td>\n      <td>3</td>\n      <td>0</td>\n      <td>44</td>\n      <td>832</td>\n      <td>0</td>\n    </tr>\n    <tr>\n      <th>1</th>\n      <td>0.807739</td>\n      <td>0.046913</td>\n      <td>0.214302</td>\n      <td>134.0</td>\n      <td>0</td>\n      <td>9</td>\n      <td>3</td>\n      <td>42</td>\n      <td>837</td>\n      <td>3</td>\n    </tr>\n    <tr>\n      <th>2</th>\n      <td>0.808805</td>\n      <td>0.016405</td>\n      <td>0.190070</td>\n      <td>153.0</td>\n      <td>0</td>\n      <td>10</td>\n      <td>6</td>\n      <td>37</td>\n      <td>831</td>\n      <td>6</td>\n    </tr>\n    <tr>\n      <th>3</th>\n      <td>0.818806</td>\n      <td>-0.043872</td>\n      <td>0.177631</td>\n      <td>65.0</td>\n      <td>0</td>\n      <td>4</td>\n      <td>8</td>\n      <td>42</td>\n      <td>839</td>\n      <td>8</td>\n    </tr>\n    <tr>\n      <th>4</th>\n      <td>0.821585</td>\n      <td>-0.013810</td>\n      <td>0.169493</td>\n      <td>136.0</td>\n      <td>0</td>\n      <td>9</td>\n      <td>9</td>\n      <td>25</td>\n      <td>839</td>\n      <td>9</td>\n    </tr>\n    <tr>\n      <th>...</th>\n      <td>...</td>\n      <td>...</td>\n      <td>...</td>\n      <td>...</td>\n      <td>...</td>\n      <td>...</td>\n      <td>...</td>\n      <td>...</td>\n      <td>...</td>\n      <td>...</td>\n    </tr>\n    <tr>\n      <th>112182</th>\n      <td>0.801167</td>\n      <td>0.016010</td>\n      <td>-0.137276</td>\n      <td>107.0</td>\n      <td>99939680</td>\n      <td>7</td>\n      <td>50</td>\n      <td>43</td>\n      <td>813</td>\n      <td>131058</td>\n    </tr>\n    <tr>\n      <th>112183</th>\n      <td>0.814400</td>\n      <td>0.046128</td>\n      <td>-0.147871</td>\n      <td>86.0</td>\n      <td>99939680</td>\n      <td>6</td>\n      <td>51</td>\n      <td>56</td>\n      <td>829</td>\n      <td>131059</td>\n    </tr>\n    <tr>\n      <th>112184</th>\n      <td>0.809908</td>\n      <td>-0.013744</td>\n      <td>-0.161668</td>\n      <td>107.0</td>\n      <td>99939680</td>\n      <td>7</td>\n      <td>53</td>\n      <td>39</td>\n      <td>826</td>\n      <td>131061</td>\n    </tr>\n    <tr>\n      <th>112185</th>\n      <td>0.795561</td>\n      <td>0.015620</td>\n      <td>-0.166755</td>\n      <td>86.0</td>\n      <td>99939680</td>\n      <td>6</td>\n      <td>54</td>\n      <td>57</td>\n      <td>813</td>\n      <td>131062</td>\n    </tr>\n    <tr>\n      <th>112186</th>\n      <td>0.770369</td>\n      <td>0.015004</td>\n      <td>-0.191683</td>\n      <td>76.0</td>\n      <td>99939680</td>\n      <td>5</td>\n      <td>58</td>\n      <td>39</td>\n      <td>794</td>\n      <td>131066</td>\n    </tr>\n  </tbody>\n</table>\n<p>112187 rows × 10 columns</p>\n</div>"
     },
     "metadata": {},
     "execution_count": 14
    }
   ],
   "source": [
    "lazy_dataframes[0].compute()"
   ]
  },
  {
   "source": [
    "This is very promissing! I could just keep the tiny_lazy_dataframes and then convert it to a frame whenever needed!"
   ],
   "cell_type": "markdown",
   "metadata": {}
  },
  {
   "source": [
    "What about the meta data, how can I use that?"
   ],
   "cell_type": "markdown",
   "metadata": {}
  },
  {
   "source": [],
   "cell_type": "markdown",
   "metadata": {}
  },
  {
   "cell_type": "code",
   "execution_count": 17,
   "metadata": {},
   "outputs": [],
   "source": [
    "test.to_parquet(\"/workspaces/export_test\")"
   ]
  },
  {
   "cell_type": "code",
   "execution_count": 4,
   "metadata": {},
   "outputs": [],
   "source": [
    "test2 = dd.read_parquet(\"/workspaces/export_test\")"
   ]
  },
  {
   "cell_type": "code",
   "execution_count": 5,
   "metadata": {},
   "outputs": [
    {
     "output_type": "execute_result",
     "data": {
      "text/plain": [
       "1.252312421798706"
      ]
     },
     "metadata": {},
     "execution_count": 5
    }
   ],
   "source": [
    "test2.x.max().compute()"
   ]
  },
  {
   "source": [
    "Writing meta data as a json into the same folder"
   ],
   "cell_type": "markdown",
   "metadata": {}
  },
  {
   "cell_type": "code",
   "execution_count": 96,
   "metadata": {},
   "outputs": [],
   "source": [
    "def pipeline(df: pd.DataFrame, partition_info=None):\n",
    "    frame_number = partition_info[\"number\"]\n",
    "    df = df.reset_index(drop=True)\n",
    "    df[\"frame_number\"] = frame_number\n",
    "    frame = lidar.Frame.from_instance(\"dataframe\", df)\n",
    "    frame = frame.limit(\"x\", 0,1)\n",
    "    df = frame.data\n",
    "    return pd.DataFrame()"
   ]
  },
  {
   "cell_type": "code",
   "execution_count": 97,
   "metadata": {
    "tags": []
   },
   "outputs": [],
   "source": [
    "res = test.map_partitions(pipeline).compute()"
   ]
  },
  {
   "cell_type": "code",
   "execution_count": 98,
   "metadata": {},
   "outputs": [
    {
     "output_type": "error",
     "ename": "AttributeError",
     "evalue": "'DataFrame' object has no attribute 'x'",
     "traceback": [
      "\u001b[0;31m---------------------------------------------------------------------------\u001b[0m",
      "\u001b[0;31mAttributeError\u001b[0m                            Traceback (most recent call last)",
      "\u001b[0;32m<ipython-input-98-7f46a2201b90>\u001b[0m in \u001b[0;36m<module>\u001b[0;34m\u001b[0m\n\u001b[0;32m----> 1\u001b[0;31m \u001b[0mres\u001b[0m\u001b[0;34m.\u001b[0m\u001b[0mx\u001b[0m\u001b[0;34m.\u001b[0m\u001b[0mmax\u001b[0m\u001b[0;34m(\u001b[0m\u001b[0;34m)\u001b[0m\u001b[0;34m.\u001b[0m\u001b[0mcompute\u001b[0m\u001b[0;34m(\u001b[0m\u001b[0;34m)\u001b[0m\u001b[0;34m\u001b[0m\u001b[0;34m\u001b[0m\u001b[0m\n\u001b[0m",
      "\u001b[0;32m/opt/conda/lib/python3.7/site-packages/pandas/core/generic.py\u001b[0m in \u001b[0;36m__getattr__\u001b[0;34m(self, name)\u001b[0m\n\u001b[1;32m   5134\u001b[0m             \u001b[0;32mif\u001b[0m \u001b[0mself\u001b[0m\u001b[0;34m.\u001b[0m\u001b[0m_info_axis\u001b[0m\u001b[0;34m.\u001b[0m\u001b[0m_can_hold_identifiers_and_holds_name\u001b[0m\u001b[0;34m(\u001b[0m\u001b[0mname\u001b[0m\u001b[0;34m)\u001b[0m\u001b[0;34m:\u001b[0m\u001b[0;34m\u001b[0m\u001b[0;34m\u001b[0m\u001b[0m\n\u001b[1;32m   5135\u001b[0m                 \u001b[0;32mreturn\u001b[0m \u001b[0mself\u001b[0m\u001b[0;34m[\u001b[0m\u001b[0mname\u001b[0m\u001b[0;34m]\u001b[0m\u001b[0;34m\u001b[0m\u001b[0;34m\u001b[0m\u001b[0m\n\u001b[0;32m-> 5136\u001b[0;31m             \u001b[0;32mreturn\u001b[0m \u001b[0mobject\u001b[0m\u001b[0;34m.\u001b[0m\u001b[0m__getattribute__\u001b[0m\u001b[0;34m(\u001b[0m\u001b[0mself\u001b[0m\u001b[0;34m,\u001b[0m \u001b[0mname\u001b[0m\u001b[0;34m)\u001b[0m\u001b[0;34m\u001b[0m\u001b[0;34m\u001b[0m\u001b[0m\n\u001b[0m\u001b[1;32m   5137\u001b[0m \u001b[0;34m\u001b[0m\u001b[0m\n\u001b[1;32m   5138\u001b[0m     \u001b[0;32mdef\u001b[0m \u001b[0m__setattr__\u001b[0m\u001b[0;34m(\u001b[0m\u001b[0mself\u001b[0m\u001b[0;34m,\u001b[0m \u001b[0mname\u001b[0m\u001b[0;34m:\u001b[0m \u001b[0mstr\u001b[0m\u001b[0;34m,\u001b[0m \u001b[0mvalue\u001b[0m\u001b[0;34m)\u001b[0m \u001b[0;34m->\u001b[0m \u001b[0;32mNone\u001b[0m\u001b[0;34m:\u001b[0m\u001b[0;34m\u001b[0m\u001b[0;34m\u001b[0m\u001b[0m\n",
      "\u001b[0;31mAttributeError\u001b[0m: 'DataFrame' object has no attribute 'x'"
     ]
    }
   ],
   "source": [
    "res.x.max().compute()"
   ]
  },
  {
   "cell_type": "code",
   "execution_count": 94,
   "metadata": {},
   "outputs": [
    {
     "output_type": "execute_result",
     "data": {
      "text/plain": [
       "0    None\n",
       "1    None\n",
       "2    None\n",
       "3    None\n",
       "4    None\n",
       "5    None\n",
       "6    None\n",
       "7    None\n",
       "8    None\n",
       "9    None\n",
       "dtype: object"
      ]
     },
     "metadata": {},
     "execution_count": 94
    }
   ],
   "source": [
    "res"
   ]
  },
  {
   "cell_type": "code",
   "execution_count": 64,
   "metadata": {},
   "outputs": [],
   "source": [
    "test3 = test.to_delayed()"
   ]
  },
  {
   "cell_type": "code",
   "execution_count": 90,
   "metadata": {},
   "outputs": [
    {
     "output_type": "execute_result",
     "data": {
      "text/plain": [
       "              x         y         z  intensity         t  reflectivity  ring  \\\n",
       "0      0.796484 -0.043220  0.236579       50.0         0             3     0   \n",
       "1      0.807739  0.046913  0.214302      134.0         0             9     3   \n",
       "2      0.808805  0.016405  0.190070      153.0         0            10     6   \n",
       "3      0.818806 -0.043872  0.177631       65.0         0             4     8   \n",
       "4      0.821585 -0.013810  0.169493      136.0         0             9     9   \n",
       "...         ...       ...       ...        ...       ...           ...   ...   \n",
       "53866  0.789690  0.015505 -0.165525      113.0  99925450             7    54   \n",
       "53867  0.793718  0.045054 -0.174864       98.0  99925450             6    55   \n",
       "53868  0.770258 -0.013596 -0.183800       51.0  99925450             3    57   \n",
       "53869  0.755816  0.014721 -0.188061       81.0  99925450             5    58   \n",
       "53870  0.762484  0.043134 -0.198190       73.0  99925450             4    59   \n",
       "\n",
       "       noise  range  original_id  frame_number  \n",
       "0         44    832            0             0  \n",
       "1         42    837            3             0  \n",
       "2         37    831            6             0  \n",
       "3         42    839            8             0  \n",
       "4         25    839            9             0  \n",
       "...      ...    ...          ...           ...  \n",
       "53866     70    807       131062             9  \n",
       "53867     18    814       131063             9  \n",
       "53868     29    792       131065             9  \n",
       "53869     40    779       131066             9  \n",
       "53870     34    789       131067             9  \n",
       "\n",
       "[539550 rows x 11 columns]"
      ],
      "text/html": "<div>\n<style scoped>\n    .dataframe tbody tr th:only-of-type {\n        vertical-align: middle;\n    }\n\n    .dataframe tbody tr th {\n        vertical-align: top;\n    }\n\n    .dataframe thead th {\n        text-align: right;\n    }\n</style>\n<table border=\"1\" class=\"dataframe\">\n  <thead>\n    <tr style=\"text-align: right;\">\n      <th></th>\n      <th>x</th>\n      <th>y</th>\n      <th>z</th>\n      <th>intensity</th>\n      <th>t</th>\n      <th>reflectivity</th>\n      <th>ring</th>\n      <th>noise</th>\n      <th>range</th>\n      <th>original_id</th>\n      <th>frame_number</th>\n    </tr>\n  </thead>\n  <tbody>\n    <tr>\n      <th>0</th>\n      <td>0.796484</td>\n      <td>-0.043220</td>\n      <td>0.236579</td>\n      <td>50.0</td>\n      <td>0</td>\n      <td>3</td>\n      <td>0</td>\n      <td>44</td>\n      <td>832</td>\n      <td>0</td>\n      <td>0</td>\n    </tr>\n    <tr>\n      <th>1</th>\n      <td>0.807739</td>\n      <td>0.046913</td>\n      <td>0.214302</td>\n      <td>134.0</td>\n      <td>0</td>\n      <td>9</td>\n      <td>3</td>\n      <td>42</td>\n      <td>837</td>\n      <td>3</td>\n      <td>0</td>\n    </tr>\n    <tr>\n      <th>2</th>\n      <td>0.808805</td>\n      <td>0.016405</td>\n      <td>0.190070</td>\n      <td>153.0</td>\n      <td>0</td>\n      <td>10</td>\n      <td>6</td>\n      <td>37</td>\n      <td>831</td>\n      <td>6</td>\n      <td>0</td>\n    </tr>\n    <tr>\n      <th>3</th>\n      <td>0.818806</td>\n      <td>-0.043872</td>\n      <td>0.177631</td>\n      <td>65.0</td>\n      <td>0</td>\n      <td>4</td>\n      <td>8</td>\n      <td>42</td>\n      <td>839</td>\n      <td>8</td>\n      <td>0</td>\n    </tr>\n    <tr>\n      <th>4</th>\n      <td>0.821585</td>\n      <td>-0.013810</td>\n      <td>0.169493</td>\n      <td>136.0</td>\n      <td>0</td>\n      <td>9</td>\n      <td>9</td>\n      <td>25</td>\n      <td>839</td>\n      <td>9</td>\n      <td>0</td>\n    </tr>\n    <tr>\n      <th>...</th>\n      <td>...</td>\n      <td>...</td>\n      <td>...</td>\n      <td>...</td>\n      <td>...</td>\n      <td>...</td>\n      <td>...</td>\n      <td>...</td>\n      <td>...</td>\n      <td>...</td>\n      <td>...</td>\n    </tr>\n    <tr>\n      <th>53866</th>\n      <td>0.789690</td>\n      <td>0.015505</td>\n      <td>-0.165525</td>\n      <td>113.0</td>\n      <td>99925450</td>\n      <td>7</td>\n      <td>54</td>\n      <td>70</td>\n      <td>807</td>\n      <td>131062</td>\n      <td>9</td>\n    </tr>\n    <tr>\n      <th>53867</th>\n      <td>0.793718</td>\n      <td>0.045054</td>\n      <td>-0.174864</td>\n      <td>98.0</td>\n      <td>99925450</td>\n      <td>6</td>\n      <td>55</td>\n      <td>18</td>\n      <td>814</td>\n      <td>131063</td>\n      <td>9</td>\n    </tr>\n    <tr>\n      <th>53868</th>\n      <td>0.770258</td>\n      <td>-0.013596</td>\n      <td>-0.183800</td>\n      <td>51.0</td>\n      <td>99925450</td>\n      <td>3</td>\n      <td>57</td>\n      <td>29</td>\n      <td>792</td>\n      <td>131065</td>\n      <td>9</td>\n    </tr>\n    <tr>\n      <th>53869</th>\n      <td>0.755816</td>\n      <td>0.014721</td>\n      <td>-0.188061</td>\n      <td>81.0</td>\n      <td>99925450</td>\n      <td>5</td>\n      <td>58</td>\n      <td>40</td>\n      <td>779</td>\n      <td>131066</td>\n      <td>9</td>\n    </tr>\n    <tr>\n      <th>53870</th>\n      <td>0.762484</td>\n      <td>0.043134</td>\n      <td>-0.198190</td>\n      <td>73.0</td>\n      <td>99925450</td>\n      <td>4</td>\n      <td>59</td>\n      <td>34</td>\n      <td>789</td>\n      <td>131067</td>\n      <td>9</td>\n    </tr>\n  </tbody>\n</table>\n<p>539550 rows × 11 columns</p>\n</div>"
     },
     "metadata": {},
     "execution_count": 90
    }
   ],
   "source": [
    "res"
   ]
  },
  {
   "cell_type": "code",
   "execution_count": 68,
   "metadata": {},
   "outputs": [],
   "source": [
    "test4 = test3[0]"
   ]
  },
  {
   "cell_type": "code",
   "execution_count": 72,
   "metadata": {},
   "outputs": [],
   "source": [
    "def pipeline2(df: pd.DataFrame, ):\n",
    "    frame = lidar.Frame.from_instance(\"dataframe\", df)\n",
    "    frame.limit(\"x\", 0,1)\n",
    "    return frame.data"
   ]
  },
  {
   "cell_type": "code",
   "execution_count": 75,
   "metadata": {},
   "outputs": [
    {
     "output_type": "error",
     "ename": "TypeError",
     "evalue": "'DataFrame' object is not callable",
     "traceback": [
      "\u001b[0;31m---------------------------------------------------------------------------\u001b[0m",
      "\u001b[0;31mTypeError\u001b[0m                                 Traceback (most recent call last)",
      "\u001b[0;32m<ipython-input-75-b8b4a9202608>\u001b[0m in \u001b[0;36m<module>\u001b[0;34m\u001b[0m\n\u001b[0;32m----> 1\u001b[0;31m \u001b[0mtest4\u001b[0m\u001b[0;34m(\u001b[0m\u001b[0mlen\u001b[0m\u001b[0;34m)\u001b[0m\u001b[0;34m.\u001b[0m\u001b[0mcompute\u001b[0m\u001b[0;34m(\u001b[0m\u001b[0;34m)\u001b[0m\u001b[0;34m\u001b[0m\u001b[0;34m\u001b[0m\u001b[0m\n\u001b[0m",
      "\u001b[0;32m/opt/conda/lib/python3.7/site-packages/dask/base.py\u001b[0m in \u001b[0;36mcompute\u001b[0;34m(self, **kwargs)\u001b[0m\n\u001b[1;32m    281\u001b[0m         \u001b[0mdask\u001b[0m\u001b[0;34m.\u001b[0m\u001b[0mbase\u001b[0m\u001b[0;34m.\u001b[0m\u001b[0mcompute\u001b[0m\u001b[0;34m\u001b[0m\u001b[0;34m\u001b[0m\u001b[0m\n\u001b[1;32m    282\u001b[0m         \"\"\"\n\u001b[0;32m--> 283\u001b[0;31m         \u001b[0;34m(\u001b[0m\u001b[0mresult\u001b[0m\u001b[0;34m,\u001b[0m\u001b[0;34m)\u001b[0m \u001b[0;34m=\u001b[0m \u001b[0mcompute\u001b[0m\u001b[0;34m(\u001b[0m\u001b[0mself\u001b[0m\u001b[0;34m,\u001b[0m \u001b[0mtraverse\u001b[0m\u001b[0;34m=\u001b[0m\u001b[0;32mFalse\u001b[0m\u001b[0;34m,\u001b[0m \u001b[0;34m**\u001b[0m\u001b[0mkwargs\u001b[0m\u001b[0;34m)\u001b[0m\u001b[0;34m\u001b[0m\u001b[0;34m\u001b[0m\u001b[0m\n\u001b[0m\u001b[1;32m    284\u001b[0m         \u001b[0;32mreturn\u001b[0m \u001b[0mresult\u001b[0m\u001b[0;34m\u001b[0m\u001b[0;34m\u001b[0m\u001b[0m\n\u001b[1;32m    285\u001b[0m \u001b[0;34m\u001b[0m\u001b[0m\n",
      "\u001b[0;32m/opt/conda/lib/python3.7/site-packages/dask/base.py\u001b[0m in \u001b[0;36mcompute\u001b[0;34m(*args, **kwargs)\u001b[0m\n\u001b[1;32m    563\u001b[0m         \u001b[0mpostcomputes\u001b[0m\u001b[0;34m.\u001b[0m\u001b[0mappend\u001b[0m\u001b[0;34m(\u001b[0m\u001b[0mx\u001b[0m\u001b[0;34m.\u001b[0m\u001b[0m__dask_postcompute__\u001b[0m\u001b[0;34m(\u001b[0m\u001b[0;34m)\u001b[0m\u001b[0;34m)\u001b[0m\u001b[0;34m\u001b[0m\u001b[0;34m\u001b[0m\u001b[0m\n\u001b[1;32m    564\u001b[0m \u001b[0;34m\u001b[0m\u001b[0m\n\u001b[0;32m--> 565\u001b[0;31m     \u001b[0mresults\u001b[0m \u001b[0;34m=\u001b[0m \u001b[0mschedule\u001b[0m\u001b[0;34m(\u001b[0m\u001b[0mdsk\u001b[0m\u001b[0;34m,\u001b[0m \u001b[0mkeys\u001b[0m\u001b[0;34m,\u001b[0m \u001b[0;34m**\u001b[0m\u001b[0mkwargs\u001b[0m\u001b[0;34m)\u001b[0m\u001b[0;34m\u001b[0m\u001b[0;34m\u001b[0m\u001b[0m\n\u001b[0m\u001b[1;32m    566\u001b[0m     \u001b[0;32mreturn\u001b[0m \u001b[0mrepack\u001b[0m\u001b[0;34m(\u001b[0m\u001b[0;34m[\u001b[0m\u001b[0mf\u001b[0m\u001b[0;34m(\u001b[0m\u001b[0mr\u001b[0m\u001b[0;34m,\u001b[0m \u001b[0;34m*\u001b[0m\u001b[0ma\u001b[0m\u001b[0;34m)\u001b[0m \u001b[0;32mfor\u001b[0m \u001b[0mr\u001b[0m\u001b[0;34m,\u001b[0m \u001b[0;34m(\u001b[0m\u001b[0mf\u001b[0m\u001b[0;34m,\u001b[0m \u001b[0ma\u001b[0m\u001b[0;34m)\u001b[0m \u001b[0;32min\u001b[0m \u001b[0mzip\u001b[0m\u001b[0;34m(\u001b[0m\u001b[0mresults\u001b[0m\u001b[0;34m,\u001b[0m \u001b[0mpostcomputes\u001b[0m\u001b[0;34m)\u001b[0m\u001b[0;34m]\u001b[0m\u001b[0;34m)\u001b[0m\u001b[0;34m\u001b[0m\u001b[0;34m\u001b[0m\u001b[0m\n\u001b[1;32m    567\u001b[0m \u001b[0;34m\u001b[0m\u001b[0m\n",
      "\u001b[0;32m/opt/conda/lib/python3.7/site-packages/distributed/client.py\u001b[0m in \u001b[0;36mget\u001b[0;34m(self, dsk, keys, workers, allow_other_workers, resources, sync, asynchronous, direct, retries, priority, fifo_timeout, actors, **kwargs)\u001b[0m\n\u001b[1;32m   2652\u001b[0m                     \u001b[0mshould_rejoin\u001b[0m \u001b[0;34m=\u001b[0m \u001b[0;32mFalse\u001b[0m\u001b[0;34m\u001b[0m\u001b[0;34m\u001b[0m\u001b[0m\n\u001b[1;32m   2653\u001b[0m             \u001b[0;32mtry\u001b[0m\u001b[0;34m:\u001b[0m\u001b[0;34m\u001b[0m\u001b[0;34m\u001b[0m\u001b[0m\n\u001b[0;32m-> 2654\u001b[0;31m                 \u001b[0mresults\u001b[0m \u001b[0;34m=\u001b[0m \u001b[0mself\u001b[0m\u001b[0;34m.\u001b[0m\u001b[0mgather\u001b[0m\u001b[0;34m(\u001b[0m\u001b[0mpacked\u001b[0m\u001b[0;34m,\u001b[0m \u001b[0masynchronous\u001b[0m\u001b[0;34m=\u001b[0m\u001b[0masynchronous\u001b[0m\u001b[0;34m,\u001b[0m \u001b[0mdirect\u001b[0m\u001b[0;34m=\u001b[0m\u001b[0mdirect\u001b[0m\u001b[0;34m)\u001b[0m\u001b[0;34m\u001b[0m\u001b[0;34m\u001b[0m\u001b[0m\n\u001b[0m\u001b[1;32m   2655\u001b[0m             \u001b[0;32mfinally\u001b[0m\u001b[0;34m:\u001b[0m\u001b[0;34m\u001b[0m\u001b[0;34m\u001b[0m\u001b[0m\n\u001b[1;32m   2656\u001b[0m                 \u001b[0;32mfor\u001b[0m \u001b[0mf\u001b[0m \u001b[0;32min\u001b[0m \u001b[0mfutures\u001b[0m\u001b[0;34m.\u001b[0m\u001b[0mvalues\u001b[0m\u001b[0;34m(\u001b[0m\u001b[0;34m)\u001b[0m\u001b[0;34m:\u001b[0m\u001b[0;34m\u001b[0m\u001b[0;34m\u001b[0m\u001b[0m\n",
      "\u001b[0;32m/opt/conda/lib/python3.7/site-packages/distributed/client.py\u001b[0m in \u001b[0;36mgather\u001b[0;34m(self, futures, errors, direct, asynchronous)\u001b[0m\n\u001b[1;32m   1967\u001b[0m                 \u001b[0mdirect\u001b[0m\u001b[0;34m=\u001b[0m\u001b[0mdirect\u001b[0m\u001b[0;34m,\u001b[0m\u001b[0;34m\u001b[0m\u001b[0;34m\u001b[0m\u001b[0m\n\u001b[1;32m   1968\u001b[0m                 \u001b[0mlocal_worker\u001b[0m\u001b[0;34m=\u001b[0m\u001b[0mlocal_worker\u001b[0m\u001b[0;34m,\u001b[0m\u001b[0;34m\u001b[0m\u001b[0;34m\u001b[0m\u001b[0m\n\u001b[0;32m-> 1969\u001b[0;31m                 \u001b[0masynchronous\u001b[0m\u001b[0;34m=\u001b[0m\u001b[0masynchronous\u001b[0m\u001b[0;34m,\u001b[0m\u001b[0;34m\u001b[0m\u001b[0;34m\u001b[0m\u001b[0m\n\u001b[0m\u001b[1;32m   1970\u001b[0m             )\n\u001b[1;32m   1971\u001b[0m \u001b[0;34m\u001b[0m\u001b[0m\n",
      "\u001b[0;32m/opt/conda/lib/python3.7/site-packages/distributed/client.py\u001b[0m in \u001b[0;36msync\u001b[0;34m(self, func, asynchronous, callback_timeout, *args, **kwargs)\u001b[0m\n\u001b[1;32m    836\u001b[0m         \u001b[0;32melse\u001b[0m\u001b[0;34m:\u001b[0m\u001b[0;34m\u001b[0m\u001b[0;34m\u001b[0m\u001b[0m\n\u001b[1;32m    837\u001b[0m             return sync(\n\u001b[0;32m--> 838\u001b[0;31m                 \u001b[0mself\u001b[0m\u001b[0;34m.\u001b[0m\u001b[0mloop\u001b[0m\u001b[0;34m,\u001b[0m \u001b[0mfunc\u001b[0m\u001b[0;34m,\u001b[0m \u001b[0;34m*\u001b[0m\u001b[0margs\u001b[0m\u001b[0;34m,\u001b[0m \u001b[0mcallback_timeout\u001b[0m\u001b[0;34m=\u001b[0m\u001b[0mcallback_timeout\u001b[0m\u001b[0;34m,\u001b[0m \u001b[0;34m**\u001b[0m\u001b[0mkwargs\u001b[0m\u001b[0;34m\u001b[0m\u001b[0;34m\u001b[0m\u001b[0m\n\u001b[0m\u001b[1;32m    839\u001b[0m             )\n\u001b[1;32m    840\u001b[0m \u001b[0;34m\u001b[0m\u001b[0m\n",
      "\u001b[0;32m/opt/conda/lib/python3.7/site-packages/distributed/utils.py\u001b[0m in \u001b[0;36msync\u001b[0;34m(loop, func, callback_timeout, *args, **kwargs)\u001b[0m\n\u001b[1;32m    349\u001b[0m     \u001b[0;32mif\u001b[0m \u001b[0merror\u001b[0m\u001b[0;34m[\u001b[0m\u001b[0;36m0\u001b[0m\u001b[0;34m]\u001b[0m\u001b[0;34m:\u001b[0m\u001b[0;34m\u001b[0m\u001b[0;34m\u001b[0m\u001b[0m\n\u001b[1;32m    350\u001b[0m         \u001b[0mtyp\u001b[0m\u001b[0;34m,\u001b[0m \u001b[0mexc\u001b[0m\u001b[0;34m,\u001b[0m \u001b[0mtb\u001b[0m \u001b[0;34m=\u001b[0m \u001b[0merror\u001b[0m\u001b[0;34m[\u001b[0m\u001b[0;36m0\u001b[0m\u001b[0;34m]\u001b[0m\u001b[0;34m\u001b[0m\u001b[0;34m\u001b[0m\u001b[0m\n\u001b[0;32m--> 351\u001b[0;31m         \u001b[0;32mraise\u001b[0m \u001b[0mexc\u001b[0m\u001b[0;34m.\u001b[0m\u001b[0mwith_traceback\u001b[0m\u001b[0;34m(\u001b[0m\u001b[0mtb\u001b[0m\u001b[0;34m)\u001b[0m\u001b[0;34m\u001b[0m\u001b[0;34m\u001b[0m\u001b[0m\n\u001b[0m\u001b[1;32m    352\u001b[0m     \u001b[0;32melse\u001b[0m\u001b[0;34m:\u001b[0m\u001b[0;34m\u001b[0m\u001b[0;34m\u001b[0m\u001b[0m\n\u001b[1;32m    353\u001b[0m         \u001b[0;32mreturn\u001b[0m \u001b[0mresult\u001b[0m\u001b[0;34m[\u001b[0m\u001b[0;36m0\u001b[0m\u001b[0;34m]\u001b[0m\u001b[0;34m\u001b[0m\u001b[0;34m\u001b[0m\u001b[0m\n",
      "\u001b[0;32m/opt/conda/lib/python3.7/site-packages/distributed/utils.py\u001b[0m in \u001b[0;36mf\u001b[0;34m()\u001b[0m\n\u001b[1;32m    332\u001b[0m             \u001b[0;32mif\u001b[0m \u001b[0mcallback_timeout\u001b[0m \u001b[0;32mis\u001b[0m \u001b[0;32mnot\u001b[0m \u001b[0;32mNone\u001b[0m\u001b[0;34m:\u001b[0m\u001b[0;34m\u001b[0m\u001b[0;34m\u001b[0m\u001b[0m\n\u001b[1;32m    333\u001b[0m                 \u001b[0mfuture\u001b[0m \u001b[0;34m=\u001b[0m \u001b[0masyncio\u001b[0m\u001b[0;34m.\u001b[0m\u001b[0mwait_for\u001b[0m\u001b[0;34m(\u001b[0m\u001b[0mfuture\u001b[0m\u001b[0;34m,\u001b[0m \u001b[0mcallback_timeout\u001b[0m\u001b[0;34m)\u001b[0m\u001b[0;34m\u001b[0m\u001b[0;34m\u001b[0m\u001b[0m\n\u001b[0;32m--> 334\u001b[0;31m             \u001b[0mresult\u001b[0m\u001b[0;34m[\u001b[0m\u001b[0;36m0\u001b[0m\u001b[0;34m]\u001b[0m \u001b[0;34m=\u001b[0m \u001b[0;32myield\u001b[0m \u001b[0mfuture\u001b[0m\u001b[0;34m\u001b[0m\u001b[0;34m\u001b[0m\u001b[0m\n\u001b[0m\u001b[1;32m    335\u001b[0m         \u001b[0;32mexcept\u001b[0m \u001b[0mException\u001b[0m \u001b[0;32mas\u001b[0m \u001b[0mexc\u001b[0m\u001b[0;34m:\u001b[0m\u001b[0;34m\u001b[0m\u001b[0;34m\u001b[0m\u001b[0m\n\u001b[1;32m    336\u001b[0m             \u001b[0merror\u001b[0m\u001b[0;34m[\u001b[0m\u001b[0;36m0\u001b[0m\u001b[0;34m]\u001b[0m \u001b[0;34m=\u001b[0m \u001b[0msys\u001b[0m\u001b[0;34m.\u001b[0m\u001b[0mexc_info\u001b[0m\u001b[0;34m(\u001b[0m\u001b[0;34m)\u001b[0m\u001b[0;34m\u001b[0m\u001b[0;34m\u001b[0m\u001b[0m\n",
      "\u001b[0;32m/opt/conda/lib/python3.7/site-packages/tornado/gen.py\u001b[0m in \u001b[0;36mrun\u001b[0;34m(self)\u001b[0m\n\u001b[1;32m    733\u001b[0m \u001b[0;34m\u001b[0m\u001b[0m\n\u001b[1;32m    734\u001b[0m                     \u001b[0;32mtry\u001b[0m\u001b[0;34m:\u001b[0m\u001b[0;34m\u001b[0m\u001b[0;34m\u001b[0m\u001b[0m\n\u001b[0;32m--> 735\u001b[0;31m                         \u001b[0mvalue\u001b[0m \u001b[0;34m=\u001b[0m \u001b[0mfuture\u001b[0m\u001b[0;34m.\u001b[0m\u001b[0mresult\u001b[0m\u001b[0;34m(\u001b[0m\u001b[0;34m)\u001b[0m\u001b[0;34m\u001b[0m\u001b[0;34m\u001b[0m\u001b[0m\n\u001b[0m\u001b[1;32m    736\u001b[0m                     \u001b[0;32mexcept\u001b[0m \u001b[0mException\u001b[0m\u001b[0;34m:\u001b[0m\u001b[0;34m\u001b[0m\u001b[0;34m\u001b[0m\u001b[0m\n\u001b[1;32m    737\u001b[0m                         \u001b[0mexc_info\u001b[0m \u001b[0;34m=\u001b[0m \u001b[0msys\u001b[0m\u001b[0;34m.\u001b[0m\u001b[0mexc_info\u001b[0m\u001b[0;34m(\u001b[0m\u001b[0;34m)\u001b[0m\u001b[0;34m\u001b[0m\u001b[0;34m\u001b[0m\u001b[0m\n",
      "\u001b[0;32m/opt/conda/lib/python3.7/site-packages/distributed/client.py\u001b[0m in \u001b[0;36m_gather\u001b[0;34m(self, futures, errors, direct, local_worker)\u001b[0m\n\u001b[1;32m   1826\u001b[0m                             \u001b[0mexc\u001b[0m \u001b[0;34m=\u001b[0m \u001b[0mCancelledError\u001b[0m\u001b[0;34m(\u001b[0m\u001b[0mkey\u001b[0m\u001b[0;34m)\u001b[0m\u001b[0;34m\u001b[0m\u001b[0;34m\u001b[0m\u001b[0m\n\u001b[1;32m   1827\u001b[0m                         \u001b[0;32melse\u001b[0m\u001b[0;34m:\u001b[0m\u001b[0;34m\u001b[0m\u001b[0;34m\u001b[0m\u001b[0m\n\u001b[0;32m-> 1828\u001b[0;31m                             \u001b[0;32mraise\u001b[0m \u001b[0mexception\u001b[0m\u001b[0;34m.\u001b[0m\u001b[0mwith_traceback\u001b[0m\u001b[0;34m(\u001b[0m\u001b[0mtraceback\u001b[0m\u001b[0;34m)\u001b[0m\u001b[0;34m\u001b[0m\u001b[0;34m\u001b[0m\u001b[0m\n\u001b[0m\u001b[1;32m   1829\u001b[0m                         \u001b[0;32mraise\u001b[0m \u001b[0mexc\u001b[0m\u001b[0;34m\u001b[0m\u001b[0;34m\u001b[0m\u001b[0m\n\u001b[1;32m   1830\u001b[0m                     \u001b[0;32mif\u001b[0m \u001b[0merrors\u001b[0m \u001b[0;34m==\u001b[0m \u001b[0;34m\"skip\"\u001b[0m\u001b[0;34m:\u001b[0m\u001b[0;34m\u001b[0m\u001b[0;34m\u001b[0m\u001b[0m\n",
      "\u001b[0;32m/opt/conda/lib/python3.7/site-packages/dask/utils.py\u001b[0m in \u001b[0;36mapply\u001b[0;34m()\u001b[0m\n\u001b[1;32m     35\u001b[0m         \u001b[0;32mreturn\u001b[0m \u001b[0mfunc\u001b[0m\u001b[0;34m(\u001b[0m\u001b[0;34m*\u001b[0m\u001b[0margs\u001b[0m\u001b[0;34m,\u001b[0m \u001b[0;34m**\u001b[0m\u001b[0mkwargs\u001b[0m\u001b[0;34m)\u001b[0m\u001b[0;34m\u001b[0m\u001b[0;34m\u001b[0m\u001b[0m\n\u001b[1;32m     36\u001b[0m     \u001b[0;32melse\u001b[0m\u001b[0;34m:\u001b[0m\u001b[0;34m\u001b[0m\u001b[0;34m\u001b[0m\u001b[0m\n\u001b[0;32m---> 37\u001b[0;31m         \u001b[0;32mreturn\u001b[0m \u001b[0mfunc\u001b[0m\u001b[0;34m(\u001b[0m\u001b[0;34m*\u001b[0m\u001b[0margs\u001b[0m\u001b[0;34m)\u001b[0m\u001b[0;34m\u001b[0m\u001b[0;34m\u001b[0m\u001b[0m\n\u001b[0m\u001b[1;32m     38\u001b[0m \u001b[0;34m\u001b[0m\u001b[0m\n\u001b[1;32m     39\u001b[0m \u001b[0;34m\u001b[0m\u001b[0m\n",
      "\u001b[0;31mTypeError\u001b[0m: 'DataFrame' object is not callable"
     ]
    }
   ],
   "source": [
    "test4(len).compute()"
   ]
  },
  {
   "cell_type": "code",
   "execution_count": 21,
   "metadata": {},
   "outputs": [],
   "source": [
    "meta = {\"oring_file\": \"sepp\", \"timestamps\": [234234.234234, 234234.22234]}"
   ]
  },
  {
   "cell_type": "code",
   "execution_count": null,
   "metadata": {},
   "outputs": [],
   "source": []
  },
  {
   "cell_type": "code",
   "execution_count": 22,
   "metadata": {},
   "outputs": [],
   "source": [
    "import json"
   ]
  },
  {
   "cell_type": "code",
   "execution_count": 24,
   "metadata": {},
   "outputs": [
    {
     "output_type": "error",
     "ename": "TypeError",
     "evalue": "dump() missing 1 required positional argument: 'fp'",
     "traceback": [
      "\u001b[0;31m---------------------------------------------------------------------------\u001b[0m",
      "\u001b[0;31mTypeError\u001b[0m                                 Traceback (most recent call last)",
      "\u001b[0;32m<ipython-input-24-949039fff479>\u001b[0m in \u001b[0;36m<module>\u001b[0;34m\u001b[0m\n\u001b[0;32m----> 1\u001b[0;31m \u001b[0mjson\u001b[0m\u001b[0;34m.\u001b[0m\u001b[0mdump\u001b[0m\u001b[0;34m(\u001b[0m\u001b[0mmeta\u001b[0m\u001b[0;34m)\u001b[0m\u001b[0;34m\u001b[0m\u001b[0;34m\u001b[0m\u001b[0m\n\u001b[0m",
      "\u001b[0;31mTypeError\u001b[0m: dump() missing 1 required positional argument: 'fp'"
     ]
    }
   ],
   "source": [
    "json.dump(meta)"
   ]
  },
  {
   "cell_type": "code",
   "execution_count": 25,
   "metadata": {},
   "outputs": [],
   "source": [
    "with open(\"/workspaces/export_test/data_file.json\", \"w\") as write_file:\n",
    "    json.dump(meta, write_file)\n"
   ]
  },
  {
   "cell_type": "code",
   "execution_count": 26,
   "metadata": {},
   "outputs": [],
   "source": [
    "with open(\"/workspaces/export_test/data_file.json\", \"r\") as read_file:\n",
    "    data = json.load(read_file)\n"
   ]
  },
  {
   "cell_type": "code",
   "execution_count": 28,
   "metadata": {},
   "outputs": [
    {
     "output_type": "execute_result",
     "data": {
      "text/plain": [
       "'sepp'"
      ]
     },
     "metadata": {},
     "execution_count": 28
    }
   ],
   "source": [
    "data[\"t\"]"
   ]
  },
  {
   "cell_type": "code",
   "execution_count": 6,
   "metadata": {},
   "outputs": [
    {
     "output_type": "execute_result",
     "data": {
      "text/plain": [
       "dask.dataframe.core.DataFrame"
      ]
     },
     "metadata": {},
     "execution_count": 6
    }
   ],
   "source": [
    "type(test2)"
   ]
  },
  {
   "cell_type": "code",
   "execution_count": 10,
   "metadata": {},
   "outputs": [
    {
     "output_type": "execute_result",
     "data": {
      "text/plain": [
       "                  x             y             z     intensity             t  \\\n",
       "count  2.240581e+07  2.240581e+07  2.240581e+07  2.240581e+07  2.240581e+07   \n",
       "mean  -1.395355e+00 -1.555028e-01  1.420729e-01  1.098774e+02  4.939794e+07   \n",
       "std    3.188425e+00  2.228653e+00  7.776557e-01  1.323687e+02  2.772368e+07   \n",
       "min   -3.452180e+01 -1.538729e+01 -6.654050e-01  8.000000e+00  0.000000e+00   \n",
       "25%   -1.821742e+00 -1.528600e+00 -2.560951e-01  4.700000e+01  2.574580e+07   \n",
       "50%    2.228281e-02  2.162177e-02 -4.399885e-03  7.100000e+01  5.035434e+07   \n",
       "75%    7.839448e-01  1.622289e+00  2.577102e-01  1.290000e+02  7.485591e+07   \n",
       "max    1.252312e+00  5.981112e+00  6.153335e+00  2.566000e+03  9.998461e+07   \n",
       "\n",
       "       reflectivity          ring         noise         range   original_id  \n",
       "count  2.240581e+07  2.240581e+07  2.240581e+07  2.240581e+07  2.240581e+07  \n",
       "mean   2.981485e+02  3.154140e+01  4.484404e+01  2.951956e+03  6.478594e+04  \n",
       "std    7.314155e+02  1.837981e+01  5.830621e+01  3.002505e+03  3.634500e+04  \n",
       "min    1.000000e+00  0.000000e+00  0.000000e+00  6.650000e+02  0.000000e+00  \n",
       "25%    7.000000e+00  1.600000e+01  3.000000e+01  1.212000e+03  3.375075e+04  \n",
       "50%    2.100000e+01  3.200000e+01  3.900000e+01  1.956000e+03  6.606600e+04  \n",
       "75%    1.150000e+02  4.800000e+01  5.100000e+01  3.280000e+03  9.823450e+04  \n",
       "max    1.974000e+04  6.300000e+01  2.071000e+03  3.501700e+04  1.310700e+05  "
      ],
      "text/html": "<div>\n<style scoped>\n    .dataframe tbody tr th:only-of-type {\n        vertical-align: middle;\n    }\n\n    .dataframe tbody tr th {\n        vertical-align: top;\n    }\n\n    .dataframe thead th {\n        text-align: right;\n    }\n</style>\n<table border=\"1\" class=\"dataframe\">\n  <thead>\n    <tr style=\"text-align: right;\">\n      <th></th>\n      <th>x</th>\n      <th>y</th>\n      <th>z</th>\n      <th>intensity</th>\n      <th>t</th>\n      <th>reflectivity</th>\n      <th>ring</th>\n      <th>noise</th>\n      <th>range</th>\n      <th>original_id</th>\n    </tr>\n  </thead>\n  <tbody>\n    <tr>\n      <th>count</th>\n      <td>2.240581e+07</td>\n      <td>2.240581e+07</td>\n      <td>2.240581e+07</td>\n      <td>2.240581e+07</td>\n      <td>2.240581e+07</td>\n      <td>2.240581e+07</td>\n      <td>2.240581e+07</td>\n      <td>2.240581e+07</td>\n      <td>2.240581e+07</td>\n      <td>2.240581e+07</td>\n    </tr>\n    <tr>\n      <th>mean</th>\n      <td>-1.395355e+00</td>\n      <td>-1.555028e-01</td>\n      <td>1.420729e-01</td>\n      <td>1.098774e+02</td>\n      <td>4.939794e+07</td>\n      <td>2.981485e+02</td>\n      <td>3.154140e+01</td>\n      <td>4.484404e+01</td>\n      <td>2.951956e+03</td>\n      <td>6.478594e+04</td>\n    </tr>\n    <tr>\n      <th>std</th>\n      <td>3.188425e+00</td>\n      <td>2.228653e+00</td>\n      <td>7.776557e-01</td>\n      <td>1.323687e+02</td>\n      <td>2.772368e+07</td>\n      <td>7.314155e+02</td>\n      <td>1.837981e+01</td>\n      <td>5.830621e+01</td>\n      <td>3.002505e+03</td>\n      <td>3.634500e+04</td>\n    </tr>\n    <tr>\n      <th>min</th>\n      <td>-3.452180e+01</td>\n      <td>-1.538729e+01</td>\n      <td>-6.654050e-01</td>\n      <td>8.000000e+00</td>\n      <td>0.000000e+00</td>\n      <td>1.000000e+00</td>\n      <td>0.000000e+00</td>\n      <td>0.000000e+00</td>\n      <td>6.650000e+02</td>\n      <td>0.000000e+00</td>\n    </tr>\n    <tr>\n      <th>25%</th>\n      <td>-1.821742e+00</td>\n      <td>-1.528600e+00</td>\n      <td>-2.560951e-01</td>\n      <td>4.700000e+01</td>\n      <td>2.574580e+07</td>\n      <td>7.000000e+00</td>\n      <td>1.600000e+01</td>\n      <td>3.000000e+01</td>\n      <td>1.212000e+03</td>\n      <td>3.375075e+04</td>\n    </tr>\n    <tr>\n      <th>50%</th>\n      <td>2.228281e-02</td>\n      <td>2.162177e-02</td>\n      <td>-4.399885e-03</td>\n      <td>7.100000e+01</td>\n      <td>5.035434e+07</td>\n      <td>2.100000e+01</td>\n      <td>3.200000e+01</td>\n      <td>3.900000e+01</td>\n      <td>1.956000e+03</td>\n      <td>6.606600e+04</td>\n    </tr>\n    <tr>\n      <th>75%</th>\n      <td>7.839448e-01</td>\n      <td>1.622289e+00</td>\n      <td>2.577102e-01</td>\n      <td>1.290000e+02</td>\n      <td>7.485591e+07</td>\n      <td>1.150000e+02</td>\n      <td>4.800000e+01</td>\n      <td>5.100000e+01</td>\n      <td>3.280000e+03</td>\n      <td>9.823450e+04</td>\n    </tr>\n    <tr>\n      <th>max</th>\n      <td>1.252312e+00</td>\n      <td>5.981112e+00</td>\n      <td>6.153335e+00</td>\n      <td>2.566000e+03</td>\n      <td>9.998461e+07</td>\n      <td>1.974000e+04</td>\n      <td>6.300000e+01</td>\n      <td>2.071000e+03</td>\n      <td>3.501700e+04</td>\n      <td>1.310700e+05</td>\n    </tr>\n  </tbody>\n</table>\n</div>"
     },
     "metadata": {},
     "execution_count": 10
    }
   ],
   "source": [
    "test2.describe().compute()"
   ]
  },
  {
   "cell_type": "code",
   "execution_count": 24,
   "metadata": {},
   "outputs": [
    {
     "output_type": "execute_result",
     "data": {
      "text/plain": [
       "(Delayed('int-3bde0fd9-9481-440e-8069-0e92b3cb828e'), 10)"
      ]
     },
     "metadata": {},
     "execution_count": 24
    }
   ],
   "source": [
    "test2.shape"
   ]
  },
  {
   "cell_type": "code",
   "execution_count": 25,
   "metadata": {},
   "outputs": [
    {
     "output_type": "execute_result",
     "data": {
      "text/plain": [
       "22405807"
      ]
     },
     "metadata": {},
     "execution_count": 25
    }
   ],
   "source": [
    "len(test2)"
   ]
  },
  {
   "cell_type": "code",
   "execution_count": 28,
   "metadata": {},
   "outputs": [
    {
     "output_type": "execute_result",
     "data": {
      "text/plain": [
       "Dask DataFrame Structure:\n",
       "                       x        y        z intensity       t reflectivity   ring   noise   range original_id\n",
       "npartitions=200                                                                                             \n",
       "                 float32  float32  float32   float32  uint32       uint16  uint8  uint16  uint32      uint32\n",
       "                     ...      ...      ...       ...     ...          ...    ...     ...     ...         ...\n",
       "...                  ...      ...      ...       ...     ...          ...    ...     ...     ...         ...\n",
       "                     ...      ...      ...       ...     ...          ...    ...     ...     ...         ...\n",
       "                     ...      ...      ...       ...     ...          ...    ...     ...     ...         ...\n",
       "Dask Name: read-parquet, 200 tasks"
      ],
      "text/html": "<div><strong>Dask DataFrame Structure:</strong></div>\n<div>\n<style scoped>\n    .dataframe tbody tr th:only-of-type {\n        vertical-align: middle;\n    }\n\n    .dataframe tbody tr th {\n        vertical-align: top;\n    }\n\n    .dataframe thead th {\n        text-align: right;\n    }\n</style>\n<table border=\"1\" class=\"dataframe\">\n  <thead>\n    <tr style=\"text-align: right;\">\n      <th></th>\n      <th>x</th>\n      <th>y</th>\n      <th>z</th>\n      <th>intensity</th>\n      <th>t</th>\n      <th>reflectivity</th>\n      <th>ring</th>\n      <th>noise</th>\n      <th>range</th>\n      <th>original_id</th>\n    </tr>\n    <tr>\n      <th>npartitions=200</th>\n      <th></th>\n      <th></th>\n      <th></th>\n      <th></th>\n      <th></th>\n      <th></th>\n      <th></th>\n      <th></th>\n      <th></th>\n      <th></th>\n    </tr>\n  </thead>\n  <tbody>\n    <tr>\n      <th></th>\n      <td>float32</td>\n      <td>float32</td>\n      <td>float32</td>\n      <td>float32</td>\n      <td>uint32</td>\n      <td>uint16</td>\n      <td>uint8</td>\n      <td>uint16</td>\n      <td>uint32</td>\n      <td>uint32</td>\n    </tr>\n    <tr>\n      <th></th>\n      <td>...</td>\n      <td>...</td>\n      <td>...</td>\n      <td>...</td>\n      <td>...</td>\n      <td>...</td>\n      <td>...</td>\n      <td>...</td>\n      <td>...</td>\n      <td>...</td>\n    </tr>\n    <tr>\n      <th>...</th>\n      <td>...</td>\n      <td>...</td>\n      <td>...</td>\n      <td>...</td>\n      <td>...</td>\n      <td>...</td>\n      <td>...</td>\n      <td>...</td>\n      <td>...</td>\n      <td>...</td>\n    </tr>\n    <tr>\n      <th></th>\n      <td>...</td>\n      <td>...</td>\n      <td>...</td>\n      <td>...</td>\n      <td>...</td>\n      <td>...</td>\n      <td>...</td>\n      <td>...</td>\n      <td>...</td>\n      <td>...</td>\n    </tr>\n    <tr>\n      <th></th>\n      <td>...</td>\n      <td>...</td>\n      <td>...</td>\n      <td>...</td>\n      <td>...</td>\n      <td>...</td>\n      <td>...</td>\n      <td>...</td>\n      <td>...</td>\n      <td>...</td>\n    </tr>\n  </tbody>\n</table>\n</div>\n<div>Dask Name: read-parquet, 200 tasks</div>"
     },
     "metadata": {},
     "execution_count": 28
    }
   ],
   "source": [
    "test2"
   ]
  },
  {
   "cell_type": "code",
   "execution_count": 29,
   "metadata": {},
   "outputs": [
    {
     "output_type": "execute_result",
     "data": {
      "text/plain": [
       "200"
      ]
     },
     "metadata": {},
     "execution_count": 29
    }
   ],
   "source": [
    "test2.npartitions"
   ]
  },
  {
   "cell_type": "code",
   "execution_count": 31,
   "metadata": {},
   "outputs": [],
   "source": [
    "test3 = test2.get_partition(0)"
   ]
  },
  {
   "cell_type": "code",
   "execution_count": 32,
   "metadata": {},
   "outputs": [
    {
     "output_type": "execute_result",
     "data": {
      "text/plain": [
       "dask.dataframe.core.DataFrame"
      ]
     },
     "metadata": {},
     "execution_count": 32
    }
   ],
   "source": [
    "type(test3)"
   ]
  },
  {
   "cell_type": "code",
   "execution_count": 37,
   "metadata": {},
   "outputs": [
    {
     "output_type": "execute_result",
     "data": {
      "text/plain": [
       "               x         y         z  intensity         t  reflectivity  ring  \\\n",
       "0       0.796484 -0.043220  0.236579       50.0         0             3     0   \n",
       "1       0.807739  0.046913  0.214302      134.0         0             9     3   \n",
       "2       0.808805  0.016405  0.190070      153.0         0            10     6   \n",
       "3       0.818806 -0.043872  0.177631       65.0         0             4     8   \n",
       "4       0.821585 -0.013810  0.169493      136.0         0             9     9   \n",
       "...          ...       ...       ...        ...       ...           ...   ...   \n",
       "112182  0.801167  0.016010 -0.137276      107.0  99939680             7    50   \n",
       "112183  0.814400  0.046128 -0.147871       86.0  99939680             6    51   \n",
       "112184  0.809908 -0.013744 -0.161668      107.0  99939680             7    53   \n",
       "112185  0.795561  0.015620 -0.166755       86.0  99939680             6    54   \n",
       "112186  0.770369  0.015004 -0.191683       76.0  99939680             5    58   \n",
       "\n",
       "        noise  range  original_id  \n",
       "0          44    832            0  \n",
       "1          42    837            3  \n",
       "2          37    831            6  \n",
       "3          42    839            8  \n",
       "4          25    839            9  \n",
       "...       ...    ...          ...  \n",
       "112182     43    813       131058  \n",
       "112183     56    829       131059  \n",
       "112184     39    826       131061  \n",
       "112185     57    813       131062  \n",
       "112186     39    794       131066  \n",
       "\n",
       "[112187 rows x 10 columns]"
      ],
      "text/html": "<div>\n<style scoped>\n    .dataframe tbody tr th:only-of-type {\n        vertical-align: middle;\n    }\n\n    .dataframe tbody tr th {\n        vertical-align: top;\n    }\n\n    .dataframe thead th {\n        text-align: right;\n    }\n</style>\n<table border=\"1\" class=\"dataframe\">\n  <thead>\n    <tr style=\"text-align: right;\">\n      <th></th>\n      <th>x</th>\n      <th>y</th>\n      <th>z</th>\n      <th>intensity</th>\n      <th>t</th>\n      <th>reflectivity</th>\n      <th>ring</th>\n      <th>noise</th>\n      <th>range</th>\n      <th>original_id</th>\n    </tr>\n  </thead>\n  <tbody>\n    <tr>\n      <th>0</th>\n      <td>0.796484</td>\n      <td>-0.043220</td>\n      <td>0.236579</td>\n      <td>50.0</td>\n      <td>0</td>\n      <td>3</td>\n      <td>0</td>\n      <td>44</td>\n      <td>832</td>\n      <td>0</td>\n    </tr>\n    <tr>\n      <th>1</th>\n      <td>0.807739</td>\n      <td>0.046913</td>\n      <td>0.214302</td>\n      <td>134.0</td>\n      <td>0</td>\n      <td>9</td>\n      <td>3</td>\n      <td>42</td>\n      <td>837</td>\n      <td>3</td>\n    </tr>\n    <tr>\n      <th>2</th>\n      <td>0.808805</td>\n      <td>0.016405</td>\n      <td>0.190070</td>\n      <td>153.0</td>\n      <td>0</td>\n      <td>10</td>\n      <td>6</td>\n      <td>37</td>\n      <td>831</td>\n      <td>6</td>\n    </tr>\n    <tr>\n      <th>3</th>\n      <td>0.818806</td>\n      <td>-0.043872</td>\n      <td>0.177631</td>\n      <td>65.0</td>\n      <td>0</td>\n      <td>4</td>\n      <td>8</td>\n      <td>42</td>\n      <td>839</td>\n      <td>8</td>\n    </tr>\n    <tr>\n      <th>4</th>\n      <td>0.821585</td>\n      <td>-0.013810</td>\n      <td>0.169493</td>\n      <td>136.0</td>\n      <td>0</td>\n      <td>9</td>\n      <td>9</td>\n      <td>25</td>\n      <td>839</td>\n      <td>9</td>\n    </tr>\n    <tr>\n      <th>...</th>\n      <td>...</td>\n      <td>...</td>\n      <td>...</td>\n      <td>...</td>\n      <td>...</td>\n      <td>...</td>\n      <td>...</td>\n      <td>...</td>\n      <td>...</td>\n      <td>...</td>\n    </tr>\n    <tr>\n      <th>112182</th>\n      <td>0.801167</td>\n      <td>0.016010</td>\n      <td>-0.137276</td>\n      <td>107.0</td>\n      <td>99939680</td>\n      <td>7</td>\n      <td>50</td>\n      <td>43</td>\n      <td>813</td>\n      <td>131058</td>\n    </tr>\n    <tr>\n      <th>112183</th>\n      <td>0.814400</td>\n      <td>0.046128</td>\n      <td>-0.147871</td>\n      <td>86.0</td>\n      <td>99939680</td>\n      <td>6</td>\n      <td>51</td>\n      <td>56</td>\n      <td>829</td>\n      <td>131059</td>\n    </tr>\n    <tr>\n      <th>112184</th>\n      <td>0.809908</td>\n      <td>-0.013744</td>\n      <td>-0.161668</td>\n      <td>107.0</td>\n      <td>99939680</td>\n      <td>7</td>\n      <td>53</td>\n      <td>39</td>\n      <td>826</td>\n      <td>131061</td>\n    </tr>\n    <tr>\n      <th>112185</th>\n      <td>0.795561</td>\n      <td>0.015620</td>\n      <td>-0.166755</td>\n      <td>86.0</td>\n      <td>99939680</td>\n      <td>6</td>\n      <td>54</td>\n      <td>57</td>\n      <td>813</td>\n      <td>131062</td>\n    </tr>\n    <tr>\n      <th>112186</th>\n      <td>0.770369</td>\n      <td>0.015004</td>\n      <td>-0.191683</td>\n      <td>76.0</td>\n      <td>99939680</td>\n      <td>5</td>\n      <td>58</td>\n      <td>39</td>\n      <td>794</td>\n      <td>131066</td>\n    </tr>\n  </tbody>\n</table>\n<p>112187 rows × 10 columns</p>\n</div>"
     },
     "metadata": {},
     "execution_count": 37
    }
   ],
   "source": [
    "test3.compute()"
   ]
  },
  {
   "cell_type": "code",
   "execution_count": 106,
   "metadata": {},
   "outputs": [],
   "source": [
    "test_delayed = lazy_dataframes[0]"
   ]
  },
  {
   "cell_type": "code",
   "execution_count": 107,
   "metadata": {},
   "outputs": [
    {
     "output_type": "execute_result",
     "data": {
      "text/plain": [
       "0.982897"
      ]
     },
     "metadata": {},
     "execution_count": 107
    }
   ],
   "source": [
    "test_delayed.x.max().compute()"
   ]
  },
  {
   "cell_type": "code",
   "execution_count": 109,
   "metadata": {},
   "outputs": [
    {
     "output_type": "error",
     "ename": "RuntimeError",
     "evalue": "Drawing dask graphs requires the `graphviz` python library and the `graphviz` system library to be installed.",
     "traceback": [
      "\u001b[0;31m---------------------------------------------------------------------------\u001b[0m",
      "\u001b[0;31mModuleNotFoundError\u001b[0m                       Traceback (most recent call last)",
      "\u001b[0;32m/opt/conda/lib/python3.7/site-packages/dask/utils.py\u001b[0m in \u001b[0;36mimport_required\u001b[0;34m(mod_name, error_msg)\u001b[0m\n\u001b[1;32m    101\u001b[0m     \u001b[0;32mtry\u001b[0m\u001b[0;34m:\u001b[0m\u001b[0;34m\u001b[0m\u001b[0;34m\u001b[0m\u001b[0m\n\u001b[0;32m--> 102\u001b[0;31m         \u001b[0;32mreturn\u001b[0m \u001b[0mimport_module\u001b[0m\u001b[0;34m(\u001b[0m\u001b[0mmod_name\u001b[0m\u001b[0;34m)\u001b[0m\u001b[0;34m\u001b[0m\u001b[0;34m\u001b[0m\u001b[0m\n\u001b[0m\u001b[1;32m    103\u001b[0m     \u001b[0;32mexcept\u001b[0m \u001b[0mImportError\u001b[0m \u001b[0;32mas\u001b[0m \u001b[0me\u001b[0m\u001b[0;34m:\u001b[0m\u001b[0;34m\u001b[0m\u001b[0;34m\u001b[0m\u001b[0m\n",
      "\u001b[0;32m/opt/conda/lib/python3.7/importlib/__init__.py\u001b[0m in \u001b[0;36mimport_module\u001b[0;34m(name, package)\u001b[0m\n\u001b[1;32m    126\u001b[0m             \u001b[0mlevel\u001b[0m \u001b[0;34m+=\u001b[0m \u001b[0;36m1\u001b[0m\u001b[0;34m\u001b[0m\u001b[0;34m\u001b[0m\u001b[0m\n\u001b[0;32m--> 127\u001b[0;31m     \u001b[0;32mreturn\u001b[0m \u001b[0m_bootstrap\u001b[0m\u001b[0;34m.\u001b[0m\u001b[0m_gcd_import\u001b[0m\u001b[0;34m(\u001b[0m\u001b[0mname\u001b[0m\u001b[0;34m[\u001b[0m\u001b[0mlevel\u001b[0m\u001b[0;34m:\u001b[0m\u001b[0;34m]\u001b[0m\u001b[0;34m,\u001b[0m \u001b[0mpackage\u001b[0m\u001b[0;34m,\u001b[0m \u001b[0mlevel\u001b[0m\u001b[0;34m)\u001b[0m\u001b[0;34m\u001b[0m\u001b[0;34m\u001b[0m\u001b[0m\n\u001b[0m\u001b[1;32m    128\u001b[0m \u001b[0;34m\u001b[0m\u001b[0m\n",
      "\u001b[0;32m/opt/conda/lib/python3.7/importlib/_bootstrap.py\u001b[0m in \u001b[0;36m_gcd_import\u001b[0;34m(name, package, level)\u001b[0m\n",
      "\u001b[0;32m/opt/conda/lib/python3.7/importlib/_bootstrap.py\u001b[0m in \u001b[0;36m_find_and_load\u001b[0;34m(name, import_)\u001b[0m\n",
      "\u001b[0;32m/opt/conda/lib/python3.7/importlib/_bootstrap.py\u001b[0m in \u001b[0;36m_find_and_load_unlocked\u001b[0;34m(name, import_)\u001b[0m\n",
      "\u001b[0;31mModuleNotFoundError\u001b[0m: No module named 'graphviz'",
      "\nThe above exception was the direct cause of the following exception:\n",
      "\u001b[0;31mRuntimeError\u001b[0m                              Traceback (most recent call last)",
      "\u001b[0;32m<ipython-input-109-2f9e5c30f500>\u001b[0m in \u001b[0;36m<module>\u001b[0;34m\u001b[0m\n\u001b[0;32m----> 1\u001b[0;31m \u001b[0mtest_delayed\u001b[0m\u001b[0;34m.\u001b[0m\u001b[0mvisualize\u001b[0m\u001b[0;34m(\u001b[0m\u001b[0;34m)\u001b[0m\u001b[0;34m\u001b[0m\u001b[0;34m\u001b[0m\u001b[0m\n\u001b[0m",
      "\u001b[0;32m/opt/conda/lib/python3.7/site-packages/dask/base.py\u001b[0m in \u001b[0;36mvisualize\u001b[0;34m(self, filename, format, optimize_graph, **kwargs)\u001b[0m\n\u001b[1;32m    212\u001b[0m             \u001b[0mformat\u001b[0m\u001b[0;34m=\u001b[0m\u001b[0mformat\u001b[0m\u001b[0;34m,\u001b[0m\u001b[0;34m\u001b[0m\u001b[0;34m\u001b[0m\u001b[0m\n\u001b[1;32m    213\u001b[0m             \u001b[0moptimize_graph\u001b[0m\u001b[0;34m=\u001b[0m\u001b[0moptimize_graph\u001b[0m\u001b[0;34m,\u001b[0m\u001b[0;34m\u001b[0m\u001b[0;34m\u001b[0m\u001b[0m\n\u001b[0;32m--> 214\u001b[0;31m             \u001b[0;34m**\u001b[0m\u001b[0mkwargs\u001b[0m\u001b[0;34m,\u001b[0m\u001b[0;34m\u001b[0m\u001b[0;34m\u001b[0m\u001b[0m\n\u001b[0m\u001b[1;32m    215\u001b[0m         )\n\u001b[1;32m    216\u001b[0m \u001b[0;34m\u001b[0m\u001b[0m\n",
      "\u001b[0;32m/opt/conda/lib/python3.7/site-packages/dask/base.py\u001b[0m in \u001b[0;36mvisualize\u001b[0;34m(*args, **kwargs)\u001b[0m\n\u001b[1;32m    620\u001b[0m     \u001b[0mhttps\u001b[0m\u001b[0;34m:\u001b[0m\u001b[0;34m//\u001b[0m\u001b[0mdocs\u001b[0m\u001b[0;34m.\u001b[0m\u001b[0mdask\u001b[0m\u001b[0;34m.\u001b[0m\u001b[0morg\u001b[0m\u001b[0;34m/\u001b[0m\u001b[0men\u001b[0m\u001b[0;34m/\u001b[0m\u001b[0mlatest\u001b[0m\u001b[0;34m/\u001b[0m\u001b[0moptimize\u001b[0m\u001b[0;34m.\u001b[0m\u001b[0mhtml\u001b[0m\u001b[0;34m\u001b[0m\u001b[0;34m\u001b[0m\u001b[0m\n\u001b[1;32m    621\u001b[0m     \"\"\"\n\u001b[0;32m--> 622\u001b[0;31m     \u001b[0;32mfrom\u001b[0m \u001b[0mdask\u001b[0m\u001b[0;34m.\u001b[0m\u001b[0mdot\u001b[0m \u001b[0;32mimport\u001b[0m \u001b[0mdot_graph\u001b[0m\u001b[0;34m\u001b[0m\u001b[0;34m\u001b[0m\u001b[0m\n\u001b[0m\u001b[1;32m    623\u001b[0m \u001b[0;34m\u001b[0m\u001b[0m\n\u001b[1;32m    624\u001b[0m     \u001b[0mfilename\u001b[0m \u001b[0;34m=\u001b[0m \u001b[0mkwargs\u001b[0m\u001b[0;34m.\u001b[0m\u001b[0mpop\u001b[0m\u001b[0;34m(\u001b[0m\u001b[0;34m\"filename\"\u001b[0m\u001b[0;34m,\u001b[0m \u001b[0;34m\"mydask\"\u001b[0m\u001b[0;34m)\u001b[0m\u001b[0;34m\u001b[0m\u001b[0;34m\u001b[0m\u001b[0m\n",
      "\u001b[0;32m/opt/conda/lib/python3.7/site-packages/dask/dot.py\u001b[0m in \u001b[0;36m<module>\u001b[0;34m\u001b[0m\n\u001b[1;32m      9\u001b[0m graphviz = import_required(\n\u001b[1;32m     10\u001b[0m     \u001b[0;34m\"graphviz\"\u001b[0m\u001b[0;34m,\u001b[0m\u001b[0;34m\u001b[0m\u001b[0;34m\u001b[0m\u001b[0m\n\u001b[0;32m---> 11\u001b[0;31m     \u001b[0;34m\"Drawing dask graphs requires the \"\u001b[0m\u001b[0;34m\u001b[0m\u001b[0;34m\u001b[0m\u001b[0m\n\u001b[0m\u001b[1;32m     12\u001b[0m     \u001b[0;34m\"`graphviz` python library and the \"\u001b[0m\u001b[0;34m\u001b[0m\u001b[0;34m\u001b[0m\u001b[0m\n\u001b[1;32m     13\u001b[0m     \u001b[0;34m\"`graphviz` system library to be \"\u001b[0m\u001b[0;34m\u001b[0m\u001b[0;34m\u001b[0m\u001b[0m\n",
      "\u001b[0;32m/opt/conda/lib/python3.7/site-packages/dask/utils.py\u001b[0m in \u001b[0;36mimport_required\u001b[0;34m(mod_name, error_msg)\u001b[0m\n\u001b[1;32m    102\u001b[0m         \u001b[0;32mreturn\u001b[0m \u001b[0mimport_module\u001b[0m\u001b[0;34m(\u001b[0m\u001b[0mmod_name\u001b[0m\u001b[0;34m)\u001b[0m\u001b[0;34m\u001b[0m\u001b[0;34m\u001b[0m\u001b[0m\n\u001b[1;32m    103\u001b[0m     \u001b[0;32mexcept\u001b[0m \u001b[0mImportError\u001b[0m \u001b[0;32mas\u001b[0m \u001b[0me\u001b[0m\u001b[0;34m:\u001b[0m\u001b[0;34m\u001b[0m\u001b[0;34m\u001b[0m\u001b[0m\n\u001b[0;32m--> 104\u001b[0;31m         \u001b[0;32mraise\u001b[0m \u001b[0mRuntimeError\u001b[0m\u001b[0;34m(\u001b[0m\u001b[0merror_msg\u001b[0m\u001b[0;34m)\u001b[0m \u001b[0;32mfrom\u001b[0m \u001b[0me\u001b[0m\u001b[0;34m\u001b[0m\u001b[0;34m\u001b[0m\u001b[0m\n\u001b[0m\u001b[1;32m    105\u001b[0m \u001b[0;34m\u001b[0m\u001b[0m\n\u001b[1;32m    106\u001b[0m \u001b[0;34m\u001b[0m\u001b[0m\n",
      "\u001b[0;31mRuntimeError\u001b[0m: Drawing dask graphs requires the `graphviz` python library and the `graphviz` system library to be installed."
     ]
    }
   ],
   "source": [
    "test_delayed.visualize()"
   ]
  },
  {
   "cell_type": "code",
   "execution_count": 111,
   "metadata": {},
   "outputs": [
    {
     "output_type": "error",
     "ename": "TypeError",
     "evalue": "Data argument must be a DataFrame",
     "traceback": [
      "\u001b[0;31m---------------------------------------------------------------------------\u001b[0m",
      "\u001b[0;31mTypeError\u001b[0m                                 Traceback (most recent call last)",
      "\u001b[0;32m<ipython-input-111-322c3ee7e21e>\u001b[0m in \u001b[0;36m<module>\u001b[0;34m\u001b[0m\n\u001b[0;32m----> 1\u001b[0;31m \u001b[0mdelayed\u001b[0m\u001b[0;34m(\u001b[0m\u001b[0mlidar\u001b[0m\u001b[0;34m.\u001b[0m\u001b[0mFrame\u001b[0m\u001b[0;34m.\u001b[0m\u001b[0mfrom_instance\u001b[0m\u001b[0;34m(\u001b[0m\u001b[0;34m\"dataframe\"\u001b[0m\u001b[0;34m,\u001b[0m \u001b[0mtest_delayed\u001b[0m\u001b[0;34m)\u001b[0m\u001b[0;34m)\u001b[0m\u001b[0;34m\u001b[0m\u001b[0;34m\u001b[0m\u001b[0m\n\u001b[0m",
      "\u001b[0;32m/workspaces/lidar/lidar/frame.py\u001b[0m in \u001b[0;36mfrom_instance\u001b[0;34m(cls, library, instance, **kwargs)\u001b[0m\n\u001b[1;32m    139\u001b[0m             )\n\u001b[1;32m    140\u001b[0m         \u001b[0;32melse\u001b[0m\u001b[0;34m:\u001b[0m\u001b[0;34m\u001b[0m\u001b[0;34m\u001b[0m\u001b[0m\n\u001b[0;32m--> 141\u001b[0;31m             \u001b[0;32mreturn\u001b[0m \u001b[0mcls\u001b[0m\u001b[0;34m(\u001b[0m\u001b[0;34m**\u001b[0m\u001b[0mFRAME_FROM_INSTANCE\u001b[0m\u001b[0;34m[\u001b[0m\u001b[0mlibrary\u001b[0m\u001b[0;34m]\u001b[0m\u001b[0;34m(\u001b[0m\u001b[0minstance\u001b[0m\u001b[0;34m,\u001b[0m \u001b[0;34m**\u001b[0m\u001b[0mkwargs\u001b[0m\u001b[0;34m)\u001b[0m\u001b[0;34m)\u001b[0m\u001b[0;34m\u001b[0m\u001b[0;34m\u001b[0m\u001b[0m\n\u001b[0m\u001b[1;32m    142\u001b[0m \u001b[0;34m\u001b[0m\u001b[0m\n\u001b[1;32m    143\u001b[0m     def to_instance(\n",
      "\u001b[0;32m/workspaces/lidar/lidar/frame_core.py\u001b[0m in \u001b[0;36m__init__\u001b[0;34m(self, data, orig_file, timestamp)\u001b[0m\n\u001b[1;32m     32\u001b[0m \u001b[0;34m\u001b[0m\u001b[0m\n\u001b[1;32m     33\u001b[0m         \"\"\"\n\u001b[0;32m---> 34\u001b[0;31m         \u001b[0mself\u001b[0m\u001b[0;34m.\u001b[0m\u001b[0mdata\u001b[0m \u001b[0;34m=\u001b[0m \u001b[0mdata\u001b[0m\u001b[0;34m\u001b[0m\u001b[0;34m\u001b[0m\u001b[0m\n\u001b[0m\u001b[1;32m     35\u001b[0m         \u001b[0;34m\"\"\"All the data, x,y.z and intensity, range and more\"\"\"\u001b[0m\u001b[0;34m\u001b[0m\u001b[0;34m\u001b[0m\u001b[0m\n\u001b[1;32m     36\u001b[0m         \u001b[0mself\u001b[0m\u001b[0;34m.\u001b[0m\u001b[0mtimestamp\u001b[0m \u001b[0;34m=\u001b[0m \u001b[0mtimestamp\u001b[0m\u001b[0;34m\u001b[0m\u001b[0;34m\u001b[0m\u001b[0m\n",
      "\u001b[0;32m/workspaces/lidar/lidar/frame_core.py\u001b[0m in \u001b[0;36mdata\u001b[0;34m(self, df)\u001b[0m\n\u001b[1;32m     59\u001b[0m     \u001b[0;32mdef\u001b[0m \u001b[0mdata\u001b[0m\u001b[0;34m(\u001b[0m\u001b[0mself\u001b[0m\u001b[0;34m,\u001b[0m \u001b[0mdf\u001b[0m\u001b[0;34m:\u001b[0m \u001b[0mpd\u001b[0m\u001b[0;34m.\u001b[0m\u001b[0mDataFrame\u001b[0m\u001b[0;34m)\u001b[0m\u001b[0;34m:\u001b[0m\u001b[0;34m\u001b[0m\u001b[0;34m\u001b[0m\u001b[0m\n\u001b[1;32m     60\u001b[0m         \u001b[0;32mif\u001b[0m \u001b[0;32mnot\u001b[0m \u001b[0misinstance\u001b[0m\u001b[0;34m(\u001b[0m\u001b[0mdf\u001b[0m\u001b[0;34m,\u001b[0m \u001b[0mpd\u001b[0m\u001b[0;34m.\u001b[0m\u001b[0mDataFrame\u001b[0m\u001b[0;34m)\u001b[0m\u001b[0;34m:\u001b[0m\u001b[0;34m\u001b[0m\u001b[0;34m\u001b[0m\u001b[0m\n\u001b[0;32m---> 61\u001b[0;31m             \u001b[0;32mraise\u001b[0m \u001b[0mTypeError\u001b[0m\u001b[0;34m(\u001b[0m\u001b[0;34m\"Data argument must be a DataFrame\"\u001b[0m\u001b[0;34m)\u001b[0m\u001b[0;34m\u001b[0m\u001b[0;34m\u001b[0m\u001b[0m\n\u001b[0m\u001b[1;32m     62\u001b[0m         \u001b[0;32melif\u001b[0m \u001b[0;32mnot\u001b[0m \u001b[0mset\u001b[0m\u001b[0;34m(\u001b[0m\u001b[0;34m[\u001b[0m\u001b[0;34m\"x\"\u001b[0m\u001b[0;34m,\u001b[0m \u001b[0;34m\"y\"\u001b[0m\u001b[0;34m,\u001b[0m \u001b[0;34m\"z\"\u001b[0m\u001b[0;34m]\u001b[0m\u001b[0;34m)\u001b[0m\u001b[0;34m.\u001b[0m\u001b[0missubset\u001b[0m\u001b[0;34m(\u001b[0m\u001b[0mdf\u001b[0m\u001b[0;34m.\u001b[0m\u001b[0mcolumns\u001b[0m\u001b[0;34m)\u001b[0m\u001b[0;34m:\u001b[0m\u001b[0;34m\u001b[0m\u001b[0;34m\u001b[0m\u001b[0m\n\u001b[1;32m     63\u001b[0m             \u001b[0;32mraise\u001b[0m \u001b[0mValueError\u001b[0m\u001b[0;34m(\u001b[0m\u001b[0;34m\"Data must have x, y and z coordinates\"\u001b[0m\u001b[0;34m)\u001b[0m\u001b[0;34m\u001b[0m\u001b[0;34m\u001b[0m\u001b[0m\n",
      "\u001b[0;31mTypeError\u001b[0m: Data argument must be a DataFrame"
     ]
    }
   ],
   "source": [
    "delayed(lidar.Frame.from_instance(\"dataframe\", test_delayed))"
   ]
  },
  {
   "cell_type": "code",
   "execution_count": 127,
   "metadata": {},
   "outputs": [],
   "source": [
    "test = test_delayed.dask.\n"
   ]
  },
  {
   "cell_type": "code",
   "execution_count": 128,
   "metadata": {},
   "outputs": [
    {
     "output_type": "execute_result",
     "data": {
      "text/plain": [
       "               x         y         z  intensity         t  reflectivity  ring  \\\n",
       "0       0.796484 -0.043220  0.236579       50.0         0             3     0   \n",
       "1       0.807739  0.046913  0.214302      134.0         0             9     3   \n",
       "2       0.808805  0.016405  0.190070      153.0         0            10     6   \n",
       "3       0.818806 -0.043872  0.177631       65.0         0             4     8   \n",
       "4       0.821585 -0.013810  0.169493      136.0         0             9     9   \n",
       "...          ...       ...       ...        ...       ...           ...   ...   \n",
       "112182  0.801167  0.016010 -0.137276      107.0  99939680             7    50   \n",
       "112183  0.814400  0.046128 -0.147871       86.0  99939680             6    51   \n",
       "112184  0.809908 -0.013744 -0.161668      107.0  99939680             7    53   \n",
       "112185  0.795561  0.015620 -0.166755       86.0  99939680             6    54   \n",
       "112186  0.770369  0.015004 -0.191683       76.0  99939680             5    58   \n",
       "\n",
       "        noise  range  original_id  \n",
       "0          44    832            0  \n",
       "1          42    837            3  \n",
       "2          37    831            6  \n",
       "3          42    839            8  \n",
       "4          25    839            9  \n",
       "...       ...    ...          ...  \n",
       "112182     43    813       131058  \n",
       "112183     56    829       131059  \n",
       "112184     39    826       131061  \n",
       "112185     57    813       131062  \n",
       "112186     39    794       131066  \n",
       "\n",
       "[112187 rows x 10 columns]"
      ],
      "text/html": "<div>\n<style scoped>\n    .dataframe tbody tr th:only-of-type {\n        vertical-align: middle;\n    }\n\n    .dataframe tbody tr th {\n        vertical-align: top;\n    }\n\n    .dataframe thead th {\n        text-align: right;\n    }\n</style>\n<table border=\"1\" class=\"dataframe\">\n  <thead>\n    <tr style=\"text-align: right;\">\n      <th></th>\n      <th>x</th>\n      <th>y</th>\n      <th>z</th>\n      <th>intensity</th>\n      <th>t</th>\n      <th>reflectivity</th>\n      <th>ring</th>\n      <th>noise</th>\n      <th>range</th>\n      <th>original_id</th>\n    </tr>\n  </thead>\n  <tbody>\n    <tr>\n      <th>0</th>\n      <td>0.796484</td>\n      <td>-0.043220</td>\n      <td>0.236579</td>\n      <td>50.0</td>\n      <td>0</td>\n      <td>3</td>\n      <td>0</td>\n      <td>44</td>\n      <td>832</td>\n      <td>0</td>\n    </tr>\n    <tr>\n      <th>1</th>\n      <td>0.807739</td>\n      <td>0.046913</td>\n      <td>0.214302</td>\n      <td>134.0</td>\n      <td>0</td>\n      <td>9</td>\n      <td>3</td>\n      <td>42</td>\n      <td>837</td>\n      <td>3</td>\n    </tr>\n    <tr>\n      <th>2</th>\n      <td>0.808805</td>\n      <td>0.016405</td>\n      <td>0.190070</td>\n      <td>153.0</td>\n      <td>0</td>\n      <td>10</td>\n      <td>6</td>\n      <td>37</td>\n      <td>831</td>\n      <td>6</td>\n    </tr>\n    <tr>\n      <th>3</th>\n      <td>0.818806</td>\n      <td>-0.043872</td>\n      <td>0.177631</td>\n      <td>65.0</td>\n      <td>0</td>\n      <td>4</td>\n      <td>8</td>\n      <td>42</td>\n      <td>839</td>\n      <td>8</td>\n    </tr>\n    <tr>\n      <th>4</th>\n      <td>0.821585</td>\n      <td>-0.013810</td>\n      <td>0.169493</td>\n      <td>136.0</td>\n      <td>0</td>\n      <td>9</td>\n      <td>9</td>\n      <td>25</td>\n      <td>839</td>\n      <td>9</td>\n    </tr>\n    <tr>\n      <th>...</th>\n      <td>...</td>\n      <td>...</td>\n      <td>...</td>\n      <td>...</td>\n      <td>...</td>\n      <td>...</td>\n      <td>...</td>\n      <td>...</td>\n      <td>...</td>\n      <td>...</td>\n    </tr>\n    <tr>\n      <th>112182</th>\n      <td>0.801167</td>\n      <td>0.016010</td>\n      <td>-0.137276</td>\n      <td>107.0</td>\n      <td>99939680</td>\n      <td>7</td>\n      <td>50</td>\n      <td>43</td>\n      <td>813</td>\n      <td>131058</td>\n    </tr>\n    <tr>\n      <th>112183</th>\n      <td>0.814400</td>\n      <td>0.046128</td>\n      <td>-0.147871</td>\n      <td>86.0</td>\n      <td>99939680</td>\n      <td>6</td>\n      <td>51</td>\n      <td>56</td>\n      <td>829</td>\n      <td>131059</td>\n    </tr>\n    <tr>\n      <th>112184</th>\n      <td>0.809908</td>\n      <td>-0.013744</td>\n      <td>-0.161668</td>\n      <td>107.0</td>\n      <td>99939680</td>\n      <td>7</td>\n      <td>53</td>\n      <td>39</td>\n      <td>826</td>\n      <td>131061</td>\n    </tr>\n    <tr>\n      <th>112185</th>\n      <td>0.795561</td>\n      <td>0.015620</td>\n      <td>-0.166755</td>\n      <td>86.0</td>\n      <td>99939680</td>\n      <td>6</td>\n      <td>54</td>\n      <td>57</td>\n      <td>813</td>\n      <td>131062</td>\n    </tr>\n    <tr>\n      <th>112186</th>\n      <td>0.770369</td>\n      <td>0.015004</td>\n      <td>-0.191683</td>\n      <td>76.0</td>\n      <td>99939680</td>\n      <td>5</td>\n      <td>58</td>\n      <td>39</td>\n      <td>794</td>\n      <td>131066</td>\n    </tr>\n  </tbody>\n</table>\n<p>112187 rows × 10 columns</p>\n</div>"
     },
     "metadata": {},
     "execution_count": 128
    }
   ],
   "source": [
    "test.compute()"
   ]
  },
  {
   "cell_type": "code",
   "execution_count": 158,
   "metadata": {},
   "outputs": [],
   "source": [
    "def pipeline(df: pd.DataFrame):\n",
    "    df = df.reset_index(drop=True)\n",
    "    frame = lidar.Frame.from_instance(\"dataframe\", df)\n",
    "    frame = frame.limit(\"x\", -0.1,0)\n",
    "    return frame.data"
   ]
  },
  {
   "cell_type": "code",
   "execution_count": 153,
   "metadata": {},
   "outputs": [],
   "source": [
    "testagain = [ delayed(lidar.Frame.from_instance)(\"dataframe\", frame) for frame in lazy_dataframes]"
   ]
  },
  {
   "cell_type": "code",
   "execution_count": 154,
   "metadata": {},
   "outputs": [],
   "source": [
    "res = dd.compute(*testagain)"
   ]
  },
  {
   "cell_type": "code",
   "execution_count": 159,
   "metadata": {},
   "outputs": [],
   "source": [
    "testagain2 = [ delayed(pipeline)(frame) for frame in lazy_dataframes]"
   ]
  },
  {
   "cell_type": "code",
   "execution_count": 162,
   "metadata": {},
   "outputs": [],
   "source": [
    "test5=dd.from_delayed(testagain2)"
   ]
  },
  {
   "cell_type": "code",
   "execution_count": 165,
   "metadata": {},
   "outputs": [
    {
     "output_type": "execute_result",
     "data": {
      "text/plain": [
       "-1.482309107814217e-05"
      ]
     },
     "metadata": {},
     "execution_count": 165
    }
   ],
   "source": [
    "test5.x.max().compute()"
   ]
  },
  {
   "cell_type": "code",
   "execution_count": 166,
   "metadata": {},
   "outputs": [
    {
     "output_type": "execute_result",
     "data": {
      "text/plain": [
       "-0.09998094290494919"
      ]
     },
     "metadata": {},
     "execution_count": 166
    }
   ],
   "source": [
    "test5.x.min().compute()"
   ]
  },
  {
   "cell_type": "code",
   "execution_count": 168,
   "metadata": {},
   "outputs": [
    {
     "output_type": "execute_result",
     "data": {
      "text/plain": [
       "10"
      ]
     },
     "metadata": {},
     "execution_count": 168
    }
   ],
   "source": [
    "test5.npartitions"
   ]
  },
  {
   "cell_type": "code",
   "execution_count": 170,
   "metadata": {},
   "outputs": [
    {
     "output_type": "execute_result",
     "data": {
      "text/plain": [
       "             x         y         z  intensity         t  reflectivity  ring  \\\n",
       "0    -0.000524 -1.980622 -0.532670      113.0  24076640            47    60   \n",
       "1    -0.000626 -1.998803 -0.230067      169.0  24125640            68    44   \n",
       "2    -0.001590 -1.983151 -0.301906      143.0  24125640            57    48   \n",
       "3    -0.002651 -2.000234 -0.379937      188.0  24125640            77    52   \n",
       "4    -0.004690 -2.006189 -0.458854      185.0  24125640            78    56   \n",
       "...        ...       ...       ...        ...       ...           ...   ...   \n",
       "1788 -0.002364  1.862870 -0.267647       23.0  75815010             8    47   \n",
       "1789 -0.002519  1.856737 -0.336590       35.0  75815010            12    51   \n",
       "1790 -0.002702  1.827317 -0.401929       35.0  75815010            12    55   \n",
       "1791 -0.002362  1.836176 -0.476509      126.0  75815010            45    59   \n",
       "1792 -0.002936  1.814605 -0.546100       54.0  75815010            19    63   \n",
       "\n",
       "      noise  range  original_id  \n",
       "0        13   2051        31612  \n",
       "1        12   2012        31660  \n",
       "2        30   2006        31664  \n",
       "3        12   2036        31668  \n",
       "4        27   2058        31672  \n",
       "...     ...    ...          ...  \n",
       "1788     24   1882        99439  \n",
       "1789     61   1887        99443  \n",
       "1790     41   1871        99447  \n",
       "1791     59   1897        99451  \n",
       "1792     23   1895        99455  \n",
       "\n",
       "[1793 rows x 10 columns]"
      ],
      "text/html": "<div>\n<style scoped>\n    .dataframe tbody tr th:only-of-type {\n        vertical-align: middle;\n    }\n\n    .dataframe tbody tr th {\n        vertical-align: top;\n    }\n\n    .dataframe thead th {\n        text-align: right;\n    }\n</style>\n<table border=\"1\" class=\"dataframe\">\n  <thead>\n    <tr style=\"text-align: right;\">\n      <th></th>\n      <th>x</th>\n      <th>y</th>\n      <th>z</th>\n      <th>intensity</th>\n      <th>t</th>\n      <th>reflectivity</th>\n      <th>ring</th>\n      <th>noise</th>\n      <th>range</th>\n      <th>original_id</th>\n    </tr>\n  </thead>\n  <tbody>\n    <tr>\n      <th>0</th>\n      <td>-0.000524</td>\n      <td>-1.980622</td>\n      <td>-0.532670</td>\n      <td>113.0</td>\n      <td>24076640</td>\n      <td>47</td>\n      <td>60</td>\n      <td>13</td>\n      <td>2051</td>\n      <td>31612</td>\n    </tr>\n    <tr>\n      <th>1</th>\n      <td>-0.000626</td>\n      <td>-1.998803</td>\n      <td>-0.230067</td>\n      <td>169.0</td>\n      <td>24125640</td>\n      <td>68</td>\n      <td>44</td>\n      <td>12</td>\n      <td>2012</td>\n      <td>31660</td>\n    </tr>\n    <tr>\n      <th>2</th>\n      <td>-0.001590</td>\n      <td>-1.983151</td>\n      <td>-0.301906</td>\n      <td>143.0</td>\n      <td>24125640</td>\n      <td>57</td>\n      <td>48</td>\n      <td>30</td>\n      <td>2006</td>\n      <td>31664</td>\n    </tr>\n    <tr>\n      <th>3</th>\n      <td>-0.002651</td>\n      <td>-2.000234</td>\n      <td>-0.379937</td>\n      <td>188.0</td>\n      <td>24125640</td>\n      <td>77</td>\n      <td>52</td>\n      <td>12</td>\n      <td>2036</td>\n      <td>31668</td>\n    </tr>\n    <tr>\n      <th>4</th>\n      <td>-0.004690</td>\n      <td>-2.006189</td>\n      <td>-0.458854</td>\n      <td>185.0</td>\n      <td>24125640</td>\n      <td>78</td>\n      <td>56</td>\n      <td>27</td>\n      <td>2058</td>\n      <td>31672</td>\n    </tr>\n    <tr>\n      <th>...</th>\n      <td>...</td>\n      <td>...</td>\n      <td>...</td>\n      <td>...</td>\n      <td>...</td>\n      <td>...</td>\n      <td>...</td>\n      <td>...</td>\n      <td>...</td>\n      <td>...</td>\n    </tr>\n    <tr>\n      <th>1788</th>\n      <td>-0.002364</td>\n      <td>1.862870</td>\n      <td>-0.267647</td>\n      <td>23.0</td>\n      <td>75815010</td>\n      <td>8</td>\n      <td>47</td>\n      <td>24</td>\n      <td>1882</td>\n      <td>99439</td>\n    </tr>\n    <tr>\n      <th>1789</th>\n      <td>-0.002519</td>\n      <td>1.856737</td>\n      <td>-0.336590</td>\n      <td>35.0</td>\n      <td>75815010</td>\n      <td>12</td>\n      <td>51</td>\n      <td>61</td>\n      <td>1887</td>\n      <td>99443</td>\n    </tr>\n    <tr>\n      <th>1790</th>\n      <td>-0.002702</td>\n      <td>1.827317</td>\n      <td>-0.401929</td>\n      <td>35.0</td>\n      <td>75815010</td>\n      <td>12</td>\n      <td>55</td>\n      <td>41</td>\n      <td>1871</td>\n      <td>99447</td>\n    </tr>\n    <tr>\n      <th>1791</th>\n      <td>-0.002362</td>\n      <td>1.836176</td>\n      <td>-0.476509</td>\n      <td>126.0</td>\n      <td>75815010</td>\n      <td>45</td>\n      <td>59</td>\n      <td>59</td>\n      <td>1897</td>\n      <td>99451</td>\n    </tr>\n    <tr>\n      <th>1792</th>\n      <td>-0.002936</td>\n      <td>1.814605</td>\n      <td>-0.546100</td>\n      <td>54.0</td>\n      <td>75815010</td>\n      <td>19</td>\n      <td>63</td>\n      <td>23</td>\n      <td>1895</td>\n      <td>99455</td>\n    </tr>\n  </tbody>\n</table>\n<p>1793 rows × 10 columns</p>\n</div>"
     },
     "metadata": {},
     "execution_count": 170
    }
   ],
   "source": [
    "test5.get_partition(0).compute()"
   ]
  },
  {
   "cell_type": "code",
   "execution_count": 173,
   "metadata": {},
   "outputs": [
    {
     "output_type": "execute_result",
     "data": {
      "text/plain": [
       "             x         y         z  intensity         t  reflectivity  ring  \\\n",
       "0    -0.000524 -1.980622 -0.532670      113.0  24076640            47    60   \n",
       "1    -0.000626 -1.998803 -0.230067      169.0  24125640            68    44   \n",
       "2    -0.001590 -1.983151 -0.301906      143.0  24125640            57    48   \n",
       "3    -0.002651 -2.000234 -0.379937      188.0  24125640            77    52   \n",
       "4    -0.004690 -2.006189 -0.458854      185.0  24125640            78    56   \n",
       "...        ...       ...       ...        ...       ...           ...   ...   \n",
       "1788 -0.002364  1.862870 -0.267647       23.0  75815010             8    47   \n",
       "1789 -0.002519  1.856737 -0.336590       35.0  75815010            12    51   \n",
       "1790 -0.002702  1.827317 -0.401929       35.0  75815010            12    55   \n",
       "1791 -0.002362  1.836176 -0.476509      126.0  75815010            45    59   \n",
       "1792 -0.002936  1.814605 -0.546100       54.0  75815010            19    63   \n",
       "\n",
       "      noise  range  original_id  \n",
       "0        13   2051        31612  \n",
       "1        12   2012        31660  \n",
       "2        30   2006        31664  \n",
       "3        12   2036        31668  \n",
       "4        27   2058        31672  \n",
       "...     ...    ...          ...  \n",
       "1788     24   1882        99439  \n",
       "1789     61   1887        99443  \n",
       "1790     41   1871        99447  \n",
       "1791     59   1897        99451  \n",
       "1792     23   1895        99455  \n",
       "\n",
       "[1793 rows x 10 columns]"
      ],
      "text/html": "<div>\n<style scoped>\n    .dataframe tbody tr th:only-of-type {\n        vertical-align: middle;\n    }\n\n    .dataframe tbody tr th {\n        vertical-align: top;\n    }\n\n    .dataframe thead th {\n        text-align: right;\n    }\n</style>\n<table border=\"1\" class=\"dataframe\">\n  <thead>\n    <tr style=\"text-align: right;\">\n      <th></th>\n      <th>x</th>\n      <th>y</th>\n      <th>z</th>\n      <th>intensity</th>\n      <th>t</th>\n      <th>reflectivity</th>\n      <th>ring</th>\n      <th>noise</th>\n      <th>range</th>\n      <th>original_id</th>\n    </tr>\n  </thead>\n  <tbody>\n    <tr>\n      <th>0</th>\n      <td>-0.000524</td>\n      <td>-1.980622</td>\n      <td>-0.532670</td>\n      <td>113.0</td>\n      <td>24076640</td>\n      <td>47</td>\n      <td>60</td>\n      <td>13</td>\n      <td>2051</td>\n      <td>31612</td>\n    </tr>\n    <tr>\n      <th>1</th>\n      <td>-0.000626</td>\n      <td>-1.998803</td>\n      <td>-0.230067</td>\n      <td>169.0</td>\n      <td>24125640</td>\n      <td>68</td>\n      <td>44</td>\n      <td>12</td>\n      <td>2012</td>\n      <td>31660</td>\n    </tr>\n    <tr>\n      <th>2</th>\n      <td>-0.001590</td>\n      <td>-1.983151</td>\n      <td>-0.301906</td>\n      <td>143.0</td>\n      <td>24125640</td>\n      <td>57</td>\n      <td>48</td>\n      <td>30</td>\n      <td>2006</td>\n      <td>31664</td>\n    </tr>\n    <tr>\n      <th>3</th>\n      <td>-0.002651</td>\n      <td>-2.000234</td>\n      <td>-0.379937</td>\n      <td>188.0</td>\n      <td>24125640</td>\n      <td>77</td>\n      <td>52</td>\n      <td>12</td>\n      <td>2036</td>\n      <td>31668</td>\n    </tr>\n    <tr>\n      <th>4</th>\n      <td>-0.004690</td>\n      <td>-2.006189</td>\n      <td>-0.458854</td>\n      <td>185.0</td>\n      <td>24125640</td>\n      <td>78</td>\n      <td>56</td>\n      <td>27</td>\n      <td>2058</td>\n      <td>31672</td>\n    </tr>\n    <tr>\n      <th>...</th>\n      <td>...</td>\n      <td>...</td>\n      <td>...</td>\n      <td>...</td>\n      <td>...</td>\n      <td>...</td>\n      <td>...</td>\n      <td>...</td>\n      <td>...</td>\n      <td>...</td>\n    </tr>\n    <tr>\n      <th>1788</th>\n      <td>-0.002364</td>\n      <td>1.862870</td>\n      <td>-0.267647</td>\n      <td>23.0</td>\n      <td>75815010</td>\n      <td>8</td>\n      <td>47</td>\n      <td>24</td>\n      <td>1882</td>\n      <td>99439</td>\n    </tr>\n    <tr>\n      <th>1789</th>\n      <td>-0.002519</td>\n      <td>1.856737</td>\n      <td>-0.336590</td>\n      <td>35.0</td>\n      <td>75815010</td>\n      <td>12</td>\n      <td>51</td>\n      <td>61</td>\n      <td>1887</td>\n      <td>99443</td>\n    </tr>\n    <tr>\n      <th>1790</th>\n      <td>-0.002702</td>\n      <td>1.827317</td>\n      <td>-0.401929</td>\n      <td>35.0</td>\n      <td>75815010</td>\n      <td>12</td>\n      <td>55</td>\n      <td>41</td>\n      <td>1871</td>\n      <td>99447</td>\n    </tr>\n    <tr>\n      <th>1791</th>\n      <td>-0.002362</td>\n      <td>1.836176</td>\n      <td>-0.476509</td>\n      <td>126.0</td>\n      <td>75815010</td>\n      <td>45</td>\n      <td>59</td>\n      <td>59</td>\n      <td>1897</td>\n      <td>99451</td>\n    </tr>\n    <tr>\n      <th>1792</th>\n      <td>-0.002936</td>\n      <td>1.814605</td>\n      <td>-0.546100</td>\n      <td>54.0</td>\n      <td>75815010</td>\n      <td>19</td>\n      <td>63</td>\n      <td>23</td>\n      <td>1895</td>\n      <td>99455</td>\n    </tr>\n  </tbody>\n</table>\n<p>1793 rows × 10 columns</p>\n</div>"
     },
     "metadata": {},
     "execution_count": 173
    }
   ],
   "source": [
    "pipeline(lazy_dataframes[0].compute())"
   ]
  },
  {
   "cell_type": "code",
   "execution_count": null,
   "metadata": {},
   "outputs": [],
   "source": []
  }
 ]
}