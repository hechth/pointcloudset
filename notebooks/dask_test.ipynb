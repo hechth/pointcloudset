{
 "metadata": {
  "language_info": {
   "codemirror_mode": {
    "name": "ipython",
    "version": 3
   },
   "file_extension": ".py",
   "mimetype": "text/x-python",
   "name": "python",
   "nbconvert_exporter": "python",
   "pygments_lexer": "ipython3",
   "version": "3.7.4-final"
  },
  "orig_nbformat": 2,
  "kernelspec": {
   "name": "python3",
   "display_name": "Python 3.7.4 64-bit ('base': conda)",
   "metadata": {
    "interpreter": {
     "hash": "98b0a9b7b4eaaa670588a142fd0a9b87eaafe866f1db4228be72b4211d12040f"
    }
   }
  }
 },
 "nbformat": 4,
 "nbformat_minor": 2,
 "cells": [
  {
   "cell_type": "code",
   "execution_count": 22,
   "metadata": {},
   "outputs": [],
   "source": [
    "import lidar"
   ]
  },
  {
   "source": [
    "first converting the bagfile to a parquet file"
   ],
   "cell_type": "markdown",
   "metadata": {}
  },
  {
   "cell_type": "code",
   "execution_count": 40,
   "metadata": {},
   "outputs": [],
   "source": [
    "bagfile = \"/workspaces/lidar/tests/testdata/big.bag\"\n",
    "bagfile_bag = rosbag.Bag(bagfile)"
   ]
  },
  {
   "cell_type": "code",
   "execution_count": 43,
   "metadata": {},
   "outputs": [],
   "source": [
    "#!/usr/bin/env python\n",
    "import pandas as pd\n",
    "import numpy as np\n",
    "import itertools\n",
    "from typing import Optional, List\n",
    "import rosbag\n",
    "from tqdm import tqdm\n",
    "import sensor_msgs.point_cloud2 as pc2\n",
    "from dask import delayed\n",
    "import dask.dataframe as dd\n",
    "\n",
    "\n",
    "PANDAS_TYPEMAPPING = {\n",
    "    1: np.dtype(\"int8\"),\n",
    "    2: np.dtype(\"uint8\"),\n",
    "    3: np.dtype(\"int16\"),\n",
    "    4: np.dtype(\"uint16\"),\n",
    "    5: np.dtype(\"int32\"),\n",
    "    6: np.dtype(\"uint32\"),\n",
    "    7: np.dtype(\"float32\"),\n",
    "    8: np.dtype(\"float64\"),\n",
    "}\n",
    "\n",
    "\n",
    "\n",
    "def read_bag(\n",
    "    bag: rosbag.Bag,\n",
    "    start_frame_number: Optional[int] = 0,\n",
    "    end_frame_number: Optional[int] = None,\n",
    "    keep_zeros: bool = False,\n",
    "    topic: str = \"/os1_cloud_node/points\",\n",
    ") -> List:\n",
    "    messages = bag.read_messages(topics=[topic])\n",
    "    sliced_messages = itertools.islice(messages, start_frame_number, None)\n",
    "    result_list = []\n",
    "    if end_frame_number is None:\n",
    "        end_frame_number = 2  # TODO fix to lenght of messages\n",
    "    for frame_number in tqdm(range(start_frame_number, end_frame_number, 1)):\n",
    "        message = next(sliced_messages)\n",
    "        frame = delayed(dataframe_from_message(message, keep_zeros))\n",
    "        result_list.append(frame)\n",
    "    return result_list\n",
    "\n",
    "\n",
    "def dataframe_from_message(\n",
    "    message: rosbag.bag.BagMessage, keep_zeros: bool = False\n",
    ") -> pd.DataFrame:\n",
    "    columnnames = [item.name for item in message.message.fields]\n",
    "    type_dict = {\n",
    "        item.name: PANDAS_TYPEMAPPING[item.datatype] for item in message.message.fields\n",
    "    }\n",
    "    frame_raw = pc2.read_points(message.message)\n",
    "    frame_df = pd.DataFrame(np.array(list(frame_raw)), columns=columnnames)\n",
    "    frame_df = frame_df.astype(type_dict)\n",
    "    if not keep_zeros:\n",
    "        frame_df = frame_df[\n",
    "            (frame_df[\"x\"] != 0.0) & (frame_df[\"y\"] != 0.0) & (frame_df[\"z\"] != 0.0)\n",
    "        ]\n",
    "        frame_df[\"original_id\"] = frame_df.index\n",
    "        frame_df = frame_df.astype({\"original_id\": \"uint32\"})\n",
    "        frame_df = frame_df.reset_index(drop=True)\n",
    "    return frame_df\n",
    "\n",
    "\n",
    "  "
   ]
  },
  {
   "cell_type": "code",
   "execution_count": 44,
   "metadata": {},
   "outputs": [
    {
     "output_type": "stream",
     "name": "stderr",
     "text": [
      "100%|██████████| 20/20 [00:06<00:00,  3.06it/s]\n"
     ]
    }
   ],
   "source": [
    "lazy_dataframes = read_bag(bagfile_bag, 0, 20, False, \"/os1_cloud_node/points\")"
   ]
  },
  {
   "cell_type": "code",
   "execution_count": 45,
   "metadata": {},
   "outputs": [],
   "source": [
    "test = dd.from_delayed(lazy_dataframes)"
   ]
  },
  {
   "cell_type": "code",
   "execution_count": 46,
   "metadata": {},
   "outputs": [
    {
     "output_type": "execute_result",
     "data": {
      "text/plain": [
       "1.1572314500808716"
      ]
     },
     "metadata": {},
     "execution_count": 46
    }
   ],
   "source": [
    "test.x.max().compute()"
   ]
  },
  {
   "cell_type": "code",
   "execution_count": 47,
   "metadata": {},
   "outputs": [
    {
     "output_type": "execute_result",
     "data": {
      "text/plain": [
       "               x         y         z  intensity         t  reflectivity  ring  \\\n",
       "112033  0.822196 -0.013709 -0.133023       89.0  99945160             6    49   \n",
       "112034  0.811021  0.016207 -0.138964       85.0  99945160             6    50   \n",
       "112035  0.820294  0.046462 -0.148941       74.0  99945160             5    51   \n",
       "112036  0.820693 -0.013927 -0.163821       93.0  99945160             6    53   \n",
       "112037  0.797619  0.045275 -0.175723       91.0  99945160             6    55   \n",
       "\n",
       "        noise  range  original_id  \n",
       "112033     53    833       131057  \n",
       "112034     33    823       131058  \n",
       "112035     81    835       131059  \n",
       "112036     34    837       131061  \n",
       "112037     32    818       131063  "
      ],
      "text/html": "<div>\n<style scoped>\n    .dataframe tbody tr th:only-of-type {\n        vertical-align: middle;\n    }\n\n    .dataframe tbody tr th {\n        vertical-align: top;\n    }\n\n    .dataframe thead th {\n        text-align: right;\n    }\n</style>\n<table border=\"1\" class=\"dataframe\">\n  <thead>\n    <tr style=\"text-align: right;\">\n      <th></th>\n      <th>x</th>\n      <th>y</th>\n      <th>z</th>\n      <th>intensity</th>\n      <th>t</th>\n      <th>reflectivity</th>\n      <th>ring</th>\n      <th>noise</th>\n      <th>range</th>\n      <th>original_id</th>\n    </tr>\n  </thead>\n  <tbody>\n    <tr>\n      <th>112033</th>\n      <td>0.822196</td>\n      <td>-0.013709</td>\n      <td>-0.133023</td>\n      <td>89.0</td>\n      <td>99945160</td>\n      <td>6</td>\n      <td>49</td>\n      <td>53</td>\n      <td>833</td>\n      <td>131057</td>\n    </tr>\n    <tr>\n      <th>112034</th>\n      <td>0.811021</td>\n      <td>0.016207</td>\n      <td>-0.138964</td>\n      <td>85.0</td>\n      <td>99945160</td>\n      <td>6</td>\n      <td>50</td>\n      <td>33</td>\n      <td>823</td>\n      <td>131058</td>\n    </tr>\n    <tr>\n      <th>112035</th>\n      <td>0.820294</td>\n      <td>0.046462</td>\n      <td>-0.148941</td>\n      <td>74.0</td>\n      <td>99945160</td>\n      <td>5</td>\n      <td>51</td>\n      <td>81</td>\n      <td>835</td>\n      <td>131059</td>\n    </tr>\n    <tr>\n      <th>112036</th>\n      <td>0.820693</td>\n      <td>-0.013927</td>\n      <td>-0.163821</td>\n      <td>93.0</td>\n      <td>99945160</td>\n      <td>6</td>\n      <td>53</td>\n      <td>34</td>\n      <td>837</td>\n      <td>131061</td>\n    </tr>\n    <tr>\n      <th>112037</th>\n      <td>0.797619</td>\n      <td>0.045275</td>\n      <td>-0.175723</td>\n      <td>91.0</td>\n      <td>99945160</td>\n      <td>6</td>\n      <td>55</td>\n      <td>32</td>\n      <td>818</td>\n      <td>131063</td>\n    </tr>\n  </tbody>\n</table>\n</div>"
     },
     "metadata": {},
     "execution_count": 47
    }
   ],
   "source": [
    "test.tail()"
   ]
  },
  {
   "cell_type": "code",
   "execution_count": 48,
   "metadata": {},
   "outputs": [
    {
     "output_type": "execute_result",
     "data": {
      "text/plain": [
       "          x         y         z  intensity  t  reflectivity  ring  noise  \\\n",
       "0  0.796484 -0.043220  0.236579       50.0  0             3     0     44   \n",
       "1  0.807739  0.046913  0.214302      134.0  0             9     3     42   \n",
       "2  0.808805  0.016405  0.190070      153.0  0            10     6     37   \n",
       "3  0.818806 -0.043872  0.177631       65.0  0             4     8     42   \n",
       "4  0.821585 -0.013810  0.169493      136.0  0             9     9     25   \n",
       "\n",
       "   range  original_id  \n",
       "0    832            0  \n",
       "1    837            3  \n",
       "2    831            6  \n",
       "3    839            8  \n",
       "4    839            9  "
      ],
      "text/html": "<div>\n<style scoped>\n    .dataframe tbody tr th:only-of-type {\n        vertical-align: middle;\n    }\n\n    .dataframe tbody tr th {\n        vertical-align: top;\n    }\n\n    .dataframe thead th {\n        text-align: right;\n    }\n</style>\n<table border=\"1\" class=\"dataframe\">\n  <thead>\n    <tr style=\"text-align: right;\">\n      <th></th>\n      <th>x</th>\n      <th>y</th>\n      <th>z</th>\n      <th>intensity</th>\n      <th>t</th>\n      <th>reflectivity</th>\n      <th>ring</th>\n      <th>noise</th>\n      <th>range</th>\n      <th>original_id</th>\n    </tr>\n  </thead>\n  <tbody>\n    <tr>\n      <th>0</th>\n      <td>0.796484</td>\n      <td>-0.043220</td>\n      <td>0.236579</td>\n      <td>50.0</td>\n      <td>0</td>\n      <td>3</td>\n      <td>0</td>\n      <td>44</td>\n      <td>832</td>\n      <td>0</td>\n    </tr>\n    <tr>\n      <th>1</th>\n      <td>0.807739</td>\n      <td>0.046913</td>\n      <td>0.214302</td>\n      <td>134.0</td>\n      <td>0</td>\n      <td>9</td>\n      <td>3</td>\n      <td>42</td>\n      <td>837</td>\n      <td>3</td>\n    </tr>\n    <tr>\n      <th>2</th>\n      <td>0.808805</td>\n      <td>0.016405</td>\n      <td>0.190070</td>\n      <td>153.0</td>\n      <td>0</td>\n      <td>10</td>\n      <td>6</td>\n      <td>37</td>\n      <td>831</td>\n      <td>6</td>\n    </tr>\n    <tr>\n      <th>3</th>\n      <td>0.818806</td>\n      <td>-0.043872</td>\n      <td>0.177631</td>\n      <td>65.0</td>\n      <td>0</td>\n      <td>4</td>\n      <td>8</td>\n      <td>42</td>\n      <td>839</td>\n      <td>8</td>\n    </tr>\n    <tr>\n      <th>4</th>\n      <td>0.821585</td>\n      <td>-0.013810</td>\n      <td>0.169493</td>\n      <td>136.0</td>\n      <td>0</td>\n      <td>9</td>\n      <td>9</td>\n      <td>25</td>\n      <td>839</td>\n      <td>9</td>\n    </tr>\n  </tbody>\n</table>\n</div>"
     },
     "metadata": {},
     "execution_count": 48
    }
   ],
   "source": [
    "test.head()"
   ]
  },
  {
   "cell_type": "code",
   "execution_count": 49,
   "metadata": {},
   "outputs": [
    {
     "output_type": "execute_result",
     "data": {
      "text/plain": [
       "Dask DataFrame Structure:\n",
       "                      x        y        z intensity       t reflectivity   ring   noise   range original_id\n",
       "npartitions=20                                                                                             \n",
       "                float32  float32  float32   float32  uint32       uint16  uint8  uint16  uint32      uint32\n",
       "                    ...      ...      ...       ...     ...          ...    ...     ...     ...         ...\n",
       "...                 ...      ...      ...       ...     ...          ...    ...     ...     ...         ...\n",
       "                    ...      ...      ...       ...     ...          ...    ...     ...     ...         ...\n",
       "                    ...      ...      ...       ...     ...          ...    ...     ...     ...         ...\n",
       "Dask Name: from-delayed, 40 tasks"
      ],
      "text/html": "<div><strong>Dask DataFrame Structure:</strong></div>\n<div>\n<style scoped>\n    .dataframe tbody tr th:only-of-type {\n        vertical-align: middle;\n    }\n\n    .dataframe tbody tr th {\n        vertical-align: top;\n    }\n\n    .dataframe thead th {\n        text-align: right;\n    }\n</style>\n<table border=\"1\" class=\"dataframe\">\n  <thead>\n    <tr style=\"text-align: right;\">\n      <th></th>\n      <th>x</th>\n      <th>y</th>\n      <th>z</th>\n      <th>intensity</th>\n      <th>t</th>\n      <th>reflectivity</th>\n      <th>ring</th>\n      <th>noise</th>\n      <th>range</th>\n      <th>original_id</th>\n    </tr>\n    <tr>\n      <th>npartitions=20</th>\n      <th></th>\n      <th></th>\n      <th></th>\n      <th></th>\n      <th></th>\n      <th></th>\n      <th></th>\n      <th></th>\n      <th></th>\n      <th></th>\n    </tr>\n  </thead>\n  <tbody>\n    <tr>\n      <th></th>\n      <td>float32</td>\n      <td>float32</td>\n      <td>float32</td>\n      <td>float32</td>\n      <td>uint32</td>\n      <td>uint16</td>\n      <td>uint8</td>\n      <td>uint16</td>\n      <td>uint32</td>\n      <td>uint32</td>\n    </tr>\n    <tr>\n      <th></th>\n      <td>...</td>\n      <td>...</td>\n      <td>...</td>\n      <td>...</td>\n      <td>...</td>\n      <td>...</td>\n      <td>...</td>\n      <td>...</td>\n      <td>...</td>\n      <td>...</td>\n    </tr>\n    <tr>\n      <th>...</th>\n      <td>...</td>\n      <td>...</td>\n      <td>...</td>\n      <td>...</td>\n      <td>...</td>\n      <td>...</td>\n      <td>...</td>\n      <td>...</td>\n      <td>...</td>\n      <td>...</td>\n    </tr>\n    <tr>\n      <th></th>\n      <td>...</td>\n      <td>...</td>\n      <td>...</td>\n      <td>...</td>\n      <td>...</td>\n      <td>...</td>\n      <td>...</td>\n      <td>...</td>\n      <td>...</td>\n      <td>...</td>\n    </tr>\n    <tr>\n      <th></th>\n      <td>...</td>\n      <td>...</td>\n      <td>...</td>\n      <td>...</td>\n      <td>...</td>\n      <td>...</td>\n      <td>...</td>\n      <td>...</td>\n      <td>...</td>\n      <td>...</td>\n    </tr>\n  </tbody>\n</table>\n</div>\n<div>Dask Name: from-delayed, 40 tasks</div>"
     },
     "metadata": {},
     "execution_count": 49
    }
   ],
   "source": [
    "test"
   ]
  },
  {
   "cell_type": "code",
   "execution_count": null,
   "metadata": {},
   "outputs": [],
   "source": []
  }
 ]
}