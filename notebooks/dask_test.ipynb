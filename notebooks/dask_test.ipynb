{
 "metadata": {
  "language_info": {
   "codemirror_mode": {
    "name": "ipython",
    "version": 3
   },
   "file_extension": ".py",
   "mimetype": "text/x-python",
   "name": "python",
   "nbconvert_exporter": "python",
   "pygments_lexer": "ipython3",
   "version": "3.7.4-final"
  },
  "orig_nbformat": 2,
  "kernelspec": {
   "name": "python3",
   "display_name": "Python 3.7.4 64-bit ('base': conda)",
   "metadata": {
    "interpreter": {
     "hash": "98b0a9b7b4eaaa670588a142fd0a9b87eaafe866f1db4228be72b4211d12040f"
    }
   }
  }
 },
 "nbformat": 4,
 "nbformat_minor": 2,
 "cells": [
  {
   "cell_type": "code",
   "execution_count": 1,
   "metadata": {},
   "outputs": [
    {
     "output_type": "stream",
     "name": "stderr",
     "text": [
      "Failed to load Python extension for LZ4 support. LZ4 compression will not be available.\n"
     ]
    }
   ],
   "source": [
    "import lidar\n",
    "import rosbag\n",
    "from dask.distributed import Client\n",
    "client = Client()  # start distributed scheduler locally.  Launch dashboard"
   ]
  },
  {
   "source": [
    "first converting the bagfile to a parquet file"
   ],
   "cell_type": "markdown",
   "metadata": {}
  },
  {
   "cell_type": "code",
   "execution_count": 6,
   "metadata": {},
   "outputs": [],
   "source": [
    "bagfile = \"/workspaces/lidar/tests/testdata/big.bag\"\n",
    "bagfile_bag = rosbag.Bag(bagfile)"
   ]
  },
  {
   "cell_type": "code",
   "execution_count": 2,
   "metadata": {},
   "outputs": [],
   "source": [
    "#!/usr/bin/env python\n",
    "import pandas as pd\n",
    "import numpy as np\n",
    "import itertools\n",
    "from typing import Optional, List\n",
    "import rosbag\n",
    "from tqdm import tqdm\n",
    "import sensor_msgs.point_cloud2 as pc2\n",
    "from dask import delayed\n",
    "import dask.dataframe as dd\n",
    "\n",
    "\n",
    "PANDAS_TYPEMAPPING = {\n",
    "    1: np.dtype(\"int8\"),\n",
    "    2: np.dtype(\"uint8\"),\n",
    "    3: np.dtype(\"int16\"),\n",
    "    4: np.dtype(\"uint16\"),\n",
    "    5: np.dtype(\"int32\"),\n",
    "    6: np.dtype(\"uint32\"),\n",
    "    7: np.dtype(\"float32\"),\n",
    "    8: np.dtype(\"float64\"),\n",
    "}\n",
    "\n",
    "\n",
    "\n",
    "def read_bag(\n",
    "    bag: rosbag.Bag,\n",
    "    start_frame_number: Optional[int] = 0,\n",
    "    end_frame_number: Optional[int] = None,\n",
    "    keep_zeros: bool = False,\n",
    "    topic: str = \"/os1_cloud_node/points\",\n",
    ") -> List:\n",
    "    messages = bag.read_messages(topics=[topic])\n",
    "    sliced_messages = itertools.islice(messages, start_frame_number, None)\n",
    "    result_list = []\n",
    "    if end_frame_number is None:\n",
    "        end_frame_number = 2  # TODO fix to lenght of messages\n",
    "    for frame_number in tqdm(range(start_frame_number, end_frame_number, 1)):\n",
    "        message = next(sliced_messages)\n",
    "        frame = delayed(dataframe_from_message(message, keep_zeros))\n",
    "        result_list.append(frame)\n",
    "    return result_list\n",
    "\n",
    "\n",
    "def dataframe_from_message(\n",
    "    message: rosbag.bag.BagMessage, keep_zeros: bool = False\n",
    ") -> pd.DataFrame:\n",
    "    columnnames = [item.name for item in message.message.fields]\n",
    "    type_dict = {\n",
    "        item.name: PANDAS_TYPEMAPPING[item.datatype] for item in message.message.fields\n",
    "    }\n",
    "    frame_raw = pc2.read_points(message.message)\n",
    "    frame_df = pd.DataFrame(np.array(list(frame_raw)), columns=columnnames)\n",
    "    frame_df = frame_df.astype(type_dict)\n",
    "    if not keep_zeros:\n",
    "        frame_df = frame_df[\n",
    "            (frame_df[\"x\"] != 0.0) & (frame_df[\"y\"] != 0.0) & (frame_df[\"z\"] != 0.0)\n",
    "        ]\n",
    "        frame_df[\"original_id\"] = frame_df.index\n",
    "        frame_df = frame_df.astype({\"original_id\": \"uint32\"})\n",
    "        frame_df = frame_df.reset_index(drop=True)\n",
    "    return frame_df\n",
    "\n",
    "\n",
    "  "
   ]
  },
  {
   "cell_type": "code",
   "execution_count": 30,
   "metadata": {},
   "outputs": [
    {
     "output_type": "stream",
     "name": "stderr",
     "text": [
      "100%|██████████| 200/200 [01:29<00:00,  2.22it/s]\n"
     ]
    }
   ],
   "source": [
    "lazy_dataframes = read_bag(bagfile_bag, 0, 200, False, \"/os1_cloud_node/points\")"
   ]
  },
  {
   "cell_type": "code",
   "execution_count": 9,
   "metadata": {},
   "outputs": [],
   "source": [
    "test = dd.from_delayed(lazy_dataframes)"
   ]
  },
  {
   "cell_type": "code",
   "execution_count": 10,
   "metadata": {},
   "outputs": [
    {
     "output_type": "execute_result",
     "data": {
      "text/plain": [
       "1.252312421798706"
      ]
     },
     "metadata": {},
     "execution_count": 10
    }
   ],
   "source": [
    "test.x.max().compute()"
   ]
  },
  {
   "cell_type": "code",
   "execution_count": 11,
   "metadata": {},
   "outputs": [
    {
     "output_type": "execute_result",
     "data": {
      "text/plain": [
       "               x         y         z  intensity         t  reflectivity  ring  \\\n",
       "111817  0.805429  0.045549 -0.115905       79.0  99926580             5    47   \n",
       "111818  0.794220 -0.013478 -0.158536      108.0  99926580             7    53   \n",
       "111819  0.803390  0.015773 -0.168396      101.0  99926580             7    54   \n",
       "111820  0.762607  0.014853 -0.189751       69.0  99926580             4    58   \n",
       "111821  0.776013  0.043899 -0.201706       64.0  99926580             4    59   \n",
       "\n",
       "        noise  range  original_id  \n",
       "111817     24    815       131055  \n",
       "111818     39    810       131061  \n",
       "111819     58    821       131062  \n",
       "111820     37    786       131066  \n",
       "111821     32    803       131067  "
      ],
      "text/html": "<div>\n<style scoped>\n    .dataframe tbody tr th:only-of-type {\n        vertical-align: middle;\n    }\n\n    .dataframe tbody tr th {\n        vertical-align: top;\n    }\n\n    .dataframe thead th {\n        text-align: right;\n    }\n</style>\n<table border=\"1\" class=\"dataframe\">\n  <thead>\n    <tr style=\"text-align: right;\">\n      <th></th>\n      <th>x</th>\n      <th>y</th>\n      <th>z</th>\n      <th>intensity</th>\n      <th>t</th>\n      <th>reflectivity</th>\n      <th>ring</th>\n      <th>noise</th>\n      <th>range</th>\n      <th>original_id</th>\n    </tr>\n  </thead>\n  <tbody>\n    <tr>\n      <th>111817</th>\n      <td>0.805429</td>\n      <td>0.045549</td>\n      <td>-0.115905</td>\n      <td>79.0</td>\n      <td>99926580</td>\n      <td>5</td>\n      <td>47</td>\n      <td>24</td>\n      <td>815</td>\n      <td>131055</td>\n    </tr>\n    <tr>\n      <th>111818</th>\n      <td>0.794220</td>\n      <td>-0.013478</td>\n      <td>-0.158536</td>\n      <td>108.0</td>\n      <td>99926580</td>\n      <td>7</td>\n      <td>53</td>\n      <td>39</td>\n      <td>810</td>\n      <td>131061</td>\n    </tr>\n    <tr>\n      <th>111819</th>\n      <td>0.803390</td>\n      <td>0.015773</td>\n      <td>-0.168396</td>\n      <td>101.0</td>\n      <td>99926580</td>\n      <td>7</td>\n      <td>54</td>\n      <td>58</td>\n      <td>821</td>\n      <td>131062</td>\n    </tr>\n    <tr>\n      <th>111820</th>\n      <td>0.762607</td>\n      <td>0.014853</td>\n      <td>-0.189751</td>\n      <td>69.0</td>\n      <td>99926580</td>\n      <td>4</td>\n      <td>58</td>\n      <td>37</td>\n      <td>786</td>\n      <td>131066</td>\n    </tr>\n    <tr>\n      <th>111821</th>\n      <td>0.776013</td>\n      <td>0.043899</td>\n      <td>-0.201706</td>\n      <td>64.0</td>\n      <td>99926580</td>\n      <td>4</td>\n      <td>59</td>\n      <td>32</td>\n      <td>803</td>\n      <td>131067</td>\n    </tr>\n  </tbody>\n</table>\n</div>"
     },
     "metadata": {},
     "execution_count": 11
    }
   ],
   "source": [
    "test.tail()"
   ]
  },
  {
   "cell_type": "code",
   "execution_count": 12,
   "metadata": {},
   "outputs": [
    {
     "output_type": "execute_result",
     "data": {
      "text/plain": [
       "          x         y         z  intensity  t  reflectivity  ring  noise  \\\n",
       "0  0.796484 -0.043220  0.236579       50.0  0             3     0     44   \n",
       "1  0.807739  0.046913  0.214302      134.0  0             9     3     42   \n",
       "2  0.808805  0.016405  0.190070      153.0  0            10     6     37   \n",
       "3  0.818806 -0.043872  0.177631       65.0  0             4     8     42   \n",
       "4  0.821585 -0.013810  0.169493      136.0  0             9     9     25   \n",
       "\n",
       "   range  original_id  \n",
       "0    832            0  \n",
       "1    837            3  \n",
       "2    831            6  \n",
       "3    839            8  \n",
       "4    839            9  "
      ],
      "text/html": "<div>\n<style scoped>\n    .dataframe tbody tr th:only-of-type {\n        vertical-align: middle;\n    }\n\n    .dataframe tbody tr th {\n        vertical-align: top;\n    }\n\n    .dataframe thead th {\n        text-align: right;\n    }\n</style>\n<table border=\"1\" class=\"dataframe\">\n  <thead>\n    <tr style=\"text-align: right;\">\n      <th></th>\n      <th>x</th>\n      <th>y</th>\n      <th>z</th>\n      <th>intensity</th>\n      <th>t</th>\n      <th>reflectivity</th>\n      <th>ring</th>\n      <th>noise</th>\n      <th>range</th>\n      <th>original_id</th>\n    </tr>\n  </thead>\n  <tbody>\n    <tr>\n      <th>0</th>\n      <td>0.796484</td>\n      <td>-0.043220</td>\n      <td>0.236579</td>\n      <td>50.0</td>\n      <td>0</td>\n      <td>3</td>\n      <td>0</td>\n      <td>44</td>\n      <td>832</td>\n      <td>0</td>\n    </tr>\n    <tr>\n      <th>1</th>\n      <td>0.807739</td>\n      <td>0.046913</td>\n      <td>0.214302</td>\n      <td>134.0</td>\n      <td>0</td>\n      <td>9</td>\n      <td>3</td>\n      <td>42</td>\n      <td>837</td>\n      <td>3</td>\n    </tr>\n    <tr>\n      <th>2</th>\n      <td>0.808805</td>\n      <td>0.016405</td>\n      <td>0.190070</td>\n      <td>153.0</td>\n      <td>0</td>\n      <td>10</td>\n      <td>6</td>\n      <td>37</td>\n      <td>831</td>\n      <td>6</td>\n    </tr>\n    <tr>\n      <th>3</th>\n      <td>0.818806</td>\n      <td>-0.043872</td>\n      <td>0.177631</td>\n      <td>65.0</td>\n      <td>0</td>\n      <td>4</td>\n      <td>8</td>\n      <td>42</td>\n      <td>839</td>\n      <td>8</td>\n    </tr>\n    <tr>\n      <th>4</th>\n      <td>0.821585</td>\n      <td>-0.013810</td>\n      <td>0.169493</td>\n      <td>136.0</td>\n      <td>0</td>\n      <td>9</td>\n      <td>9</td>\n      <td>25</td>\n      <td>839</td>\n      <td>9</td>\n    </tr>\n  </tbody>\n</table>\n</div>"
     },
     "metadata": {},
     "execution_count": 12
    }
   ],
   "source": [
    "test.head()"
   ]
  },
  {
   "cell_type": "code",
   "execution_count": 13,
   "metadata": {},
   "outputs": [
    {
     "output_type": "execute_result",
     "data": {
      "text/plain": [
       "Dask DataFrame Structure:\n",
       "                       x        y        z intensity       t reflectivity   ring   noise   range original_id\n",
       "npartitions=200                                                                                             \n",
       "                 float32  float32  float32   float32  uint32       uint16  uint8  uint16  uint32      uint32\n",
       "                     ...      ...      ...       ...     ...          ...    ...     ...     ...         ...\n",
       "...                  ...      ...      ...       ...     ...          ...    ...     ...     ...         ...\n",
       "                     ...      ...      ...       ...     ...          ...    ...     ...     ...         ...\n",
       "                     ...      ...      ...       ...     ...          ...    ...     ...     ...         ...\n",
       "Dask Name: from-delayed, 400 tasks"
      ],
      "text/html": "<div><strong>Dask DataFrame Structure:</strong></div>\n<div>\n<style scoped>\n    .dataframe tbody tr th:only-of-type {\n        vertical-align: middle;\n    }\n\n    .dataframe tbody tr th {\n        vertical-align: top;\n    }\n\n    .dataframe thead th {\n        text-align: right;\n    }\n</style>\n<table border=\"1\" class=\"dataframe\">\n  <thead>\n    <tr style=\"text-align: right;\">\n      <th></th>\n      <th>x</th>\n      <th>y</th>\n      <th>z</th>\n      <th>intensity</th>\n      <th>t</th>\n      <th>reflectivity</th>\n      <th>ring</th>\n      <th>noise</th>\n      <th>range</th>\n      <th>original_id</th>\n    </tr>\n    <tr>\n      <th>npartitions=200</th>\n      <th></th>\n      <th></th>\n      <th></th>\n      <th></th>\n      <th></th>\n      <th></th>\n      <th></th>\n      <th></th>\n      <th></th>\n      <th></th>\n    </tr>\n  </thead>\n  <tbody>\n    <tr>\n      <th></th>\n      <td>float32</td>\n      <td>float32</td>\n      <td>float32</td>\n      <td>float32</td>\n      <td>uint32</td>\n      <td>uint16</td>\n      <td>uint8</td>\n      <td>uint16</td>\n      <td>uint32</td>\n      <td>uint32</td>\n    </tr>\n    <tr>\n      <th></th>\n      <td>...</td>\n      <td>...</td>\n      <td>...</td>\n      <td>...</td>\n      <td>...</td>\n      <td>...</td>\n      <td>...</td>\n      <td>...</td>\n      <td>...</td>\n      <td>...</td>\n    </tr>\n    <tr>\n      <th>...</th>\n      <td>...</td>\n      <td>...</td>\n      <td>...</td>\n      <td>...</td>\n      <td>...</td>\n      <td>...</td>\n      <td>...</td>\n      <td>...</td>\n      <td>...</td>\n      <td>...</td>\n    </tr>\n    <tr>\n      <th></th>\n      <td>...</td>\n      <td>...</td>\n      <td>...</td>\n      <td>...</td>\n      <td>...</td>\n      <td>...</td>\n      <td>...</td>\n      <td>...</td>\n      <td>...</td>\n      <td>...</td>\n    </tr>\n    <tr>\n      <th></th>\n      <td>...</td>\n      <td>...</td>\n      <td>...</td>\n      <td>...</td>\n      <td>...</td>\n      <td>...</td>\n      <td>...</td>\n      <td>...</td>\n      <td>...</td>\n      <td>...</td>\n    </tr>\n  </tbody>\n</table>\n</div>\n<div>Dask Name: from-delayed, 400 tasks</div>"
     },
     "metadata": {},
     "execution_count": 13
    }
   ],
   "source": [
    "test"
   ]
  },
  {
   "cell_type": "code",
   "execution_count": 14,
   "metadata": {},
   "outputs": [
    {
     "output_type": "execute_result",
     "data": {
      "text/plain": [
       "               x         y         z  intensity         t  reflectivity  ring  \\\n",
       "0       0.796484 -0.043220  0.236579       50.0         0             3     0   \n",
       "1       0.807739  0.046913  0.214302      134.0         0             9     3   \n",
       "2       0.808805  0.016405  0.190070      153.0         0            10     6   \n",
       "3       0.818806 -0.043872  0.177631       65.0         0             4     8   \n",
       "4       0.821585 -0.013810  0.169493      136.0         0             9     9   \n",
       "...          ...       ...       ...        ...       ...           ...   ...   \n",
       "112182  0.801167  0.016010 -0.137276      107.0  99939680             7    50   \n",
       "112183  0.814400  0.046128 -0.147871       86.0  99939680             6    51   \n",
       "112184  0.809908 -0.013744 -0.161668      107.0  99939680             7    53   \n",
       "112185  0.795561  0.015620 -0.166755       86.0  99939680             6    54   \n",
       "112186  0.770369  0.015004 -0.191683       76.0  99939680             5    58   \n",
       "\n",
       "        noise  range  original_id  \n",
       "0          44    832            0  \n",
       "1          42    837            3  \n",
       "2          37    831            6  \n",
       "3          42    839            8  \n",
       "4          25    839            9  \n",
       "...       ...    ...          ...  \n",
       "112182     43    813       131058  \n",
       "112183     56    829       131059  \n",
       "112184     39    826       131061  \n",
       "112185     57    813       131062  \n",
       "112186     39    794       131066  \n",
       "\n",
       "[112187 rows x 10 columns]"
      ],
      "text/html": "<div>\n<style scoped>\n    .dataframe tbody tr th:only-of-type {\n        vertical-align: middle;\n    }\n\n    .dataframe tbody tr th {\n        vertical-align: top;\n    }\n\n    .dataframe thead th {\n        text-align: right;\n    }\n</style>\n<table border=\"1\" class=\"dataframe\">\n  <thead>\n    <tr style=\"text-align: right;\">\n      <th></th>\n      <th>x</th>\n      <th>y</th>\n      <th>z</th>\n      <th>intensity</th>\n      <th>t</th>\n      <th>reflectivity</th>\n      <th>ring</th>\n      <th>noise</th>\n      <th>range</th>\n      <th>original_id</th>\n    </tr>\n  </thead>\n  <tbody>\n    <tr>\n      <th>0</th>\n      <td>0.796484</td>\n      <td>-0.043220</td>\n      <td>0.236579</td>\n      <td>50.0</td>\n      <td>0</td>\n      <td>3</td>\n      <td>0</td>\n      <td>44</td>\n      <td>832</td>\n      <td>0</td>\n    </tr>\n    <tr>\n      <th>1</th>\n      <td>0.807739</td>\n      <td>0.046913</td>\n      <td>0.214302</td>\n      <td>134.0</td>\n      <td>0</td>\n      <td>9</td>\n      <td>3</td>\n      <td>42</td>\n      <td>837</td>\n      <td>3</td>\n    </tr>\n    <tr>\n      <th>2</th>\n      <td>0.808805</td>\n      <td>0.016405</td>\n      <td>0.190070</td>\n      <td>153.0</td>\n      <td>0</td>\n      <td>10</td>\n      <td>6</td>\n      <td>37</td>\n      <td>831</td>\n      <td>6</td>\n    </tr>\n    <tr>\n      <th>3</th>\n      <td>0.818806</td>\n      <td>-0.043872</td>\n      <td>0.177631</td>\n      <td>65.0</td>\n      <td>0</td>\n      <td>4</td>\n      <td>8</td>\n      <td>42</td>\n      <td>839</td>\n      <td>8</td>\n    </tr>\n    <tr>\n      <th>4</th>\n      <td>0.821585</td>\n      <td>-0.013810</td>\n      <td>0.169493</td>\n      <td>136.0</td>\n      <td>0</td>\n      <td>9</td>\n      <td>9</td>\n      <td>25</td>\n      <td>839</td>\n      <td>9</td>\n    </tr>\n    <tr>\n      <th>...</th>\n      <td>...</td>\n      <td>...</td>\n      <td>...</td>\n      <td>...</td>\n      <td>...</td>\n      <td>...</td>\n      <td>...</td>\n      <td>...</td>\n      <td>...</td>\n      <td>...</td>\n    </tr>\n    <tr>\n      <th>112182</th>\n      <td>0.801167</td>\n      <td>0.016010</td>\n      <td>-0.137276</td>\n      <td>107.0</td>\n      <td>99939680</td>\n      <td>7</td>\n      <td>50</td>\n      <td>43</td>\n      <td>813</td>\n      <td>131058</td>\n    </tr>\n    <tr>\n      <th>112183</th>\n      <td>0.814400</td>\n      <td>0.046128</td>\n      <td>-0.147871</td>\n      <td>86.0</td>\n      <td>99939680</td>\n      <td>6</td>\n      <td>51</td>\n      <td>56</td>\n      <td>829</td>\n      <td>131059</td>\n    </tr>\n    <tr>\n      <th>112184</th>\n      <td>0.809908</td>\n      <td>-0.013744</td>\n      <td>-0.161668</td>\n      <td>107.0</td>\n      <td>99939680</td>\n      <td>7</td>\n      <td>53</td>\n      <td>39</td>\n      <td>826</td>\n      <td>131061</td>\n    </tr>\n    <tr>\n      <th>112185</th>\n      <td>0.795561</td>\n      <td>0.015620</td>\n      <td>-0.166755</td>\n      <td>86.0</td>\n      <td>99939680</td>\n      <td>6</td>\n      <td>54</td>\n      <td>57</td>\n      <td>813</td>\n      <td>131062</td>\n    </tr>\n    <tr>\n      <th>112186</th>\n      <td>0.770369</td>\n      <td>0.015004</td>\n      <td>-0.191683</td>\n      <td>76.0</td>\n      <td>99939680</td>\n      <td>5</td>\n      <td>58</td>\n      <td>39</td>\n      <td>794</td>\n      <td>131066</td>\n    </tr>\n  </tbody>\n</table>\n<p>112187 rows × 10 columns</p>\n</div>"
     },
     "metadata": {},
     "execution_count": 14
    }
   ],
   "source": [
    "lazy_dataframes[0].compute()"
   ]
  },
  {
   "source": [
    "This is very promissing! I could just keep the tiny_lazy_dataframes and then convert it to a frame whenever needed!"
   ],
   "cell_type": "markdown",
   "metadata": {}
  },
  {
   "source": [
    "What about the meta data, how can I use that?"
   ],
   "cell_type": "markdown",
   "metadata": {}
  },
  {
   "source": [],
   "cell_type": "markdown",
   "metadata": {}
  },
  {
   "cell_type": "code",
   "execution_count": 17,
   "metadata": {},
   "outputs": [],
   "source": [
    "test.to_parquet(\"/workspaces/export_test\")"
   ]
  },
  {
   "cell_type": "code",
   "execution_count": 3,
   "metadata": {},
   "outputs": [],
   "source": [
    "test2 = dd.read_parquet(\"/workspaces/export_test\")"
   ]
  },
  {
   "cell_type": "code",
   "execution_count": 4,
   "metadata": {},
   "outputs": [
    {
     "output_type": "execute_result",
     "data": {
      "text/plain": [
       "1.252312421798706"
      ]
     },
     "metadata": {},
     "execution_count": 4
    }
   ],
   "source": [
    "test2.x.max().compute()"
   ]
  },
  {
   "source": [
    "Writing meta data as a json into the same folder"
   ],
   "cell_type": "markdown",
   "metadata": {}
  },
  {
   "source": [],
   "cell_type": "markdown",
   "metadata": {}
  },
  {
   "cell_type": "code",
   "execution_count": 21,
   "metadata": {},
   "outputs": [],
   "source": [
    "meta = {\"oring_file\": \"sepp\", \"timestamps\": [234234.234234, 234234.22234]}"
   ]
  },
  {
   "cell_type": "code",
   "execution_count": 22,
   "metadata": {},
   "outputs": [],
   "source": [
    "import json"
   ]
  },
  {
   "cell_type": "code",
   "execution_count": 24,
   "metadata": {},
   "outputs": [
    {
     "output_type": "error",
     "ename": "TypeError",
     "evalue": "dump() missing 1 required positional argument: 'fp'",
     "traceback": [
      "\u001b[0;31m---------------------------------------------------------------------------\u001b[0m",
      "\u001b[0;31mTypeError\u001b[0m                                 Traceback (most recent call last)",
      "\u001b[0;32m<ipython-input-24-949039fff479>\u001b[0m in \u001b[0;36m<module>\u001b[0;34m\u001b[0m\n\u001b[0;32m----> 1\u001b[0;31m \u001b[0mjson\u001b[0m\u001b[0;34m.\u001b[0m\u001b[0mdump\u001b[0m\u001b[0;34m(\u001b[0m\u001b[0mmeta\u001b[0m\u001b[0;34m)\u001b[0m\u001b[0;34m\u001b[0m\u001b[0;34m\u001b[0m\u001b[0m\n\u001b[0m",
      "\u001b[0;31mTypeError\u001b[0m: dump() missing 1 required positional argument: 'fp'"
     ]
    }
   ],
   "source": [
    "json.dump(meta)"
   ]
  },
  {
   "cell_type": "code",
   "execution_count": 25,
   "metadata": {},
   "outputs": [],
   "source": [
    "with open(\"/workspaces/export_test/data_file.json\", \"w\") as write_file:\n",
    "    json.dump(meta, write_file)\n"
   ]
  },
  {
   "cell_type": "code",
   "execution_count": 26,
   "metadata": {},
   "outputs": [],
   "source": [
    "with open(\"/workspaces/export_test/data_file.json\", \"r\") as read_file:\n",
    "    data = json.load(read_file)\n"
   ]
  },
  {
   "cell_type": "code",
   "execution_count": 28,
   "metadata": {},
   "outputs": [
    {
     "output_type": "execute_result",
     "data": {
      "text/plain": [
       "'sepp'"
      ]
     },
     "metadata": {},
     "execution_count": 28
    }
   ],
   "source": [
    "data[\"t\"]"
   ]
  },
  {
   "cell_type": "code",
   "execution_count": 6,
   "metadata": {},
   "outputs": [
    {
     "output_type": "execute_result",
     "data": {
      "text/plain": [
       "dask.dataframe.core.DataFrame"
      ]
     },
     "metadata": {},
     "execution_count": 6
    }
   ],
   "source": [
    "type(test2)"
   ]
  },
  {
   "cell_type": "code",
   "execution_count": 10,
   "metadata": {},
   "outputs": [
    {
     "output_type": "execute_result",
     "data": {
      "text/plain": [
       "                  x             y             z     intensity             t  \\\n",
       "count  2.240581e+07  2.240581e+07  2.240581e+07  2.240581e+07  2.240581e+07   \n",
       "mean  -1.395355e+00 -1.555028e-01  1.420729e-01  1.098774e+02  4.939794e+07   \n",
       "std    3.188425e+00  2.228653e+00  7.776557e-01  1.323687e+02  2.772368e+07   \n",
       "min   -3.452180e+01 -1.538729e+01 -6.654050e-01  8.000000e+00  0.000000e+00   \n",
       "25%   -1.821742e+00 -1.528600e+00 -2.560951e-01  4.700000e+01  2.574580e+07   \n",
       "50%    2.228281e-02  2.162177e-02 -4.399885e-03  7.100000e+01  5.035434e+07   \n",
       "75%    7.839448e-01  1.622289e+00  2.577102e-01  1.290000e+02  7.485591e+07   \n",
       "max    1.252312e+00  5.981112e+00  6.153335e+00  2.566000e+03  9.998461e+07   \n",
       "\n",
       "       reflectivity          ring         noise         range   original_id  \n",
       "count  2.240581e+07  2.240581e+07  2.240581e+07  2.240581e+07  2.240581e+07  \n",
       "mean   2.981485e+02  3.154140e+01  4.484404e+01  2.951956e+03  6.478594e+04  \n",
       "std    7.314155e+02  1.837981e+01  5.830621e+01  3.002505e+03  3.634500e+04  \n",
       "min    1.000000e+00  0.000000e+00  0.000000e+00  6.650000e+02  0.000000e+00  \n",
       "25%    7.000000e+00  1.600000e+01  3.000000e+01  1.212000e+03  3.375075e+04  \n",
       "50%    2.100000e+01  3.200000e+01  3.900000e+01  1.956000e+03  6.606600e+04  \n",
       "75%    1.150000e+02  4.800000e+01  5.100000e+01  3.280000e+03  9.823450e+04  \n",
       "max    1.974000e+04  6.300000e+01  2.071000e+03  3.501700e+04  1.310700e+05  "
      ],
      "text/html": "<div>\n<style scoped>\n    .dataframe tbody tr th:only-of-type {\n        vertical-align: middle;\n    }\n\n    .dataframe tbody tr th {\n        vertical-align: top;\n    }\n\n    .dataframe thead th {\n        text-align: right;\n    }\n</style>\n<table border=\"1\" class=\"dataframe\">\n  <thead>\n    <tr style=\"text-align: right;\">\n      <th></th>\n      <th>x</th>\n      <th>y</th>\n      <th>z</th>\n      <th>intensity</th>\n      <th>t</th>\n      <th>reflectivity</th>\n      <th>ring</th>\n      <th>noise</th>\n      <th>range</th>\n      <th>original_id</th>\n    </tr>\n  </thead>\n  <tbody>\n    <tr>\n      <th>count</th>\n      <td>2.240581e+07</td>\n      <td>2.240581e+07</td>\n      <td>2.240581e+07</td>\n      <td>2.240581e+07</td>\n      <td>2.240581e+07</td>\n      <td>2.240581e+07</td>\n      <td>2.240581e+07</td>\n      <td>2.240581e+07</td>\n      <td>2.240581e+07</td>\n      <td>2.240581e+07</td>\n    </tr>\n    <tr>\n      <th>mean</th>\n      <td>-1.395355e+00</td>\n      <td>-1.555028e-01</td>\n      <td>1.420729e-01</td>\n      <td>1.098774e+02</td>\n      <td>4.939794e+07</td>\n      <td>2.981485e+02</td>\n      <td>3.154140e+01</td>\n      <td>4.484404e+01</td>\n      <td>2.951956e+03</td>\n      <td>6.478594e+04</td>\n    </tr>\n    <tr>\n      <th>std</th>\n      <td>3.188425e+00</td>\n      <td>2.228653e+00</td>\n      <td>7.776557e-01</td>\n      <td>1.323687e+02</td>\n      <td>2.772368e+07</td>\n      <td>7.314155e+02</td>\n      <td>1.837981e+01</td>\n      <td>5.830621e+01</td>\n      <td>3.002505e+03</td>\n      <td>3.634500e+04</td>\n    </tr>\n    <tr>\n      <th>min</th>\n      <td>-3.452180e+01</td>\n      <td>-1.538729e+01</td>\n      <td>-6.654050e-01</td>\n      <td>8.000000e+00</td>\n      <td>0.000000e+00</td>\n      <td>1.000000e+00</td>\n      <td>0.000000e+00</td>\n      <td>0.000000e+00</td>\n      <td>6.650000e+02</td>\n      <td>0.000000e+00</td>\n    </tr>\n    <tr>\n      <th>25%</th>\n      <td>-1.821742e+00</td>\n      <td>-1.528600e+00</td>\n      <td>-2.560951e-01</td>\n      <td>4.700000e+01</td>\n      <td>2.574580e+07</td>\n      <td>7.000000e+00</td>\n      <td>1.600000e+01</td>\n      <td>3.000000e+01</td>\n      <td>1.212000e+03</td>\n      <td>3.375075e+04</td>\n    </tr>\n    <tr>\n      <th>50%</th>\n      <td>2.228281e-02</td>\n      <td>2.162177e-02</td>\n      <td>-4.399885e-03</td>\n      <td>7.100000e+01</td>\n      <td>5.035434e+07</td>\n      <td>2.100000e+01</td>\n      <td>3.200000e+01</td>\n      <td>3.900000e+01</td>\n      <td>1.956000e+03</td>\n      <td>6.606600e+04</td>\n    </tr>\n    <tr>\n      <th>75%</th>\n      <td>7.839448e-01</td>\n      <td>1.622289e+00</td>\n      <td>2.577102e-01</td>\n      <td>1.290000e+02</td>\n      <td>7.485591e+07</td>\n      <td>1.150000e+02</td>\n      <td>4.800000e+01</td>\n      <td>5.100000e+01</td>\n      <td>3.280000e+03</td>\n      <td>9.823450e+04</td>\n    </tr>\n    <tr>\n      <th>max</th>\n      <td>1.252312e+00</td>\n      <td>5.981112e+00</td>\n      <td>6.153335e+00</td>\n      <td>2.566000e+03</td>\n      <td>9.998461e+07</td>\n      <td>1.974000e+04</td>\n      <td>6.300000e+01</td>\n      <td>2.071000e+03</td>\n      <td>3.501700e+04</td>\n      <td>1.310700e+05</td>\n    </tr>\n  </tbody>\n</table>\n</div>"
     },
     "metadata": {},
     "execution_count": 10
    }
   ],
   "source": [
    "test2.describe().compute()"
   ]
  },
  {
   "cell_type": "code",
   "execution_count": 24,
   "metadata": {},
   "outputs": [
    {
     "output_type": "execute_result",
     "data": {
      "text/plain": [
       "(Delayed('int-3bde0fd9-9481-440e-8069-0e92b3cb828e'), 10)"
      ]
     },
     "metadata": {},
     "execution_count": 24
    }
   ],
   "source": [
    "test2.shape"
   ]
  },
  {
   "cell_type": "code",
   "execution_count": 25,
   "metadata": {},
   "outputs": [
    {
     "output_type": "execute_result",
     "data": {
      "text/plain": [
       "22405807"
      ]
     },
     "metadata": {},
     "execution_count": 25
    }
   ],
   "source": [
    "len(test2)"
   ]
  },
  {
   "cell_type": "code",
   "execution_count": 28,
   "metadata": {},
   "outputs": [
    {
     "output_type": "execute_result",
     "data": {
      "text/plain": [
       "Dask DataFrame Structure:\n",
       "                       x        y        z intensity       t reflectivity   ring   noise   range original_id\n",
       "npartitions=200                                                                                             \n",
       "                 float32  float32  float32   float32  uint32       uint16  uint8  uint16  uint32      uint32\n",
       "                     ...      ...      ...       ...     ...          ...    ...     ...     ...         ...\n",
       "...                  ...      ...      ...       ...     ...          ...    ...     ...     ...         ...\n",
       "                     ...      ...      ...       ...     ...          ...    ...     ...     ...         ...\n",
       "                     ...      ...      ...       ...     ...          ...    ...     ...     ...         ...\n",
       "Dask Name: read-parquet, 200 tasks"
      ],
      "text/html": "<div><strong>Dask DataFrame Structure:</strong></div>\n<div>\n<style scoped>\n    .dataframe tbody tr th:only-of-type {\n        vertical-align: middle;\n    }\n\n    .dataframe tbody tr th {\n        vertical-align: top;\n    }\n\n    .dataframe thead th {\n        text-align: right;\n    }\n</style>\n<table border=\"1\" class=\"dataframe\">\n  <thead>\n    <tr style=\"text-align: right;\">\n      <th></th>\n      <th>x</th>\n      <th>y</th>\n      <th>z</th>\n      <th>intensity</th>\n      <th>t</th>\n      <th>reflectivity</th>\n      <th>ring</th>\n      <th>noise</th>\n      <th>range</th>\n      <th>original_id</th>\n    </tr>\n    <tr>\n      <th>npartitions=200</th>\n      <th></th>\n      <th></th>\n      <th></th>\n      <th></th>\n      <th></th>\n      <th></th>\n      <th></th>\n      <th></th>\n      <th></th>\n      <th></th>\n    </tr>\n  </thead>\n  <tbody>\n    <tr>\n      <th></th>\n      <td>float32</td>\n      <td>float32</td>\n      <td>float32</td>\n      <td>float32</td>\n      <td>uint32</td>\n      <td>uint16</td>\n      <td>uint8</td>\n      <td>uint16</td>\n      <td>uint32</td>\n      <td>uint32</td>\n    </tr>\n    <tr>\n      <th></th>\n      <td>...</td>\n      <td>...</td>\n      <td>...</td>\n      <td>...</td>\n      <td>...</td>\n      <td>...</td>\n      <td>...</td>\n      <td>...</td>\n      <td>...</td>\n      <td>...</td>\n    </tr>\n    <tr>\n      <th>...</th>\n      <td>...</td>\n      <td>...</td>\n      <td>...</td>\n      <td>...</td>\n      <td>...</td>\n      <td>...</td>\n      <td>...</td>\n      <td>...</td>\n      <td>...</td>\n      <td>...</td>\n    </tr>\n    <tr>\n      <th></th>\n      <td>...</td>\n      <td>...</td>\n      <td>...</td>\n      <td>...</td>\n      <td>...</td>\n      <td>...</td>\n      <td>...</td>\n      <td>...</td>\n      <td>...</td>\n      <td>...</td>\n    </tr>\n    <tr>\n      <th></th>\n      <td>...</td>\n      <td>...</td>\n      <td>...</td>\n      <td>...</td>\n      <td>...</td>\n      <td>...</td>\n      <td>...</td>\n      <td>...</td>\n      <td>...</td>\n      <td>...</td>\n    </tr>\n  </tbody>\n</table>\n</div>\n<div>Dask Name: read-parquet, 200 tasks</div>"
     },
     "metadata": {},
     "execution_count": 28
    }
   ],
   "source": [
    "test2"
   ]
  },
  {
   "cell_type": "code",
   "execution_count": 29,
   "metadata": {},
   "outputs": [
    {
     "output_type": "execute_result",
     "data": {
      "text/plain": [
       "200"
      ]
     },
     "metadata": {},
     "execution_count": 29
    }
   ],
   "source": [
    "test2.npartitions"
   ]
  },
  {
   "cell_type": "code",
   "execution_count": 31,
   "metadata": {},
   "outputs": [],
   "source": [
    "test3 = test2.get_partition(0)"
   ]
  },
  {
   "cell_type": "code",
   "execution_count": 32,
   "metadata": {},
   "outputs": [
    {
     "output_type": "execute_result",
     "data": {
      "text/plain": [
       "dask.dataframe.core.DataFrame"
      ]
     },
     "metadata": {},
     "execution_count": 32
    }
   ],
   "source": [
    "type(test3)"
   ]
  },
  {
   "cell_type": "code",
   "execution_count": 37,
   "metadata": {},
   "outputs": [
    {
     "output_type": "execute_result",
     "data": {
      "text/plain": [
       "               x         y         z  intensity         t  reflectivity  ring  \\\n",
       "0       0.796484 -0.043220  0.236579       50.0         0             3     0   \n",
       "1       0.807739  0.046913  0.214302      134.0         0             9     3   \n",
       "2       0.808805  0.016405  0.190070      153.0         0            10     6   \n",
       "3       0.818806 -0.043872  0.177631       65.0         0             4     8   \n",
       "4       0.821585 -0.013810  0.169493      136.0         0             9     9   \n",
       "...          ...       ...       ...        ...       ...           ...   ...   \n",
       "112182  0.801167  0.016010 -0.137276      107.0  99939680             7    50   \n",
       "112183  0.814400  0.046128 -0.147871       86.0  99939680             6    51   \n",
       "112184  0.809908 -0.013744 -0.161668      107.0  99939680             7    53   \n",
       "112185  0.795561  0.015620 -0.166755       86.0  99939680             6    54   \n",
       "112186  0.770369  0.015004 -0.191683       76.0  99939680             5    58   \n",
       "\n",
       "        noise  range  original_id  \n",
       "0          44    832            0  \n",
       "1          42    837            3  \n",
       "2          37    831            6  \n",
       "3          42    839            8  \n",
       "4          25    839            9  \n",
       "...       ...    ...          ...  \n",
       "112182     43    813       131058  \n",
       "112183     56    829       131059  \n",
       "112184     39    826       131061  \n",
       "112185     57    813       131062  \n",
       "112186     39    794       131066  \n",
       "\n",
       "[112187 rows x 10 columns]"
      ],
      "text/html": "<div>\n<style scoped>\n    .dataframe tbody tr th:only-of-type {\n        vertical-align: middle;\n    }\n\n    .dataframe tbody tr th {\n        vertical-align: top;\n    }\n\n    .dataframe thead th {\n        text-align: right;\n    }\n</style>\n<table border=\"1\" class=\"dataframe\">\n  <thead>\n    <tr style=\"text-align: right;\">\n      <th></th>\n      <th>x</th>\n      <th>y</th>\n      <th>z</th>\n      <th>intensity</th>\n      <th>t</th>\n      <th>reflectivity</th>\n      <th>ring</th>\n      <th>noise</th>\n      <th>range</th>\n      <th>original_id</th>\n    </tr>\n  </thead>\n  <tbody>\n    <tr>\n      <th>0</th>\n      <td>0.796484</td>\n      <td>-0.043220</td>\n      <td>0.236579</td>\n      <td>50.0</td>\n      <td>0</td>\n      <td>3</td>\n      <td>0</td>\n      <td>44</td>\n      <td>832</td>\n      <td>0</td>\n    </tr>\n    <tr>\n      <th>1</th>\n      <td>0.807739</td>\n      <td>0.046913</td>\n      <td>0.214302</td>\n      <td>134.0</td>\n      <td>0</td>\n      <td>9</td>\n      <td>3</td>\n      <td>42</td>\n      <td>837</td>\n      <td>3</td>\n    </tr>\n    <tr>\n      <th>2</th>\n      <td>0.808805</td>\n      <td>0.016405</td>\n      <td>0.190070</td>\n      <td>153.0</td>\n      <td>0</td>\n      <td>10</td>\n      <td>6</td>\n      <td>37</td>\n      <td>831</td>\n      <td>6</td>\n    </tr>\n    <tr>\n      <th>3</th>\n      <td>0.818806</td>\n      <td>-0.043872</td>\n      <td>0.177631</td>\n      <td>65.0</td>\n      <td>0</td>\n      <td>4</td>\n      <td>8</td>\n      <td>42</td>\n      <td>839</td>\n      <td>8</td>\n    </tr>\n    <tr>\n      <th>4</th>\n      <td>0.821585</td>\n      <td>-0.013810</td>\n      <td>0.169493</td>\n      <td>136.0</td>\n      <td>0</td>\n      <td>9</td>\n      <td>9</td>\n      <td>25</td>\n      <td>839</td>\n      <td>9</td>\n    </tr>\n    <tr>\n      <th>...</th>\n      <td>...</td>\n      <td>...</td>\n      <td>...</td>\n      <td>...</td>\n      <td>...</td>\n      <td>...</td>\n      <td>...</td>\n      <td>...</td>\n      <td>...</td>\n      <td>...</td>\n    </tr>\n    <tr>\n      <th>112182</th>\n      <td>0.801167</td>\n      <td>0.016010</td>\n      <td>-0.137276</td>\n      <td>107.0</td>\n      <td>99939680</td>\n      <td>7</td>\n      <td>50</td>\n      <td>43</td>\n      <td>813</td>\n      <td>131058</td>\n    </tr>\n    <tr>\n      <th>112183</th>\n      <td>0.814400</td>\n      <td>0.046128</td>\n      <td>-0.147871</td>\n      <td>86.0</td>\n      <td>99939680</td>\n      <td>6</td>\n      <td>51</td>\n      <td>56</td>\n      <td>829</td>\n      <td>131059</td>\n    </tr>\n    <tr>\n      <th>112184</th>\n      <td>0.809908</td>\n      <td>-0.013744</td>\n      <td>-0.161668</td>\n      <td>107.0</td>\n      <td>99939680</td>\n      <td>7</td>\n      <td>53</td>\n      <td>39</td>\n      <td>826</td>\n      <td>131061</td>\n    </tr>\n    <tr>\n      <th>112185</th>\n      <td>0.795561</td>\n      <td>0.015620</td>\n      <td>-0.166755</td>\n      <td>86.0</td>\n      <td>99939680</td>\n      <td>6</td>\n      <td>54</td>\n      <td>57</td>\n      <td>813</td>\n      <td>131062</td>\n    </tr>\n    <tr>\n      <th>112186</th>\n      <td>0.770369</td>\n      <td>0.015004</td>\n      <td>-0.191683</td>\n      <td>76.0</td>\n      <td>99939680</td>\n      <td>5</td>\n      <td>58</td>\n      <td>39</td>\n      <td>794</td>\n      <td>131066</td>\n    </tr>\n  </tbody>\n</table>\n<p>112187 rows × 10 columns</p>\n</div>"
     },
     "metadata": {},
     "execution_count": 37
    }
   ],
   "source": [
    "test3.compute()"
   ]
  },
  {
   "cell_type": "code",
   "execution_count": 38,
   "metadata": {},
   "outputs": [
    {
     "output_type": "execute_result",
     "data": {
      "text/plain": [
       "Timestamp('2017-01-01 12:00:00')"
      ]
     },
     "metadata": {},
     "execution_count": 38
    }
   ],
   "source": [
    "pd.Timestamp('2017-01-01T12')"
   ]
  },
  {
   "cell_type": "code",
   "execution_count": 39,
   "metadata": {},
   "outputs": [
    {
     "output_type": "execute_result",
     "data": {
      "text/plain": [
       "pandas._libs.tslibs.timestamps.Timestamp"
      ]
     },
     "metadata": {},
     "execution_count": 39
    }
   ],
   "source": [
    "type(pd.Timestamp('2017-01-01T12'))"
   ]
  },
  {
   "cell_type": "code",
   "execution_count": 40,
   "metadata": {},
   "outputs": [],
   "source": [
    "import datetime"
   ]
  },
  {
   "cell_type": "code",
   "execution_count": 45,
   "metadata": {},
   "outputs": [
    {
     "output_type": "execute_result",
     "data": {
      "text/plain": [
       "datetime.datetime"
      ]
     },
     "metadata": {},
     "execution_count": 45
    }
   ],
   "source": [
    "type(datetime.datetime(2021,10,10))"
   ]
  },
  {
   "cell_type": "code",
   "execution_count": 48,
   "metadata": {},
   "outputs": [
    {
     "output_type": "execute_result",
     "data": {
      "text/plain": [
       "datetime.datetime(2021, 3, 12, 12, 53, 23, 276731)"
      ]
     },
     "metadata": {},
     "execution_count": 48
    }
   ],
   "source": [
    "datetime.datetime.now()"
   ]
  },
  {
   "cell_type": "code",
   "execution_count": 56,
   "metadata": {},
   "outputs": [],
   "source": [
    "test3 = [delayed(test2.get_partition(i)) for i in range(0,10)]"
   ]
  },
  {
   "cell_type": "code",
   "execution_count": 58,
   "metadata": {},
   "outputs": [],
   "source": [
    "test4 = dd.from_delayed(test3)"
   ]
  },
  {
   "cell_type": "code",
   "execution_count": 59,
   "metadata": {},
   "outputs": [
    {
     "output_type": "execute_result",
     "data": {
      "text/plain": [
       "10"
      ]
     },
     "metadata": {},
     "execution_count": 59
    }
   ],
   "source": [
    "test4.npartitions"
   ]
  },
  {
   "cell_type": "code",
   "execution_count": null,
   "metadata": {},
   "outputs": [],
   "source": []
  }
 ]
}