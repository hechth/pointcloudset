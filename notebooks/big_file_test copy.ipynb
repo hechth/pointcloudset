{
 "metadata": {
  "language_info": {
   "codemirror_mode": {
    "name": "ipython",
    "version": 3
   },
   "file_extension": ".py",
   "mimetype": "text/x-python",
   "name": "python",
   "nbconvert_exporter": "python",
   "pygments_lexer": "ipython3",
   "version": "3.7.4-final"
  },
  "orig_nbformat": 2,
  "kernelspec": {
   "name": "python3",
   "display_name": "Python 3.7.4 64-bit ('base': conda)",
   "metadata": {
    "interpreter": {
     "hash": "98b0a9b7b4eaaa670588a142fd0a9b87eaafe866f1db4228be72b4211d12040f"
    }
   }
  }
 },
 "nbformat": 4,
 "nbformat_minor": 2,
 "cells": [
  {
   "cell_type": "code",
   "execution_count": 38,
   "metadata": {},
   "outputs": [
    {
     "output_type": "stream",
     "name": "stderr",
     "text": [
      "/opt/conda/lib/python3.7/site-packages/distributed/node.py:155: UserWarning: Port 8787 is already in use.\n",
      "Perhaps you already have a cluster running?\n",
      "Hosting the HTTP server on port 42119 instead\n",
      "  http_address[\"port\"], self.http_server.port\n",
      "The autoreload extension is already loaded. To reload it, use:\n",
      "  %reload_ext autoreload\n"
     ]
    }
   ],
   "source": [
    "import lidar\n",
    "import rosbag\n",
    "from pathlib import Path\n",
    "from dask.distributed import Client\n",
    "from dask import delayed\n",
    "import dask.dataframe as dd\n",
    "import dask\n",
    "import pandas as pd\n",
    "import numpy as np\n",
    "from lidar.io.dataset.convert_bag2dataset import convert_bag2dir\n",
    "\n",
    "client = Client()  # start distributed scheduler locally.  Launch dashboard\n",
    "%load_ext autoreload\n",
    "%autoreload 2\n",
    "%config IPCompleter.greedy=True"
   ]
  },
  {
   "cell_type": "code",
   "execution_count": 39,
   "metadata": {},
   "outputs": [],
   "source": [
    "bagfile = \"/workspaces/lidar/tests/testdata/big.bag\""
   ]
  },
  {
   "cell_type": "code",
   "execution_count": 41,
   "metadata": {},
   "outputs": [
    {
     "output_type": "stream",
     "name": "stderr",
     "text": [
      "100%|██████████| 25/25 [00:09<00:00,  2.68it/s]\n",
      "Files written to: /workspaces/ref/0\n"
     ]
    }
   ],
   "source": [
    "ref= convert_bag2dir(Path(bagfile), Path(\"/workspaces/ref/\"),start_frame_number = 0, end_frame_number = 25, max_size= 50)"
   ]
  },
  {
   "cell_type": "code",
   "execution_count": 64,
   "metadata": {},
   "outputs": [
    {
     "output_type": "stream",
     "name": "stdout",
     "text": [
      "[ 0  1  2  3  4  5  6  7  8  9 10 11 12 13 14 15 16 17 18 19 20 21 22 23\n",
      " 24]\n",
      "new\n",
      "100%|██████████| 9/9 [00:03<00:00,  2.81it/s]\n",
      "[0 1 2 3 4 5 6 7 8]\n",
      "0\n",
      "Files written to: /workspaces/testx/0\n",
      "new\n",
      "100%|██████████| 8/8 [00:02<00:00,  3.27it/s]\n",
      "[ 9 10 11 12 13 14 15 16]\n",
      "9\n",
      "Files written to: /workspaces/testx/1\n",
      "new\n",
      "100%|██████████| 8/8 [00:02<00:00,  3.15it/s]\n",
      "[17 18 19 20 21 22 23 24]\n",
      "8\n",
      "Files written to: /workspaces/testx/2\n"
     ]
    }
   ],
   "source": [
    "test0= convert_bag2dir(Path(bagfile), Path(\"/workspaces/testx/\"),start_frame_number = 0, end_frame_number = 25, max_size= 10)"
   ]
  },
  {
   "source": [
    "Ok, now read the stuff"
   ],
   "cell_type": "markdown",
   "metadata": {}
  },
  {
   "cell_type": "code",
   "execution_count": 43,
   "metadata": {},
   "outputs": [
    {
     "output_type": "stream",
     "name": "stdout",
     "text": [
      "/workspaces/ref/0\n[datetime.datetime(2020, 12, 3, 10, 37, 34, 313459), datetime.datetime(2020, 12, 3, 10, 37, 34, 412553), datetime.datetime(2020, 12, 3, 10, 37, 34, 536845), datetime.datetime(2020, 12, 3, 10, 37, 34, 630067), datetime.datetime(2020, 12, 3, 10, 37, 34, 712737), datetime.datetime(2020, 12, 3, 10, 37, 34, 836352), datetime.datetime(2020, 12, 3, 10, 37, 34, 905691), datetime.datetime(2020, 12, 3, 10, 37, 35, 28042), datetime.datetime(2020, 12, 3, 10, 37, 35, 104652), datetime.datetime(2020, 12, 3, 10, 37, 35, 222942), datetime.datetime(2020, 12, 3, 10, 37, 35, 313279), datetime.datetime(2020, 12, 3, 10, 37, 35, 420649), datetime.datetime(2020, 12, 3, 10, 37, 35, 513883), datetime.datetime(2020, 12, 3, 10, 37, 35, 602300), datetime.datetime(2020, 12, 3, 10, 37, 35, 709296), datetime.datetime(2020, 12, 3, 10, 37, 35, 817900), datetime.datetime(2020, 12, 3, 10, 37, 35, 916231), datetime.datetime(2020, 12, 3, 10, 37, 36, 14869), datetime.datetime(2020, 12, 3, 10, 37, 36, 125972), datetime.datetime(2020, 12, 3, 10, 37, 36, 210672), datetime.datetime(2020, 12, 3, 10, 37, 36, 323276), datetime.datetime(2020, 12, 3, 10, 37, 36, 411106), datetime.datetime(2020, 12, 3, 10, 37, 36, 511266), datetime.datetime(2020, 12, 3, 10, 37, 36, 620927), datetime.datetime(2020, 12, 3, 10, 37, 36, 711574)]\n"
     ]
    }
   ],
   "source": [
    "ref_in = lidar.Dataset.from_file(Path(\"/workspaces/ref\"))"
   ]
  },
  {
   "cell_type": "code",
   "execution_count": 65,
   "metadata": {},
   "outputs": [
    {
     "output_type": "stream",
     "name": "stdout",
     "text": [
      "/workspaces/testx/0\n9\n/workspaces/testx/1\n17\n/workspaces/testx/2\n25\n25\n"
     ]
    }
   ],
   "source": [
    "test_in = lidar.Dataset.from_file(Path(\"/workspaces/testx\"))"
   ]
  },
  {
   "cell_type": "code",
   "execution_count": 66,
   "metadata": {},
   "outputs": [
    {
     "output_type": "execute_result",
     "data": {
      "text/plain": [
       "25"
      ]
     },
     "metadata": {},
     "execution_count": 66
    }
   ],
   "source": [
    "len(test_in)"
   ]
  },
  {
   "cell_type": "code",
   "execution_count": 67,
   "metadata": {},
   "outputs": [
    {
     "output_type": "execute_result",
     "data": {
      "text/plain": [
       "25"
      ]
     },
     "metadata": {},
     "execution_count": 67
    }
   ],
   "source": [
    "len(test_in.data)"
   ]
  },
  {
   "cell_type": "code",
   "execution_count": 68,
   "metadata": {},
   "outputs": [
    {
     "output_type": "execute_result",
     "data": {
      "text/plain": [
       "25"
      ]
     },
     "metadata": {},
     "execution_count": 68
    }
   ],
   "source": [
    "len(ref_in)"
   ]
  },
  {
   "cell_type": "code",
   "execution_count": 69,
   "metadata": {},
   "outputs": [],
   "source": [
    "timestamps = test_in.timestamps\n",
    "timestamps_ref = ref_in.timestamps"
   ]
  },
  {
   "cell_type": "code",
   "execution_count": 70,
   "metadata": {},
   "outputs": [
    {
     "output_type": "execute_result",
     "data": {
      "text/plain": [
       "True"
      ]
     },
     "metadata": {},
     "execution_count": 70
    }
   ],
   "source": [
    "timestamps == timestamps_ref"
   ]
  },
  {
   "cell_type": "code",
   "execution_count": 15,
   "metadata": {},
   "outputs": [],
   "source": [
    "val = [1] * len(ts)"
   ]
  },
  {
   "cell_type": "code",
   "execution_count": 28,
   "metadata": {},
   "outputs": [],
   "source": [
    "test = pd.Series(data=val,index=ts)"
   ]
  },
  {
   "cell_type": "code",
   "execution_count": 30,
   "metadata": {},
   "outputs": [
    {
     "output_type": "execute_result",
     "data": {
      "text/plain": [
       "True"
      ]
     },
     "metadata": {},
     "execution_count": 30
    }
   ],
   "source": [
    "test.is_monotonic_increasing"
   ]
  },
  {
   "cell_type": "code",
   "execution_count": 35,
   "metadata": {},
   "outputs": [
    {
     "output_type": "execute_result",
     "data": {
      "text/plain": [
       "[True,\n",
       " True,\n",
       " True,\n",
       " True,\n",
       " True,\n",
       " True,\n",
       " True,\n",
       " True,\n",
       " False,\n",
       " True,\n",
       " True,\n",
       " True,\n",
       " True,\n",
       " True,\n",
       " True,\n",
       " True,\n",
       " True,\n",
       " True,\n",
       " True,\n",
       " True,\n",
       " True,\n",
       " True,\n",
       " True,\n",
       " True,\n",
       " True,\n",
       " False,\n",
       " True,\n",
       " True,\n",
       " True,\n",
       " True,\n",
       " True,\n",
       " True,\n",
       " True,\n",
       " True,\n",
       " True,\n",
       " True,\n",
       " True,\n",
       " True,\n",
       " True,\n",
       " True,\n",
       " True,\n",
       " True,\n",
       " True,\n",
       " True,\n",
       " True,\n",
       " True,\n",
       " True,\n",
       " True,\n",
       " True,\n",
       " True]"
      ]
     },
     "metadata": {},
     "execution_count": 35
    }
   ],
   "source": [
    "[timestamps[i] < timestamps[i + 1] for i in range(len(timestamps) - 1)]"
   ]
  },
  {
   "cell_type": "code",
   "execution_count": 50,
   "metadata": {},
   "outputs": [
    {
     "output_type": "error",
     "ename": "IndexError",
     "evalue": "list index out of range",
     "traceback": [
      "\u001b[0;31m---------------------------------------------------------------------------\u001b[0m",
      "\u001b[0;31mIndexError\u001b[0m                                Traceback (most recent call last)",
      "\u001b[0;32m<ipython-input-50-44bb8cf7cbf5>\u001b[0m in \u001b[0;36m<module>\u001b[0;34m\u001b[0m\n\u001b[0;32m----> 1\u001b[0;31m \u001b[0;34m[\u001b[0m\u001b[0mtimestamps\u001b[0m\u001b[0;34m[\u001b[0m\u001b[0mi\u001b[0m\u001b[0;34m]\u001b[0m \u001b[0;34m==\u001b[0m \u001b[0mtimestamps_ref\u001b[0m\u001b[0;34m[\u001b[0m\u001b[0mi\u001b[0m\u001b[0;34m]\u001b[0m \u001b[0;32mfor\u001b[0m \u001b[0mi\u001b[0m \u001b[0;32min\u001b[0m \u001b[0mrange\u001b[0m\u001b[0;34m(\u001b[0m\u001b[0mlen\u001b[0m\u001b[0;34m(\u001b[0m\u001b[0mtimestamps\u001b[0m\u001b[0;34m)\u001b[0m \u001b[0;34m-\u001b[0m \u001b[0;36m1\u001b[0m\u001b[0;34m)\u001b[0m\u001b[0;34m]\u001b[0m\u001b[0;34m\u001b[0m\u001b[0;34m\u001b[0m\u001b[0m\n\u001b[0m",
      "\u001b[0;32m<ipython-input-50-44bb8cf7cbf5>\u001b[0m in \u001b[0;36m<listcomp>\u001b[0;34m(.0)\u001b[0m\n\u001b[0;32m----> 1\u001b[0;31m \u001b[0;34m[\u001b[0m\u001b[0mtimestamps\u001b[0m\u001b[0;34m[\u001b[0m\u001b[0mi\u001b[0m\u001b[0;34m]\u001b[0m \u001b[0;34m==\u001b[0m \u001b[0mtimestamps_ref\u001b[0m\u001b[0;34m[\u001b[0m\u001b[0mi\u001b[0m\u001b[0;34m]\u001b[0m \u001b[0;32mfor\u001b[0m \u001b[0mi\u001b[0m \u001b[0;32min\u001b[0m \u001b[0mrange\u001b[0m\u001b[0;34m(\u001b[0m\u001b[0mlen\u001b[0m\u001b[0;34m(\u001b[0m\u001b[0mtimestamps\u001b[0m\u001b[0;34m)\u001b[0m \u001b[0;34m-\u001b[0m \u001b[0;36m1\u001b[0m\u001b[0;34m)\u001b[0m\u001b[0;34m]\u001b[0m\u001b[0;34m\u001b[0m\u001b[0;34m\u001b[0m\u001b[0m\n\u001b[0m",
      "\u001b[0;31mIndexError\u001b[0m: list index out of range"
     ]
    }
   ],
   "source": [
    "[timestamps[i] == timestamps_ref[i] for i in range(len(timestamps) - 1)]"
   ]
  },
  {
   "cell_type": "code",
   "execution_count": null,
   "metadata": {},
   "outputs": [],
   "source": []
  }
 ]
}