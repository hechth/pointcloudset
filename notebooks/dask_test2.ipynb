{
 "metadata": {
  "language_info": {
   "codemirror_mode": {
    "name": "ipython",
    "version": 3
   },
   "file_extension": ".py",
   "mimetype": "text/x-python",
   "name": "python",
   "nbconvert_exporter": "python",
   "pygments_lexer": "ipython3",
   "version": "3.7.4-final"
  },
  "orig_nbformat": 2,
  "kernelspec": {
   "name": "python3",
   "display_name": "Python 3.7.4 64-bit ('base': conda)",
   "metadata": {
    "interpreter": {
     "hash": "98b0a9b7b4eaaa670588a142fd0a9b87eaafe866f1db4228be72b4211d12040f"
    }
   }
  }
 },
 "nbformat": 4,
 "nbformat_minor": 2,
 "cells": [
  {
   "cell_type": "code",
   "execution_count": 1,
   "metadata": {},
   "outputs": [
    {
     "output_type": "stream",
     "name": "stderr",
     "text": [
      "Failed to load Python extension for LZ4 support. LZ4 compression will not be available.\n"
     ]
    }
   ],
   "source": [
    "import lidar\n",
    "import rosbag\n",
    "from pathlib import Path\n",
    "from dask.distributed import Client\n",
    "from dask import delayed\n",
    "import dask.dataframe as dd\n",
    "\n",
    "client = Client()  # start distributed scheduler locally.  Launch dashboard\n",
    "%load_ext autoreload\n",
    "%autoreload 2\n",
    "%config IPCompleter.greedy=True"
   ]
  },
  {
   "cell_type": "code",
   "execution_count": 2,
   "metadata": {},
   "outputs": [],
   "source": [
    "bagfile = \"/workspaces/lidar/tests/testdata/big.bag\""
   ]
  },
  {
   "cell_type": "code",
   "execution_count": 8,
   "metadata": {},
   "outputs": [
    {
     "output_type": "stream",
     "name": "stderr",
     "text": [
      "100%|██████████| 10/10 [00:03<00:00,  2.82it/s]\n"
     ]
    }
   ],
   "source": [
    "test = lidar.Dataset.from_file(Path(bagfile), start_frame_number = 100, end_frame_number = 110)"
   ]
  },
  {
   "cell_type": "code",
   "execution_count": 7,
   "metadata": {},
   "outputs": [
    {
     "output_type": "execute_result",
     "data": {
      "text/plain": [
       "'2020-12-03 10:37:44.596343'"
      ]
     },
     "metadata": {},
     "execution_count": 7
    }
   ],
   "source": [
    "str(test.timestamps[0])"
   ]
  },
  {
   "cell_type": "code",
   "execution_count": 9,
   "metadata": {},
   "outputs": [
    {
     "output_type": "execute_result",
     "data": {
      "text/plain": [
       "'2020-12-03 10:37:44.596343'"
      ]
     },
     "metadata": {},
     "execution_count": 9
    }
   ],
   "source": [
    "str(test.timestamps[0])"
   ]
  },
  {
   "cell_type": "code",
   "execution_count": 15,
   "metadata": {},
   "outputs": [
    {
     "output_type": "stream",
     "name": "stdout",
     "text": [
      "0\nnew chunk 1\n1\n2\n3\n4\n5\n6\n7\n8\n9\n10\nnew chunk 2\n11\n12\n13\n14\n15\n16\n17\n18\n19\n20\nnew chunk 3\n21\n22\n23\n24\n25\n26\n27\n28\n29\n30\nnew chunk 4\n31\n32\n33\n34\n35\n36\n37\n38\n39\n40\nnew chunk 5\n41\n42\n43\n44\n45\n46\n47\n48\n49\n50\nnew chunk 6\n51\n52\n53\n54\n55\n56\n57\n58\n59\n60\nnew chunk 7\n61\n62\n63\n64\n65\n66\n67\n68\n69\n70\nnew chunk 8\n71\n72\n73\n74\n75\n76\n77\n78\n79\n80\nnew chunk 9\n81\n82\n83\n84\n85\n86\n87\n88\n89\n90\nnew chunk 10\n91\n92\n93\n94\n95\n96\n97\n98\n99\n"
     ]
    }
   ],
   "source": [
    "start = 0\n",
    "stop = 100\n",
    "\n",
    "chunksize = 10\n",
    "chunk = 0\n",
    "\n",
    "for i in range(start,stop):\n",
    "    print(i)\n",
    "    if i % chunksize == 0:\n",
    "        chunk = chunk + 1\n",
    "        print(f\"new chunk {chunk}\")\n"
   ]
  },
  {
   "cell_type": "code",
   "execution_count": 8,
   "metadata": {},
   "outputs": [
    {
     "output_type": "stream",
     "name": "stdout",
     "text": [
      "CPU times: user 1.28 ms, sys: 1.09 ms, total: 2.37 ms\nWall time: 1.79 ms\n"
     ]
    }
   ],
   "source": [
    "%%time\n",
    "test = delayed(lidar.Dataset.from_file)(Path(bagfile), start_frame_number = 0, end_frame_number = 100)"
   ]
  },
  {
   "cell_type": "code",
   "execution_count": 9,
   "metadata": {},
   "outputs": [
    {
     "output_type": "stream",
     "name": "stdout",
     "text": [
      "CPU times: user 1.5 s, sys: 1.03 s, total: 2.53 s\nWall time: 34.7 s\n"
     ]
    }
   ],
   "source": [
    "%%time\n",
    "testx = test.compute()"
   ]
  },
  {
   "cell_type": "code",
   "execution_count": 11,
   "metadata": {},
   "outputs": [
    {
     "output_type": "stream",
     "name": "stdout",
     "text": [
      "Files written to: /workspaces/test3/big\n"
     ]
    }
   ],
   "source": [
    "testx.to_file(Path(\"/workspaces/test3\"))"
   ]
  },
  {
   "cell_type": "code",
   "execution_count": 5,
   "metadata": {},
   "outputs": [
    {
     "output_type": "execute_result",
     "data": {
      "text/plain": [
       "Delayed('from_file-a4fbf140-4a9e-45f5-8035-7873bfafb24e')"
      ]
     },
     "metadata": {},
     "execution_count": 5
    }
   ],
   "source": [
    "test"
   ]
  },
  {
   "cell_type": "code",
   "execution_count": 14,
   "metadata": {},
   "outputs": [
    {
     "output_type": "error",
     "ename": "AttributeError",
     "evalue": "'list' object has no attribute 'x'",
     "traceback": [
      "\u001b[0;31m---------------------------------------------------------------------------\u001b[0m",
      "\u001b[0;31mAttributeError\u001b[0m                            Traceback (most recent call last)",
      "\u001b[0;32m<ipython-input-14-b1ef56710e0d>\u001b[0m in \u001b[0;36m<module>\u001b[0;34m\u001b[0m\n\u001b[0;32m----> 1\u001b[0;31m \u001b[0mtestx\u001b[0m\u001b[0;34m.\u001b[0m\u001b[0mdata\u001b[0m\u001b[0;34m.\u001b[0m\u001b[0mx\u001b[0m\u001b[0;34m.\u001b[0m\u001b[0mmax\u001b[0m\u001b[0;34m(\u001b[0m\u001b[0;34m)\u001b[0m\u001b[0;34m.\u001b[0m\u001b[0mcompute\u001b[0m\u001b[0;34m(\u001b[0m\u001b[0;34m)\u001b[0m\u001b[0;34m\u001b[0m\u001b[0;34m\u001b[0m\u001b[0m\n\u001b[0m",
      "\u001b[0;31mAttributeError\u001b[0m: 'list' object has no attribute 'x'"
     ]
    }
   ],
   "source": [
    "testx.data.x.max().compute()"
   ]
  },
  {
   "cell_type": "code",
   "execution_count": 19,
   "metadata": {},
   "outputs": [],
   "source": [
    "data2 = dd.from_delayed(testx.data)"
   ]
  },
  {
   "cell_type": "code",
   "execution_count": 21,
   "metadata": {},
   "outputs": [
    {
     "output_type": "execute_result",
     "data": {
      "text/plain": [
       "1.252312421798706"
      ]
     },
     "metadata": {},
     "execution_count": 21
    }
   ],
   "source": [
    "data2.x.max().compute()"
   ]
  },
  {
   "cell_type": "code",
   "execution_count": 3,
   "metadata": {},
   "outputs": [
    {
     "output_type": "stream",
     "name": "stderr",
     "text": [
      "100%|██████████| 100/100 [00:47<00:00,  2.09it/s]\n"
     ]
    }
   ],
   "source": [
    "\n",
    "test0 = lidar.Dataset.from_file(Path(bagfile), start_frame_number = 0, end_frame_number = 100)\n"
   ]
  },
  {
   "cell_type": "code",
   "execution_count": 4,
   "metadata": {},
   "outputs": [
    {
     "output_type": "stream",
     "name": "stderr",
     "text": [
      "100%|██████████| 99/99 [00:38<00:00,  2.60it/s]\n"
     ]
    }
   ],
   "source": [
    "test1 = lidar.Dataset.from_file(Path(bagfile), start_frame_number = 101, end_frame_number = 200)\n"
   ]
  },
  {
   "cell_type": "code",
   "execution_count": 5,
   "metadata": {},
   "outputs": [
    {
     "output_type": "execute_result",
     "data": {
      "text/plain": [
       "'2020-12-03 10:37:34.313459'"
      ]
     },
     "metadata": {},
     "execution_count": 5
    }
   ],
   "source": [
    "str(test0.start_time)"
   ]
  },
  {
   "cell_type": "code",
   "execution_count": 6,
   "metadata": {},
   "outputs": [
    {
     "output_type": "execute_result",
     "data": {
      "text/plain": [
       "'2020-12-03 10:37:44.733687'"
      ]
     },
     "metadata": {},
     "execution_count": 6
    }
   ],
   "source": [
    "str(test1.start_time)"
   ]
  },
  {
   "cell_type": "code",
   "execution_count": 7,
   "metadata": {},
   "outputs": [],
   "source": [
    "newdat = test0.data + test1.data\n",
    "newtimes = test0.timestamps + test1.timestamps"
   ]
  },
  {
   "cell_type": "code",
   "execution_count": 14,
   "metadata": {},
   "outputs": [],
   "source": [
    "long=lidar.Dataset(data=newdat,timestamps=newtimes)"
   ]
  },
  {
   "cell_type": "code",
   "execution_count": 15,
   "metadata": {},
   "outputs": [
    {
     "output_type": "execute_result",
     "data": {
      "text/plain": [
       "Frame(               x         y         z  intensity         t  reflectivity  ring  \\\n",
       "0       0.804142 -0.043635  0.238854       57.0         0             4     0   \n",
       "1       0.810508 -0.013412  0.231400      117.0         0             8     1   \n",
       "2       0.826164  0.017104  0.227178      113.0         0             8     2   \n",
       "3       0.808924 -0.013357  0.198374       99.0         0             7     5   \n",
       "4       0.802965  0.016287  0.188698      147.0         0            10     6   \n",
       "...          ...       ...       ...        ...       ...           ...   ...   \n",
       "111918  0.802611  0.045460 -0.145731       76.0  99967600             5    51   \n",
       "111919  0.805425 -0.043116 -0.153207       54.0  99967600             4    52   \n",
       "111920  0.783434 -0.013295 -0.156383       95.0  99967600             6    53   \n",
       "111921  0.808345  0.045884 -0.178086       99.0  99967600             7    55   \n",
       "111922  0.779879  0.044118 -0.202711       60.0  99967600             4    59   \n",
       "\n",
       "        noise  range  original_id  \n",
       "0          44    840            0  \n",
       "1          28    843            1  \n",
       "2          29    857            2  \n",
       "3          24    833            5  \n",
       "4          39    825            6  \n",
       "...       ...    ...          ...  \n",
       "111918     59    817       131059  \n",
       "111919     32    821       131060  \n",
       "111920     40    799       131061  \n",
       "111921     26    829       131063  \n",
       "111922     22    807       131067  \n",
       "\n",
       "[111923 rows x 10 columns], 2020-12-03 10:37:49.399781, )"
      ]
     },
     "metadata": {},
     "execution_count": 15
    }
   ],
   "source": [
    "long[150]"
   ]
  },
  {
   "cell_type": "code",
   "execution_count": 52,
   "metadata": {},
   "outputs": [
    {
     "output_type": "stream",
     "name": "stdout",
     "text": [
      "Files written to: /workspaces/test3/accc6956-af0c-4417-a95f-306bf06586ca\n"
     ]
    }
   ],
   "source": [
    "long.to_file(Path(\"/workspaces/test3\"))"
   ]
  },
  {
   "cell_type": "code",
   "execution_count": 60,
   "metadata": {},
   "outputs": [],
   "source": [
    "test_in = lidar.Dataset.from_file(Path(\"/workspaces/test3/accc6956-af0c-4417-a95f-306bf06586ca\"))"
   ]
  },
  {
   "cell_type": "code",
   "execution_count": 69,
   "metadata": {},
   "outputs": [],
   "source": [
    "res = test_in[0].limit(\"x\",-0.1,0)"
   ]
  },
  {
   "cell_type": "code",
   "execution_count": 70,
   "metadata": {},
   "outputs": [
    {
     "output_type": "execute_result",
     "data": {
      "text/plain": [
       "-1.4917657e-05"
      ]
     },
     "metadata": {},
     "execution_count": 70
    }
   ],
   "source": [
    "res.data.x.max()"
   ]
  },
  {
   "cell_type": "code",
   "execution_count": null,
   "metadata": {},
   "outputs": [],
   "source": []
  }
 ]
}