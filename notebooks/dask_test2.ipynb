{
 "metadata": {
  "language_info": {
   "codemirror_mode": {
    "name": "ipython",
    "version": 3
   },
   "file_extension": ".py",
   "mimetype": "text/x-python",
   "name": "python",
   "nbconvert_exporter": "python",
   "pygments_lexer": "ipython3",
   "version": "3.7.4-final"
  },
  "orig_nbformat": 2,
  "kernelspec": {
   "name": "python3",
   "display_name": "Python 3.7.4 64-bit ('base': conda)",
   "metadata": {
    "interpreter": {
     "hash": "98b0a9b7b4eaaa670588a142fd0a9b87eaafe866f1db4228be72b4211d12040f"
    }
   }
  }
 },
 "nbformat": 4,
 "nbformat_minor": 2,
 "cells": [
  {
   "cell_type": "code",
   "execution_count": 1,
   "metadata": {},
   "outputs": [
    {
     "output_type": "stream",
     "name": "stderr",
     "text": [
      "Failed to load Python extension for LZ4 support. LZ4 compression will not be available.\n"
     ]
    }
   ],
   "source": [
    "import lidar\n",
    "import rosbag\n",
    "from pathlib import Path\n",
    "from dask.distributed import Client\n",
    "from dask import delayed\n",
    "import dask.dataframe as dd\n",
    "\n",
    "client = Client()  # start distributed scheduler locally.  Launch dashboard\n",
    "%load_ext autoreload\n",
    "%autoreload 2\n",
    "%config IPCompleter.greedy=True"
   ]
  },
  {
   "cell_type": "code",
   "execution_count": 2,
   "metadata": {},
   "outputs": [],
   "source": [
    "bagfile = \"/workspaces/lidar/tests/testdata/big.bag\""
   ]
  },
  {
   "cell_type": "code",
   "execution_count": 8,
   "metadata": {},
   "outputs": [
    {
     "output_type": "stream",
     "name": "stderr",
     "text": [
      "100%|██████████| 10/10 [00:03<00:00,  2.82it/s]\n"
     ]
    }
   ],
   "source": [
    "test = lidar.Dataset.from_file(Path(bagfile), start_frame_number = 100, end_frame_number = 110)"
   ]
  },
  {
   "cell_type": "code",
   "execution_count": 7,
   "metadata": {},
   "outputs": [
    {
     "output_type": "execute_result",
     "data": {
      "text/plain": [
       "'2020-12-03 10:37:44.596343'"
      ]
     },
     "metadata": {},
     "execution_count": 7
    }
   ],
   "source": [
    "str(test.timestamps[0])"
   ]
  },
  {
   "cell_type": "code",
   "execution_count": 9,
   "metadata": {},
   "outputs": [
    {
     "output_type": "execute_result",
     "data": {
      "text/plain": [
       "'2020-12-03 10:37:44.596343'"
      ]
     },
     "metadata": {},
     "execution_count": 9
    }
   ],
   "source": [
    "str(test.timestamps[0])"
   ]
  },
  {
   "cell_type": "code",
   "execution_count": 15,
   "metadata": {},
   "outputs": [
    {
     "output_type": "stream",
     "name": "stdout",
     "text": [
      "0\nnew chunk 1\n1\n2\n3\n4\n5\n6\n7\n8\n9\n10\nnew chunk 2\n11\n12\n13\n14\n15\n16\n17\n18\n19\n20\nnew chunk 3\n21\n22\n23\n24\n25\n26\n27\n28\n29\n30\nnew chunk 4\n31\n32\n33\n34\n35\n36\n37\n38\n39\n40\nnew chunk 5\n41\n42\n43\n44\n45\n46\n47\n48\n49\n50\nnew chunk 6\n51\n52\n53\n54\n55\n56\n57\n58\n59\n60\nnew chunk 7\n61\n62\n63\n64\n65\n66\n67\n68\n69\n70\nnew chunk 8\n71\n72\n73\n74\n75\n76\n77\n78\n79\n80\nnew chunk 9\n81\n82\n83\n84\n85\n86\n87\n88\n89\n90\nnew chunk 10\n91\n92\n93\n94\n95\n96\n97\n98\n99\n"
     ]
    }
   ],
   "source": [
    "start = 0\n",
    "stop = 100\n",
    "\n",
    "chunksize = 10\n",
    "chunk = 0\n",
    "\n",
    "for i in range(start,stop):\n",
    "    print(i)\n",
    "    if i % chunksize == 0:\n",
    "        chunk = chunk + 1\n",
    "        print(f\"new chunk {chunk}\")\n"
   ]
  },
  {
   "cell_type": "code",
   "execution_count": 8,
   "metadata": {},
   "outputs": [
    {
     "output_type": "stream",
     "name": "stdout",
     "text": [
      "CPU times: user 1.28 ms, sys: 1.09 ms, total: 2.37 ms\nWall time: 1.79 ms\n"
     ]
    }
   ],
   "source": [
    "%%time\n",
    "test = delayed(lidar.Dataset.from_file)(Path(bagfile), start_frame_number = 0, end_frame_number = 100)"
   ]
  },
  {
   "cell_type": "code",
   "execution_count": 9,
   "metadata": {},
   "outputs": [
    {
     "output_type": "stream",
     "name": "stdout",
     "text": [
      "CPU times: user 1.5 s, sys: 1.03 s, total: 2.53 s\nWall time: 34.7 s\n"
     ]
    }
   ],
   "source": [
    "%%time\n",
    "testx = test.compute()"
   ]
  },
  {
   "cell_type": "code",
   "execution_count": 11,
   "metadata": {},
   "outputs": [
    {
     "output_type": "stream",
     "name": "stdout",
     "text": [
      "Files written to: /workspaces/test3/big\n"
     ]
    }
   ],
   "source": [
    "testx.to_file(Path(\"/workspaces/test3\"))"
   ]
  },
  {
   "cell_type": "code",
   "execution_count": 5,
   "metadata": {},
   "outputs": [
    {
     "output_type": "execute_result",
     "data": {
      "text/plain": [
       "Delayed('from_file-a4fbf140-4a9e-45f5-8035-7873bfafb24e')"
      ]
     },
     "metadata": {},
     "execution_count": 5
    }
   ],
   "source": [
    "test"
   ]
  },
  {
   "cell_type": "code",
   "execution_count": 14,
   "metadata": {},
   "outputs": [
    {
     "output_type": "error",
     "ename": "AttributeError",
     "evalue": "'list' object has no attribute 'x'",
     "traceback": [
      "\u001b[0;31m---------------------------------------------------------------------------\u001b[0m",
      "\u001b[0;31mAttributeError\u001b[0m                            Traceback (most recent call last)",
      "\u001b[0;32m<ipython-input-14-b1ef56710e0d>\u001b[0m in \u001b[0;36m<module>\u001b[0;34m\u001b[0m\n\u001b[0;32m----> 1\u001b[0;31m \u001b[0mtestx\u001b[0m\u001b[0;34m.\u001b[0m\u001b[0mdata\u001b[0m\u001b[0;34m.\u001b[0m\u001b[0mx\u001b[0m\u001b[0;34m.\u001b[0m\u001b[0mmax\u001b[0m\u001b[0;34m(\u001b[0m\u001b[0;34m)\u001b[0m\u001b[0;34m.\u001b[0m\u001b[0mcompute\u001b[0m\u001b[0;34m(\u001b[0m\u001b[0;34m)\u001b[0m\u001b[0;34m\u001b[0m\u001b[0;34m\u001b[0m\u001b[0m\n\u001b[0m",
      "\u001b[0;31mAttributeError\u001b[0m: 'list' object has no attribute 'x'"
     ]
    }
   ],
   "source": [
    "testx.data.x.max().compute()"
   ]
  },
  {
   "cell_type": "code",
   "execution_count": 19,
   "metadata": {},
   "outputs": [],
   "source": [
    "data2 = dd.from_delayed(testx.data)"
   ]
  },
  {
   "cell_type": "code",
   "execution_count": 21,
   "metadata": {},
   "outputs": [
    {
     "output_type": "execute_result",
     "data": {
      "text/plain": [
       "1.252312421798706"
      ]
     },
     "metadata": {},
     "execution_count": 21
    }
   ],
   "source": [
    "data2.x.max().compute()"
   ]
  },
  {
   "cell_type": "code",
   "execution_count": 3,
   "metadata": {},
   "outputs": [
    {
     "output_type": "stream",
     "name": "stderr",
     "text": [
      "100%|██████████| 100/100 [00:47<00:00,  2.09it/s]\n"
     ]
    }
   ],
   "source": [
    "\n",
    "test0 = lidar.Dataset.from_file(Path(bagfile), start_frame_number = 0, end_frame_number = 100)\n"
   ]
  },
  {
   "cell_type": "code",
   "execution_count": 4,
   "metadata": {},
   "outputs": [
    {
     "output_type": "stream",
     "name": "stderr",
     "text": [
      "100%|██████████| 99/99 [00:38<00:00,  2.60it/s]\n"
     ]
    }
   ],
   "source": [
    "test1 = lidar.Dataset.from_file(Path(bagfile), start_frame_number = 101, end_frame_number = 200)\n"
   ]
  },
  {
   "cell_type": "code",
   "execution_count": 5,
   "metadata": {},
   "outputs": [
    {
     "output_type": "execute_result",
     "data": {
      "text/plain": [
       "'2020-12-03 10:37:34.313459'"
      ]
     },
     "metadata": {},
     "execution_count": 5
    }
   ],
   "source": [
    "str(test0.start_time)"
   ]
  },
  {
   "cell_type": "code",
   "execution_count": 6,
   "metadata": {},
   "outputs": [
    {
     "output_type": "execute_result",
     "data": {
      "text/plain": [
       "'2020-12-03 10:37:44.733687'"
      ]
     },
     "metadata": {},
     "execution_count": 6
    }
   ],
   "source": [
    "str(test1.start_time)"
   ]
  },
  {
   "cell_type": "code",
   "execution_count": 7,
   "metadata": {},
   "outputs": [],
   "source": [
    "newdat = test0.data + test1.data\n",
    "newtimes = test0.timestamps + test1.timestamps"
   ]
  },
  {
   "cell_type": "code",
   "execution_count": 14,
   "metadata": {},
   "outputs": [],
   "source": [
    "long=lidar.Dataset(data=newdat,timestamps=newtimes)"
   ]
  },
  {
   "cell_type": "code",
   "execution_count": 15,
   "metadata": {},
   "outputs": [
    {
     "output_type": "execute_result",
     "data": {
      "text/plain": [
       "Frame(               x         y         z  intensity         t  reflectivity  ring  \\\n",
       "0       0.804142 -0.043635  0.238854       57.0         0             4     0   \n",
       "1       0.810508 -0.013412  0.231400      117.0         0             8     1   \n",
       "2       0.826164  0.017104  0.227178      113.0         0             8     2   \n",
       "3       0.808924 -0.013357  0.198374       99.0         0             7     5   \n",
       "4       0.802965  0.016287  0.188698      147.0         0            10     6   \n",
       "...          ...       ...       ...        ...       ...           ...   ...   \n",
       "111918  0.802611  0.045460 -0.145731       76.0  99967600             5    51   \n",
       "111919  0.805425 -0.043116 -0.153207       54.0  99967600             4    52   \n",
       "111920  0.783434 -0.013295 -0.156383       95.0  99967600             6    53   \n",
       "111921  0.808345  0.045884 -0.178086       99.0  99967600             7    55   \n",
       "111922  0.779879  0.044118 -0.202711       60.0  99967600             4    59   \n",
       "\n",
       "        noise  range  original_id  \n",
       "0          44    840            0  \n",
       "1          28    843            1  \n",
       "2          29    857            2  \n",
       "3          24    833            5  \n",
       "4          39    825            6  \n",
       "...       ...    ...          ...  \n",
       "111918     59    817       131059  \n",
       "111919     32    821       131060  \n",
       "111920     40    799       131061  \n",
       "111921     26    829       131063  \n",
       "111922     22    807       131067  \n",
       "\n",
       "[111923 rows x 10 columns], 2020-12-03 10:37:49.399781, )"
      ]
     },
     "metadata": {},
     "execution_count": 15
    }
   ],
   "source": [
    "long[150]"
   ]
  },
  {
   "cell_type": "code",
   "execution_count": 17,
   "metadata": {},
   "outputs": [
    {
     "output_type": "stream",
     "name": "stdout",
     "text": [
      "Files written to: /workspaces/test3/5d2dd12e-1bc0-483b-ba8c-259ae0ed8ebd\n"
     ]
    }
   ],
   "source": [
    "long.to_file(Path(\"/workspaces/test3\"))"
   ]
  },
  {
   "cell_type": "code",
   "execution_count": 19,
   "metadata": {},
   "outputs": [
    {
     "output_type": "execute_result",
     "data": {
      "text/plain": [
       "[datetime.datetime(2020, 12, 3, 10, 37, 34, 313459),\n",
       " datetime.datetime(2020, 12, 3, 10, 37, 34, 412553),\n",
       " datetime.datetime(2020, 12, 3, 10, 37, 34, 536845),\n",
       " datetime.datetime(2020, 12, 3, 10, 37, 34, 630067),\n",
       " datetime.datetime(2020, 12, 3, 10, 37, 34, 712737),\n",
       " datetime.datetime(2020, 12, 3, 10, 37, 34, 836352),\n",
       " datetime.datetime(2020, 12, 3, 10, 37, 34, 905691),\n",
       " datetime.datetime(2020, 12, 3, 10, 37, 35, 28042),\n",
       " datetime.datetime(2020, 12, 3, 10, 37, 35, 104652),\n",
       " datetime.datetime(2020, 12, 3, 10, 37, 35, 222942),\n",
       " datetime.datetime(2020, 12, 3, 10, 37, 35, 313279),\n",
       " datetime.datetime(2020, 12, 3, 10, 37, 35, 420649),\n",
       " datetime.datetime(2020, 12, 3, 10, 37, 35, 513883),\n",
       " datetime.datetime(2020, 12, 3, 10, 37, 35, 602300),\n",
       " datetime.datetime(2020, 12, 3, 10, 37, 35, 709296),\n",
       " datetime.datetime(2020, 12, 3, 10, 37, 35, 817900),\n",
       " datetime.datetime(2020, 12, 3, 10, 37, 35, 916231),\n",
       " datetime.datetime(2020, 12, 3, 10, 37, 36, 14869),\n",
       " datetime.datetime(2020, 12, 3, 10, 37, 36, 125972),\n",
       " datetime.datetime(2020, 12, 3, 10, 37, 36, 210672),\n",
       " datetime.datetime(2020, 12, 3, 10, 37, 36, 323276),\n",
       " datetime.datetime(2020, 12, 3, 10, 37, 36, 411106),\n",
       " datetime.datetime(2020, 12, 3, 10, 37, 36, 511266),\n",
       " datetime.datetime(2020, 12, 3, 10, 37, 36, 620927),\n",
       " datetime.datetime(2020, 12, 3, 10, 37, 36, 711574),\n",
       " datetime.datetime(2020, 12, 3, 10, 37, 36, 824477),\n",
       " datetime.datetime(2020, 12, 3, 10, 37, 36, 923512),\n",
       " datetime.datetime(2020, 12, 3, 10, 37, 37, 36766),\n",
       " datetime.datetime(2020, 12, 3, 10, 37, 37, 110645),\n",
       " datetime.datetime(2020, 12, 3, 10, 37, 37, 210618),\n",
       " datetime.datetime(2020, 12, 3, 10, 37, 37, 307838),\n",
       " datetime.datetime(2020, 12, 3, 10, 37, 37, 438788),\n",
       " datetime.datetime(2020, 12, 3, 10, 37, 37, 510964),\n",
       " datetime.datetime(2020, 12, 3, 10, 37, 37, 616196),\n",
       " datetime.datetime(2020, 12, 3, 10, 37, 37, 704958),\n",
       " datetime.datetime(2020, 12, 3, 10, 37, 37, 917030),\n",
       " datetime.datetime(2020, 12, 3, 10, 37, 37, 937306),\n",
       " datetime.datetime(2020, 12, 3, 10, 37, 38, 17513),\n",
       " datetime.datetime(2020, 12, 3, 10, 37, 38, 108084),\n",
       " datetime.datetime(2020, 12, 3, 10, 37, 38, 217775),\n",
       " datetime.datetime(2020, 12, 3, 10, 37, 38, 314984),\n",
       " datetime.datetime(2020, 12, 3, 10, 37, 38, 419293),\n",
       " datetime.datetime(2020, 12, 3, 10, 37, 38, 516531),\n",
       " datetime.datetime(2020, 12, 3, 10, 37, 38, 618909),\n",
       " datetime.datetime(2020, 12, 3, 10, 37, 38, 709873),\n",
       " datetime.datetime(2020, 12, 3, 10, 37, 38, 806493),\n",
       " datetime.datetime(2020, 12, 3, 10, 37, 38, 901865),\n",
       " datetime.datetime(2020, 12, 3, 10, 37, 39, 7051),\n",
       " datetime.datetime(2020, 12, 3, 10, 37, 39, 98728),\n",
       " datetime.datetime(2020, 12, 3, 10, 37, 39, 206012),\n",
       " datetime.datetime(2020, 12, 3, 10, 37, 39, 299974),\n",
       " datetime.datetime(2020, 12, 3, 10, 37, 39, 400118),\n",
       " datetime.datetime(2020, 12, 3, 10, 37, 39, 524906),\n",
       " datetime.datetime(2020, 12, 3, 10, 37, 39, 603119),\n",
       " datetime.datetime(2020, 12, 3, 10, 37, 39, 704091),\n",
       " datetime.datetime(2020, 12, 3, 10, 37, 39, 807003),\n",
       " datetime.datetime(2020, 12, 3, 10, 37, 39, 896734),\n",
       " datetime.datetime(2020, 12, 3, 10, 37, 40, 697),\n",
       " datetime.datetime(2020, 12, 3, 10, 37, 40, 104823),\n",
       " datetime.datetime(2020, 12, 3, 10, 37, 40, 202294),\n",
       " datetime.datetime(2020, 12, 3, 10, 37, 40, 305049),\n",
       " datetime.datetime(2020, 12, 3, 10, 37, 40, 400934),\n",
       " datetime.datetime(2020, 12, 3, 10, 37, 40, 499896),\n",
       " datetime.datetime(2020, 12, 3, 10, 37, 40, 598271),\n",
       " datetime.datetime(2020, 12, 3, 10, 37, 40, 703488),\n",
       " datetime.datetime(2020, 12, 3, 10, 37, 40, 804034),\n",
       " datetime.datetime(2020, 12, 3, 10, 37, 40, 904203),\n",
       " datetime.datetime(2020, 12, 3, 10, 37, 40, 997426),\n",
       " datetime.datetime(2020, 12, 3, 10, 37, 41, 109745),\n",
       " datetime.datetime(2020, 12, 3, 10, 37, 41, 205788),\n",
       " datetime.datetime(2020, 12, 3, 10, 37, 41, 308808),\n",
       " datetime.datetime(2020, 12, 3, 10, 37, 41, 403352),\n",
       " datetime.datetime(2020, 12, 3, 10, 37, 41, 503829),\n",
       " datetime.datetime(2020, 12, 3, 10, 37, 41, 599859),\n",
       " datetime.datetime(2020, 12, 3, 10, 37, 41, 703505),\n",
       " datetime.datetime(2020, 12, 3, 10, 37, 41, 891878),\n",
       " datetime.datetime(2020, 12, 3, 10, 37, 41, 962196),\n",
       " datetime.datetime(2020, 12, 3, 10, 37, 42, 1931),\n",
       " datetime.datetime(2020, 12, 3, 10, 37, 42, 107145),\n",
       " datetime.datetime(2020, 12, 3, 10, 37, 42, 202438),\n",
       " datetime.datetime(2020, 12, 3, 10, 37, 42, 296905),\n",
       " datetime.datetime(2020, 12, 3, 10, 37, 42, 394969),\n",
       " datetime.datetime(2020, 12, 3, 10, 37, 42, 501596),\n",
       " datetime.datetime(2020, 12, 3, 10, 37, 42, 603436),\n",
       " datetime.datetime(2020, 12, 3, 10, 37, 42, 706993),\n",
       " datetime.datetime(2020, 12, 3, 10, 37, 42, 803773),\n",
       " datetime.datetime(2020, 12, 3, 10, 37, 42, 904378),\n",
       " datetime.datetime(2020, 12, 3, 10, 37, 42, 999821),\n",
       " datetime.datetime(2020, 12, 3, 10, 37, 43, 109236),\n",
       " datetime.datetime(2020, 12, 3, 10, 37, 43, 203327),\n",
       " datetime.datetime(2020, 12, 3, 10, 37, 43, 310723),\n",
       " datetime.datetime(2020, 12, 3, 10, 37, 43, 402867),\n",
       " datetime.datetime(2020, 12, 3, 10, 37, 43, 499497),\n",
       " datetime.datetime(2020, 12, 3, 10, 37, 43, 601060),\n",
       " datetime.datetime(2020, 12, 3, 10, 37, 43, 707986),\n",
       " datetime.datetime(2020, 12, 3, 10, 37, 43, 823155),\n",
       " datetime.datetime(2020, 12, 3, 10, 37, 43, 921401),\n",
       " datetime.datetime(2020, 12, 3, 10, 37, 44, 36849),\n",
       " datetime.datetime(2020, 12, 3, 10, 37, 44, 119004),\n",
       " datetime.datetime(2020, 12, 3, 10, 37, 44, 253388),\n",
       " datetime.datetime(2020, 12, 3, 10, 37, 44, 733687),\n",
       " datetime.datetime(2020, 12, 3, 10, 37, 44, 747857),\n",
       " datetime.datetime(2020, 12, 3, 10, 37, 44, 808646),\n",
       " datetime.datetime(2020, 12, 3, 10, 37, 44, 837667),\n",
       " datetime.datetime(2020, 12, 3, 10, 37, 44, 841702),\n",
       " datetime.datetime(2020, 12, 3, 10, 37, 44, 920359),\n",
       " datetime.datetime(2020, 12, 3, 10, 37, 44, 998602),\n",
       " datetime.datetime(2020, 12, 3, 10, 37, 45, 100602),\n",
       " datetime.datetime(2020, 12, 3, 10, 37, 45, 205546),\n",
       " datetime.datetime(2020, 12, 3, 10, 37, 45, 304636),\n",
       " datetime.datetime(2020, 12, 3, 10, 37, 45, 405939),\n",
       " datetime.datetime(2020, 12, 3, 10, 37, 45, 502342),\n",
       " datetime.datetime(2020, 12, 3, 10, 37, 45, 602304),\n",
       " datetime.datetime(2020, 12, 3, 10, 37, 45, 700907),\n",
       " datetime.datetime(2020, 12, 3, 10, 37, 45, 808802),\n",
       " datetime.datetime(2020, 12, 3, 10, 37, 45, 906718),\n",
       " datetime.datetime(2020, 12, 3, 10, 37, 46, 5313),\n",
       " datetime.datetime(2020, 12, 3, 10, 37, 46, 101718),\n",
       " datetime.datetime(2020, 12, 3, 10, 37, 46, 209012),\n",
       " datetime.datetime(2020, 12, 3, 10, 37, 46, 299849),\n",
       " datetime.datetime(2020, 12, 3, 10, 37, 46, 403733),\n",
       " datetime.datetime(2020, 12, 3, 10, 37, 46, 506534),\n",
       " datetime.datetime(2020, 12, 3, 10, 37, 46, 599895),\n",
       " datetime.datetime(2020, 12, 3, 10, 37, 46, 706928),\n",
       " datetime.datetime(2020, 12, 3, 10, 37, 46, 806861),\n",
       " datetime.datetime(2020, 12, 3, 10, 37, 46, 905216),\n",
       " datetime.datetime(2020, 12, 3, 10, 37, 47, 1836),\n",
       " datetime.datetime(2020, 12, 3, 10, 37, 47, 106764),\n",
       " datetime.datetime(2020, 12, 3, 10, 37, 47, 203955),\n",
       " datetime.datetime(2020, 12, 3, 10, 37, 47, 315444),\n",
       " datetime.datetime(2020, 12, 3, 10, 37, 47, 401479),\n",
       " datetime.datetime(2020, 12, 3, 10, 37, 47, 499946),\n",
       " datetime.datetime(2020, 12, 3, 10, 37, 47, 605878),\n",
       " datetime.datetime(2020, 12, 3, 10, 37, 47, 706630),\n",
       " datetime.datetime(2020, 12, 3, 10, 37, 47, 810862),\n",
       " datetime.datetime(2020, 12, 3, 10, 37, 47, 904175),\n",
       " datetime.datetime(2020, 12, 3, 10, 37, 48, 5991),\n",
       " datetime.datetime(2020, 12, 3, 10, 37, 48, 111958),\n",
       " datetime.datetime(2020, 12, 3, 10, 37, 48, 199630),\n",
       " datetime.datetime(2020, 12, 3, 10, 37, 48, 302645),\n",
       " datetime.datetime(2020, 12, 3, 10, 37, 48, 403678),\n",
       " datetime.datetime(2020, 12, 3, 10, 37, 48, 500213),\n",
       " datetime.datetime(2020, 12, 3, 10, 37, 48, 604416),\n",
       " datetime.datetime(2020, 12, 3, 10, 37, 48, 705191),\n",
       " datetime.datetime(2020, 12, 3, 10, 37, 48, 795955),\n",
       " datetime.datetime(2020, 12, 3, 10, 37, 48, 899462),\n",
       " datetime.datetime(2020, 12, 3, 10, 37, 49, 6260),\n",
       " datetime.datetime(2020, 12, 3, 10, 37, 49, 105265),\n",
       " datetime.datetime(2020, 12, 3, 10, 37, 49, 207639),\n",
       " datetime.datetime(2020, 12, 3, 10, 37, 49, 300509),\n",
       " datetime.datetime(2020, 12, 3, 10, 37, 49, 399781),\n",
       " datetime.datetime(2020, 12, 3, 10, 37, 49, 499606),\n",
       " datetime.datetime(2020, 12, 3, 10, 37, 49, 605236),\n",
       " datetime.datetime(2020, 12, 3, 10, 37, 49, 701385),\n",
       " datetime.datetime(2020, 12, 3, 10, 37, 49, 802664),\n",
       " datetime.datetime(2020, 12, 3, 10, 37, 49, 906625),\n",
       " datetime.datetime(2020, 12, 3, 10, 37, 50, 715),\n",
       " datetime.datetime(2020, 12, 3, 10, 37, 50, 112052),\n",
       " datetime.datetime(2020, 12, 3, 10, 37, 50, 209233),\n",
       " datetime.datetime(2020, 12, 3, 10, 37, 50, 305537),\n",
       " datetime.datetime(2020, 12, 3, 10, 37, 50, 404913),\n",
       " datetime.datetime(2020, 12, 3, 10, 37, 50, 503108),\n",
       " datetime.datetime(2020, 12, 3, 10, 37, 50, 605238),\n",
       " datetime.datetime(2020, 12, 3, 10, 37, 50, 704528),\n",
       " datetime.datetime(2020, 12, 3, 10, 37, 50, 804066),\n",
       " datetime.datetime(2020, 12, 3, 10, 37, 50, 901376),\n",
       " datetime.datetime(2020, 12, 3, 10, 37, 51, 142),\n",
       " datetime.datetime(2020, 12, 3, 10, 37, 51, 98630),\n",
       " datetime.datetime(2020, 12, 3, 10, 37, 51, 204738),\n",
       " datetime.datetime(2020, 12, 3, 10, 37, 51, 301554),\n",
       " datetime.datetime(2020, 12, 3, 10, 37, 51, 402440),\n",
       " datetime.datetime(2020, 12, 3, 10, 37, 51, 569021),\n",
       " datetime.datetime(2020, 12, 3, 10, 37, 51, 638193),\n",
       " datetime.datetime(2020, 12, 3, 10, 37, 51, 705646),\n",
       " datetime.datetime(2020, 12, 3, 10, 37, 51, 808006),\n",
       " datetime.datetime(2020, 12, 3, 10, 37, 51, 898004),\n",
       " datetime.datetime(2020, 12, 3, 10, 37, 52, 3021),\n",
       " datetime.datetime(2020, 12, 3, 10, 37, 52, 104587),\n",
       " datetime.datetime(2020, 12, 3, 10, 37, 52, 203047),\n",
       " datetime.datetime(2020, 12, 3, 10, 37, 52, 309184),\n",
       " datetime.datetime(2020, 12, 3, 10, 37, 52, 405927),\n",
       " datetime.datetime(2020, 12, 3, 10, 37, 52, 499928),\n",
       " datetime.datetime(2020, 12, 3, 10, 37, 52, 604710),\n",
       " datetime.datetime(2020, 12, 3, 10, 37, 52, 699098),\n",
       " datetime.datetime(2020, 12, 3, 10, 37, 52, 808621),\n",
       " datetime.datetime(2020, 12, 3, 10, 37, 52, 906363),\n",
       " datetime.datetime(2020, 12, 3, 10, 37, 53, 11655),\n",
       " datetime.datetime(2020, 12, 3, 10, 37, 53, 108693),\n",
       " datetime.datetime(2020, 12, 3, 10, 37, 53, 203161),\n",
       " datetime.datetime(2020, 12, 3, 10, 37, 53, 300619),\n",
       " datetime.datetime(2020, 12, 3, 10, 37, 53, 399853),\n",
       " datetime.datetime(2020, 12, 3, 10, 37, 53, 570342),\n",
       " datetime.datetime(2020, 12, 3, 10, 37, 53, 634630),\n",
       " datetime.datetime(2020, 12, 3, 10, 37, 53, 698422),\n",
       " datetime.datetime(2020, 12, 3, 10, 37, 53, 800904),\n",
       " datetime.datetime(2020, 12, 3, 10, 37, 53, 904123),\n",
       " datetime.datetime(2020, 12, 3, 10, 37, 54, 8898),\n",
       " datetime.datetime(2020, 12, 3, 10, 37, 54, 98492),\n",
       " datetime.datetime(2020, 12, 3, 10, 37, 54, 202841)]"
      ]
     },
     "metadata": {},
     "execution_count": 19
    }
   ],
   "source": [
    "long.timestamps"
   ]
  },
  {
   "cell_type": "code",
   "execution_count": null,
   "metadata": {},
   "outputs": [],
   "source": []
  }
 ]
}