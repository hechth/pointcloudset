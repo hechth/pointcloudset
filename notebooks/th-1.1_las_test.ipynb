{
 "metadata": {
  "language_info": {
   "codemirror_mode": {
    "name": "ipython",
    "version": 3
   },
   "file_extension": ".py",
   "mimetype": "text/x-python",
   "name": "python",
   "nbconvert_exporter": "python",
   "pygments_lexer": "ipython3",
   "version": "3.8.8"
  },
  "orig_nbformat": 2,
  "kernelspec": {
   "name": "python388jvsc74a57bd098b0a9b7b4eaaa670588a142fd0a9b87eaafe866f1db4228be72b4211d12040f",
   "display_name": "Python 3.8.8 64-bit ('base': conda)"
  }
 },
 "nbformat": 4,
 "nbformat_minor": 2,
 "cells": [
  {
   "source": [
    "# Example of how to work with LAS-files\n",
    "## pyntcloud does stuff...\n"
   ],
   "cell_type": "markdown",
   "metadata": {}
  },
  {
   "cell_type": "code",
   "execution_count": 1,
   "metadata": {},
   "outputs": [
    {
     "output_type": "stream",
     "name": "stderr",
     "text": [
      "INFO - 2021-04-20 09:39:55,983 - _logger - Log opened: Tue Apr 20 09:39:55 2021 UTC\n",
      "INFO - 2021-04-20 09:39:56,030 - topics - topicmanager initialized\n",
      "package version: 0.1.7 (dev_0.2.0)\n"
     ]
    }
   ],
   "source": [
    "import lidar\n",
    "print(f\"package version: {lidar.__version__}\")\n",
    "from pathlib import Path\n",
    "import numpy as np"
   ]
  },
  {
   "cell_type": "code",
   "execution_count": 2,
   "metadata": {},
   "outputs": [
    {
     "output_type": "execute_result",
     "data": {
      "text/plain": [
       "<bound method Path.cwd of <class 'pathlib.PosixPath'>>"
      ]
     },
     "metadata": {},
     "execution_count": 2
    }
   ],
   "source": [
    "Path().cwd\n"
   ]
  },
  {
   "cell_type": "code",
   "execution_count": 28,
   "metadata": {},
   "outputs": [
    {
     "output_type": "stream",
     "name": "stdout",
     "text": [
      "/workspaces/lidar/tests/testdata/las_files/testlas2.pcd\n/workspaces/lidar/tests/testdata/las_files/Schoeneben_201022_143031_ouster_segment_smaller.las\n"
     ]
    }
   ],
   "source": [
    "testlas = Path().cwd().parent.joinpath(\"tests/testdata/las_files/testlas2.pcd\")\n",
    "testlas_georef = Path().cwd().parent.joinpath(\"tests/testdata/las_files/testlas_riegl_georeferenced.las\")\n",
    "testlas_big =  Path().cwd().parent.joinpath(\"tests/testdata/las_files/Schoeneben_201022_143031_ouster_segment_smaller.las\")\n",
    "print(testlas)\n",
    "print(testlas_big)"
   ]
  },
  {
   "cell_type": "code",
   "execution_count": 29,
   "metadata": {},
   "outputs": [
    {
     "output_type": "execute_result",
     "data": {
      "text/plain": [
       "Frame(        Amplitude  Reflectance  Deviation    GpsTime            x  \\\n",
       "0          3162.0       -464.0        2.0   0.000000  551157.3750   \n",
       "1          3194.0       -432.0        8.0  -0.142029  551157.3750   \n",
       "2          3022.0       -605.0       18.0  -0.321106  551157.3125   \n",
       "3          2920.0       -710.0       34.0  -0.463196  551157.3125   \n",
       "4          2903.0       -725.0       27.0  -0.784302  551157.2500   \n",
       "...           ...          ...        ...        ...          ...   \n",
       "102231      381.0      -3273.0        2.0 -22.799316  551155.5625   \n",
       "102232     1415.0      -2238.0        2.0 -23.119568  551155.4375   \n",
       "102233     1339.0      -2312.0        3.0 -23.222351  551155.4375   \n",
       "102234     2937.0       -713.0        4.0 -23.440247  551155.4375   \n",
       "102235      811.0      -2839.0        3.0 -23.542969  551155.4375   \n",
       "\n",
       "                    y            z  __0000  __0001  __0002  __0003  \n",
       "0       249120.718750  1831.081421       0       0       0       0  \n",
       "1       249120.734375  1831.079834       0       0       0       0  \n",
       "2       249120.750000  1831.083008       0       0       0       0  \n",
       "3       249120.750000  1831.081177       0       0       0       0  \n",
       "4       249120.765625  1831.076416       0       0       0       0  \n",
       "...               ...          ...     ...     ...     ...     ...  \n",
       "102231  249123.125000  1842.785767       0       0       0       0  \n",
       "102232  249123.125000  1842.604614       0       0       0       0  \n",
       "102233  249123.125000  1842.612549       0       0       0       0  \n",
       "102234  249123.140625  1842.625732       0       0       0       0  \n",
       "102235  249123.171875  1842.611206       0       0       0       0  \n",
       "\n",
       "[102236 rows x 11 columns], 0, /workspaces/lidar/tests/testdata/las_files/testlas2.pcd)"
      ]
     },
     "metadata": {},
     "execution_count": 29
    }
   ],
   "source": [
    "las_frame = lidar.frame_from_file(testlas)\n",
    "las_frame"
   ]
  },
  {
   "cell_type": "code",
   "execution_count": 10,
   "metadata": {},
   "outputs": [
    {
     "output_type": "execute_result",
     "data": {
      "text/plain": [
       "0.5"
      ]
     },
     "metadata": {},
     "execution_count": 10
    }
   ],
   "source": [
    "np.array([0, 1]).std()"
   ]
  },
  {
   "cell_type": "code",
   "execution_count": null,
   "metadata": {},
   "outputs": [],
   "source": []
  }
 ]
}